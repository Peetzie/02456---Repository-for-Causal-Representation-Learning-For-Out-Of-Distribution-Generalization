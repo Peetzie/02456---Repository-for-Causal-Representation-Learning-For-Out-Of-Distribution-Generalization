{
 "cells": [
  {
   "cell_type": "markdown",
   "metadata": {},
   "source": [
    "# PC algorithm"
   ]
  },
  {
   "cell_type": "code",
   "execution_count": 27,
   "metadata": {},
   "outputs": [],
   "source": [
    "import numpy as np\n",
    "import pandas as pd\n",
    "import cdt\n",
    "cdt.SETTINGS.rpath = \"C:/PROGRA~1/R/R-42~1.2/bin/x64/Rscript\"\n",
    "# cdt.SETTINGS.rpath = \"C:/Program Files/R/R-4.2.2/bin/x64/Rscript\"\n",
    "# cdt.SETTINGS.rpath = \"C:/Users/bends/OneDrive/Skrivebord/R_PCalg.R\"\n",
    "# cdt.SETTINGS.rpath = '/usr/local/bin/Rscript' # this path should point to your own R implementation !\n",
    "from cdt.causality.graph import PC\n",
    "import networkx as nx\n",
    "import matplotlib.pyplot as plt\n",
    "\n",
    "def simulate_data(n_obs):\n",
    "    '''\n",
    "    Simulate data from the following graph\n",
    "\n",
    "        A       B\n",
    "         \\     /\n",
    "          v   v\n",
    "            C\n",
    "          /   \\\n",
    "         v     v\n",
    "        D       E\n",
    "    '''\n",
    "    A = np.random.normal(size = n_obs)\n",
    "    B = np.random.normal(size = n_obs)\n",
    "    C = A + B + np.random.normal(size = n_obs)*0.25\n",
    "    D = C + np.random.normal(size = n_obs)*0.25\n",
    "    E = C + np.random.normal(size = n_obs)*0.25\n",
    "    return np.stack((A,B,C,D,E), axis =1)\n",
    "\n",
    "# generate data\n",
    "n = 10000\n",
    "data = simulate_data(n)\n",
    "\n",
    "permutation = [0,1,2,3,4]\n",
    "names = np.array([\"A\",\"B\", \"C\", \"D\", \"E\"])\n",
    "data_df = pd.DataFrame(data, columns = names)\n",
    "pc_test = PC(CItest = 'gaussian', alpha = 0.05, verbose=True).create_graph_from_data(data_df[names[permutation]])\n",
    "\n",
    "nx.draw(pc_test, with_labels=True, font_weight='bold')\n",
    "plt.show()"
   ]
  },
  {
   "cell_type": "code",
   "execution_count": 7,
   "metadata": {},
   "outputs": [
    {
     "data": {
      "text/plain": [
       "['init: False', 'pcalg: True', 'kpcalg: True', 'bnlearn: True', 'sparsebn: False', 'D2C: False', 'SID: False', 'CAM: False', 'RCIT: True']"
      ]
     },
     "execution_count": 7,
     "metadata": {},
     "output_type": "execute_result"
    }
   ],
   "source": [
    "#Check the packages\n",
    "cdt.utils.R.DefaultRPackages()"
   ]
  },
  {
   "cell_type": "code",
   "execution_count": 24,
   "metadata": {},
   "outputs": [
    {
     "data": {
      "text/plain": [
       "<bound method Graph.get_edge_data of <networkx.classes.digraph.DiGraph object at 0x00000255802452E0>>"
      ]
     },
     "execution_count": 24,
     "metadata": {},
     "output_type": "execute_result"
    }
   ],
   "source": [
    "pc_test.get_edge_data"
   ]
  },
  {
   "cell_type": "code",
   "execution_count": 31,
   "metadata": {},
   "outputs": [
    {
     "data": {
      "text/plain": [
       "OutEdgeView([('A', 'C'), ('B', 'C'), ('C', 'D'), ('C', 'E')])"
      ]
     },
     "execution_count": 31,
     "metadata": {},
     "output_type": "execute_result"
    }
   ],
   "source": [
    "pc_test."
   ]
  }
 ],
 "metadata": {
  "kernelspec": {
   "display_name": "Python 3.8.13 ('test')",
   "language": "python",
   "name": "python3"
  },
  "language_info": {
   "codemirror_mode": {
    "name": "ipython",
    "version": 3
   },
   "file_extension": ".py",
   "mimetype": "text/x-python",
   "name": "python",
   "nbconvert_exporter": "python",
   "pygments_lexer": "ipython3",
   "version": "3.8.13"
  },
  "orig_nbformat": 4,
  "vscode": {
   "interpreter": {
    "hash": "80727adce94dff893335533ad5af2f77f07d43ff5a93585bc40bd13760f14654"
   }
  }
 },
 "nbformat": 4,
 "nbformat_minor": 2
}
