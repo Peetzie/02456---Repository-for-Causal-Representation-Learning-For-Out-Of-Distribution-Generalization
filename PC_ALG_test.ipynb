{
 "cells": [
  {
   "cell_type": "markdown",
   "metadata": {},
   "source": [
    "# PC algorithm"
   ]
  },
  {
   "cell_type": "code",
   "execution_count": 3,
   "metadata": {},
   "outputs": [
    {
     "ename": "ImportError",
     "evalue": "R Package (k)pcalg/RCIT is not available. RCIT has to be installed from https://github.com/Diviyan-Kalainathan/RCIT",
     "output_type": "error",
     "traceback": [
      "\u001b[1;31m---------------------------------------------------------------------------\u001b[0m",
      "\u001b[1;31mImportError\u001b[0m                               Traceback (most recent call last)",
      "Cell \u001b[1;32mIn [3], line 38\u001b[0m\n\u001b[0;32m     36\u001b[0m names \u001b[39m=\u001b[39m np\u001b[39m.\u001b[39marray([\u001b[39m\"\u001b[39m\u001b[39mA\u001b[39m\u001b[39m\"\u001b[39m,\u001b[39m\"\u001b[39m\u001b[39mB\u001b[39m\u001b[39m\"\u001b[39m, \u001b[39m\"\u001b[39m\u001b[39mC\u001b[39m\u001b[39m\"\u001b[39m, \u001b[39m\"\u001b[39m\u001b[39mD\u001b[39m\u001b[39m\"\u001b[39m, \u001b[39m\"\u001b[39m\u001b[39mE\u001b[39m\u001b[39m\"\u001b[39m])\n\u001b[0;32m     37\u001b[0m data_df \u001b[39m=\u001b[39m pd\u001b[39m.\u001b[39mDataFrame(data, columns \u001b[39m=\u001b[39m names)\n\u001b[1;32m---> 38\u001b[0m pc_test \u001b[39m=\u001b[39m PC(CItest \u001b[39m=\u001b[39;49m \u001b[39m'\u001b[39;49m\u001b[39mgaussian\u001b[39;49m\u001b[39m'\u001b[39;49m, alpha \u001b[39m=\u001b[39;49m \u001b[39m0.05\u001b[39;49m, verbose\u001b[39m=\u001b[39;49m\u001b[39mFalse\u001b[39;49;00m)\u001b[39m.\u001b[39mcreate_graph_from_data(data_df[names[permutation]])\n\u001b[0;32m     40\u001b[0m nx\u001b[39m.\u001b[39mdraw(pc_test, with_labels\u001b[39m=\u001b[39m\u001b[39mTrue\u001b[39;00m, font_weight\u001b[39m=\u001b[39m\u001b[39m'\u001b[39m\u001b[39mbold\u001b[39m\u001b[39m'\u001b[39m)\n\u001b[0;32m     41\u001b[0m plt\u001b[39m.\u001b[39mshow()\n",
      "File \u001b[1;32mc:\\Users\\bends\\anaconda3\\envs\\test\\lib\\site-packages\\cdt\\causality\\graph\\PC.py:176\u001b[0m, in \u001b[0;36mPC.__init__\u001b[1;34m(self, CItest, method_indep, alpha, njobs, verbose)\u001b[0m\n\u001b[0;32m    174\u001b[0m \u001b[39m\"\"\"Init the model and its available arguments.\"\"\"\u001b[39;00m\n\u001b[0;32m    175\u001b[0m \u001b[39mif\u001b[39;00m \u001b[39mnot\u001b[39;00m (RPackages\u001b[39m.\u001b[39mpcalg \u001b[39mand\u001b[39;00m RPackages\u001b[39m.\u001b[39mkpcalg \u001b[39mand\u001b[39;00m RPackages\u001b[39m.\u001b[39mRCIT):\n\u001b[1;32m--> 176\u001b[0m     \u001b[39mraise\u001b[39;00m \u001b[39mImportError\u001b[39;00m(\u001b[39m\"\u001b[39m\u001b[39mR Package (k)pcalg/RCIT is not available. \u001b[39m\u001b[39m\"\u001b[39m\n\u001b[0;32m    177\u001b[0m                       \u001b[39m\"\u001b[39m\u001b[39mRCIT has to be installed from \u001b[39m\u001b[39m\"\u001b[39m\n\u001b[0;32m    178\u001b[0m                       \u001b[39m\"\u001b[39m\u001b[39mhttps://github.com/Diviyan-Kalainathan/RCIT\u001b[39m\u001b[39m\"\u001b[39m)\n\u001b[0;32m    180\u001b[0m \u001b[39msuper\u001b[39m(PC, \u001b[39mself\u001b[39m)\u001b[39m.\u001b[39m\u001b[39m__init__\u001b[39m()\n\u001b[0;32m    181\u001b[0m \u001b[39mself\u001b[39m\u001b[39m.\u001b[39mdir_CI_test \u001b[39m=\u001b[39m {\u001b[39m'\u001b[39m\u001b[39mbinary\u001b[39m\u001b[39m'\u001b[39m: \u001b[39m\"\u001b[39m\u001b[39mpcalg::binCItest\u001b[39m\u001b[39m\"\u001b[39m, \u001b[39m# ic.method=\\\"dcc\\\"\",\u001b[39;00m\n\u001b[0;32m    182\u001b[0m                          \u001b[39m'\u001b[39m\u001b[39mdiscrete\u001b[39m\u001b[39m'\u001b[39m: \u001b[39m\"\u001b[39m\u001b[39mpcalg::disCItest\u001b[39m\u001b[39m\"\u001b[39m,\n\u001b[0;32m    183\u001b[0m                          \u001b[39m'\u001b[39m\u001b[39mhsic_gamma\u001b[39m\u001b[39m'\u001b[39m: \u001b[39m\"\u001b[39m\u001b[39mkpcalg::kernelCItest\u001b[39m\u001b[39m\"\u001b[39m,\n\u001b[1;32m   (...)\u001b[0m\n\u001b[0;32m    187\u001b[0m                          \u001b[39m'\u001b[39m\u001b[39mrcit\u001b[39m\u001b[39m'\u001b[39m: \u001b[39m\"\u001b[39m\u001b[39mRCIT:::CItest\u001b[39m\u001b[39m\"\u001b[39m,\n\u001b[0;32m    188\u001b[0m                          \u001b[39m'\u001b[39m\u001b[39mrcot\u001b[39m\u001b[39m'\u001b[39m: \u001b[39m\"\u001b[39m\u001b[39mRCIT:::CItest\u001b[39m\u001b[39m\"\u001b[39m}\n",
      "\u001b[1;31mImportError\u001b[0m: R Package (k)pcalg/RCIT is not available. RCIT has to be installed from https://github.com/Diviyan-Kalainathan/RCIT"
     ]
    }
   ],
   "source": [
    "import numpy as np\n",
    "import pandas as pd\n",
    "import cdt\n",
    "cdt.SETTINGS.rpath = 'C:/PROGRA~1/R/R-41~1.1/bin/x64/R'\n",
    "# cdt.SETTINGS.rpath = \"C:/Program Files/R/R-4.1.1/bin/x64/Rscript\"\n",
    "# cdt.SETTINGS.rpath = \"C:/Users/bends/OneDrive/Skrivebord/R_PCalg.R\"\n",
    "# cdt.SETTINGS.rpath = '/usr/local/bin/Rscript' # this path should point to your own R implementation !\n",
    "from cdt.causality.graph import PC\n",
    "import networkx as nx\n",
    "import matplotlib.pyplot as plt\n",
    "\n",
    "def simulate_data(n_obs):\n",
    "    '''\n",
    "    Simulate data from the following graph\n",
    "\n",
    "        A       B\n",
    "         \\     /\n",
    "          v   v\n",
    "            C\n",
    "          /   \\\n",
    "         v     v\n",
    "        D       E\n",
    "    '''\n",
    "    A = np.random.normal(size = n_obs)\n",
    "    B = np.random.normal(size = n_obs)\n",
    "    C = A + B + np.random.normal(size = n_obs)*0.25\n",
    "    D = C + np.random.normal(size = n_obs)*0.25\n",
    "    E = C + np.random.normal(size = n_obs)*0.25\n",
    "    return np.stack((A,B,C,D,E), axis =1)\n",
    "\n",
    "# generate data\n",
    "n = 10000\n",
    "data = simulate_data(n)\n",
    "\n",
    "permutation = [0,1,2,3,4]\n",
    "names = np.array([\"A\",\"B\", \"C\", \"D\", \"E\"])\n",
    "data_df = pd.DataFrame(data, columns = names)\n",
    "pc_test = PC(CItest = 'gaussian', alpha = 0.05, verbose=False).create_graph_from_data(data_df[names[permutation]])\n",
    "\n",
    "nx.draw(pc_test, with_labels=True, font_weight='bold')\n",
    "plt.show()"
   ]
  },
  {
   "cell_type": "code",
   "execution_count": 6,
   "metadata": {},
   "outputs": [
    {
     "ename": "SyntaxError",
     "evalue": "invalid syntax (3754130951.py, line 1)",
     "output_type": "error",
     "traceback": [
      "\u001b[1;36m  Cell \u001b[1;32mIn [6], line 1\u001b[1;36m\u001b[0m\n\u001b[1;33m    $ git clone https://github.com/FenTechSolutions/CausalDiscoveryToolbox.git  # Download the package\u001b[0m\n\u001b[1;37m    ^\u001b[0m\n\u001b[1;31mSyntaxError\u001b[0m\u001b[1;31m:\u001b[0m invalid syntax\n"
     ]
    }
   ],
   "source": [
    "$ git clone https://github.com/FenTechSolutions/CausalDiscoveryToolbox.git  # Download the package \n",
    "$ cd CausalDiscoveryToolbox\n",
    "$ pip install -r requirements.txt  # Install the requirements\n",
    "$ python setup.py install develop --user"
   ]
  },
  {
   "cell_type": "code",
   "execution_count": 12,
   "metadata": {},
   "outputs": [
    {
     "data": {
      "text/plain": [
       "['init: False', 'pcalg: False', 'kpcalg: False', 'bnlearn: True', 'sparsebn: False', 'D2C: False', 'SID: False', 'CAM: False', 'RCIT: True']"
      ]
     },
     "execution_count": 12,
     "metadata": {},
     "output_type": "execute_result"
    }
   ],
   "source": [
    "import numpy as np\n",
    "import pandas as pd\n",
    "import cdt\n",
    "cdt.SETTINGS.rpath = 'C:/PROGRA~1/R/R-41~1.1/bin/x64/Rscript'\n",
    "# cdt.SETTINGS.rpath = \"C:/Program Files/R/R-4.1.1/bin/x64/Rscript\"\n",
    "# cdt.SETTINGS.rpath = \"C:/Users/bends/OneDrive/Skrivebord/R_PCalg.R\"\n",
    "# cdt.SETTINGS.rpath = '/usr/local/bin/Rscript' # this path should point to your own R implementation !\n",
    "from cdt.causality.graph import PC\n",
    "import networkx as nx\n",
    "import matplotlib.pyplot as plt\n",
    "cdt.utils.R.DefaultRPackages()"
   ]
  }
 ],
 "metadata": {
  "kernelspec": {
   "display_name": "Python 3.8.13 ('test')",
   "language": "python",
   "name": "python3"
  },
  "language_info": {
   "codemirror_mode": {
    "name": "ipython",
    "version": 3
   },
   "file_extension": ".py",
   "mimetype": "text/x-python",
   "name": "python",
   "nbconvert_exporter": "python",
   "pygments_lexer": "ipython3",
   "version": "3.8.13"
  },
  "orig_nbformat": 4,
  "vscode": {
   "interpreter": {
    "hash": "80727adce94dff893335533ad5af2f77f07d43ff5a93585bc40bd13760f14654"
   }
  }
 },
 "nbformat": 4,
 "nbformat_minor": 2
}
