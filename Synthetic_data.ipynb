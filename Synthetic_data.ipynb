{
 "cells": [
  {
   "cell_type": "markdown",
   "metadata": {},
   "source": [
    "# Synthetic Data"
   ]
  },
  {
   "cell_type": "code",
   "execution_count": 2,
   "metadata": {},
   "outputs": [],
   "source": [
    "import numpy as np\n",
    "import torch\n",
    "import torch.nn as nn\n",
    "import torch.functional as F\n",
    "from torch.distributions import Distribution\n",
    "import torch.distributions as dist\n",
    "from torch.utils.data import Dataset, DataLoader"
   ]
  },
  {
   "cell_type": "code",
   "execution_count": 3,
   "metadata": {},
   "outputs": [],
   "source": [
    "class SynthNN(nn.Module):\n",
    "    def __init__(self, hidden_size = 6):\n",
    "        super().__init__()\n",
    "        self.function = nn.Sequential(\n",
    "            nn.Linear(in_features=3, out_features=hidden_size),\n",
    "            nn.ReLU(),\n",
    "            nn.Linear(in_features=hidden_size, out_features=10),\n",
    "        )\n",
    "    def forward(self, Z):\n",
    "        return self.function(Z)\n",
    "\n",
    "\n",
    "def simulate_synthetic_data(samples, function):\n",
    "    envs = np.array([0.2, 2, 3, 5])\n",
    "    E = np.random.choice([0,1,2,3], size = samples)\n",
    "\n",
    "    env = envs[E]\n",
    "    Z1 = env + np.random.normal(0, 1, size = samples)\n",
    "    Z2 = 2*env + np.random.normal(0, np.sqrt(2), size = samples)\n",
    "    Y = Z1 + Z2 + np.random.normal(0, 1, size = samples)\n",
    "    Z3 = Y + np.random.normal(0, 1, size = samples)\n",
    "    Z = np.stack([Z1, Z2, Z3], axis = 1)\n",
    "\n",
    "    if function == 'identity':\n",
    "        X = Z\n",
    "    elif function == 'linear':\n",
    "        S = np.random.normal(size = (2,10))\n",
    "        X = Z@S\n",
    "    elif function == 'nonlinear':\n",
    "        synthnn = SynthNN()\n",
    "        X = synthnn(torch.tensor(Z).float()).detach().numpy()\n",
    "    \n",
    "    return X, Y, E, Z, env"
   ]
  },
  {
   "cell_type": "code",
   "execution_count": 6,
   "metadata": {},
   "outputs": [],
   "source": [
    "model = SynthNN()\n",
    "x, y, e, z, env = simulate_synthetic_data(100, \"nonlinear\")"
   ]
  },
  {
   "cell_type": "code",
   "execution_count": 14,
   "metadata": {},
   "outputs": [],
   "source": [
    "class EnvDataset(Dataset):\n",
    "    def __init__(self, X, Y, E):\n",
    "        super().__init__()\n",
    "        self.X = torch.tensor(X)\n",
    "        self.Y = torch.tensor(Y).unsqueeze(1)\n",
    "        E = torch.tensor(E) #From Peter\n",
    "        # self.E = torch.nn.functional.one_hot(torch.tensor(E))\n",
    "        self.E = torch.nn.functional.one_hot(E.long())\n",
    "    \n",
    "    def __getitem__(self, index):\n",
    "        return self.X[index], self.Y[index], self.E[index] \n",
    "    \n",
    "    def __len__(self):\n",
    "        return(len(self.X))"
   ]
  },
  {
   "cell_type": "markdown",
   "metadata": {},
   "source": [
    "## Generate data"
   ]
  },
  {
   "cell_type": "code",
   "execution_count": 15,
   "metadata": {},
   "outputs": [],
   "source": [
    "torch.manual_seed(1)\n",
    "X, Y, envs, Z, E = simulate_synthetic_data(8000, 'nonlinear')\n",
    "dset = EnvDataset(X[:4000],Y[:4000],envs[:4000])\n",
    "train_loader = DataLoader(dset, batch_size=128, drop_last=True)\n",
    "dset = EnvDataset(X[4000:],Y[4000:],envs[4000:])\n",
    "test_loader = DataLoader(dset, batch_size=128, drop_last=True)"
   ]
  }
 ],
 "metadata": {
  "kernelspec": {
   "display_name": "Python 3.8.13 ('test')",
   "language": "python",
   "name": "python3"
  },
  "language_info": {
   "codemirror_mode": {
    "name": "ipython",
    "version": 3
   },
   "file_extension": ".py",
   "mimetype": "text/x-python",
   "name": "python",
   "nbconvert_exporter": "python",
   "pygments_lexer": "ipython3",
   "version": "3.8.13"
  },
  "orig_nbformat": 4,
  "vscode": {
   "interpreter": {
    "hash": "80727adce94dff893335533ad5af2f77f07d43ff5a93585bc40bd13760f14654"
   }
  }
 },
 "nbformat": 4,
 "nbformat_minor": 2
}
