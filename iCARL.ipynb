{
 "cells": [
  {
   "cell_type": "markdown",
   "metadata": {},
   "source": [
    "# Invariant causal representation learning for out-of-distribution generalization\n",
    "Implementation of: https://openreview.net/pdf?id=-e4EXDWXnSn"
   ]
  },
  {
   "cell_type": "code",
   "execution_count": 1,
   "metadata": {},
   "outputs": [],
   "source": [
    "import numpy as np\n",
    "import torch\n",
    "import torch.nn as nn\n",
    "import torch.functional as F\n",
    "from torch.distributions import Distribution\n",
    "import torch.distributions as dist"
   ]
  },
  {
   "cell_type": "code",
   "execution_count": 2,
   "metadata": {},
   "outputs": [],
   "source": [
    "class SynthNN(nn.Module):\n",
    "    def __init__(self, hidden_size = 6):\n",
    "        super().__init__()\n",
    "        self.function = nn.Sequential(\n",
    "            nn.Linear(in_features=2, out_features=hidden_size),\n",
    "            nn.ReLU(),\n",
    "            nn.Linear(in_features=hidden_size, out_features=10),\n",
    "        )\n",
    "    def forward(self, Z):\n",
    "        return self.function(Z)\n",
    "\n",
    "\n",
    "def simulate_synthetic_data(samples, function):\n",
    "    envs = np.array([0.2, 2, 3, 5])\n",
    "    E = np.random.choice([0,1,2,3], size = samples)\n",
    "\n",
    "    env = envs[E]\n",
    "    Z1 = env + np.random.normal(0, 1, size = samples)\n",
    "    Z2 = 2*env + np.random.normal(0, np.sqrt(2), size = samples)\n",
    "    Y = Z1 + Z2 + np.random.normal(0, 1, size = samples)\n",
    "    Z = np.stack([Z1, Z2], axis = 1)\n",
    "\n",
    "    if function == 'identity':\n",
    "        X = Z\n",
    "    elif function == 'linear':\n",
    "        S = np.random.normal(size = (2,10))\n",
    "        X = Z@S\n",
    "    elif function == 'nonlinear':\n",
    "        synthnn = SynthNN()\n",
    "        X = synthnn(torch.tensor(Z).float()).detach().numpy()\n",
    "    \n",
    "    return X, Y, E, Z, env"
   ]
  },
  {
   "cell_type": "code",
   "execution_count": 3,
   "metadata": {},
   "outputs": [],
   "source": [
    "class Encoder(nn.Module):\n",
    "    def __init__(self, input_size, output_size) -> None:\n",
    "        super().__init__()\n",
    "        self.linear = nn.Linear(in_features=input_size, out_features=6)\n",
    "        self.relu = nn.ReLU()\n",
    "        self.output = nn.Linear(in_features=6, out_features=2*output_size)\n",
    "    def forward(self, x):\n",
    "        x = self.linear(x)\n",
    "        x = self.relu(x)\n",
    "        z = self.output(x)\n",
    "        return z.chunk(2, dim = -1)\n",
    "\n",
    "class Decoder(nn.Module):\n",
    "    def __init__(self, input_size, output_size) -> None:\n",
    "        super().__init__()\n",
    "        self.linear = nn.Linear(in_features=input_size, out_features=6)\n",
    "        self.relu = nn.ReLU()\n",
    "        self.output = nn.Linear(in_features=6, out_features=output_size)\n",
    "        \n",
    "    def forward(self, z):\n",
    "        z = self.linear(z)\n",
    "        z = self.relu(z)\n",
    "        mean = self.output(z)\n",
    "        return mean\n",
    "\n",
    "class NLPrior(nn.Module):\n",
    "    def __init__(self, input_size, output_size) -> None:\n",
    "        super().__init__()\n",
    "        self.function = nn.Sequential(\n",
    "            nn.Linear(in_features=input_size, out_features=6),\n",
    "            nn.ReLU(),\n",
    "            nn.Linear(in_features=6, out_features=output_size*2)\n",
    "        )\n",
    "    def forward(self, x):\n",
    "        return self.function(x).chunk(2, axis = -1)\n",
    "\n",
    "class NLClassifier(nn.Module):\n",
    "    def __init__(self, input_size, output_size) -> None:\n",
    "        super().__init__()\n",
    "        self.function = nn.Sequential(\n",
    "            nn.Linear(in_features=input_size, out_features=6),\n",
    "            nn.ReLU(),\n",
    "            nn.Linear(in_features=6, out_features=output_size),\n",
    "            nn.Softmax(dim = -1)\n",
    "        )\n",
    "    def forward(self, x):\n",
    "        return self.function(x)\n",
    "\n",
    "\n",
    "class Normal_dist(Distribution):\n",
    "    def __init__(self, device='cpu'):\n",
    "        super().__init__()\n",
    "        self.device = device\n",
    "        self.c = 2 * np.pi * torch.ones(1).to(self.device)\n",
    "        self._dist = dist.normal.Normal(torch.zeros(1).to(self.device), torch.ones(1).to(self.device))\n",
    "        self.name = 'gauss'\n",
    "\n",
    "    def sample(self, mu, v):\n",
    "        with torch.no_grad():\n",
    "            eps = self._dist.sample(mu.size()).squeeze()\n",
    "        scaled = eps.mul(v.sqrt())\n",
    "        return scaled.add(mu)\n",
    "\n",
    "    def log_pdf(self, x, mu, v, reduce=True, param_shape=None):\n",
    "        \"\"\"compute the log-pdf of a normal distribution with diagonal covariance\"\"\"\n",
    "        if param_shape is not None:\n",
    "            mu, v = mu.view(param_shape), v.view(param_shape)\n",
    "        lpdf = -0.5 * (torch.log(self.c) + v.log() + (x - mu).pow(2).div(v))\n",
    "        if reduce:\n",
    "            return lpdf.sum(dim=-1)\n",
    "        else:\n",
    "            return lpdf"
   ]
  },
  {
   "cell_type": "code",
   "execution_count": 4,
   "metadata": {},
   "outputs": [],
   "source": [
    "class generalNFprior(nn.Module):\n",
    "    def __init__(self, hidden_dim, ye_dim, output_size, TNN, lambdaNN, lambdaf):\n",
    "        super().__init__()\n",
    "        self.TNN = TNN(hidden_dim, output_size)\n",
    "        self.lambdaNN = lambdaNN(ye_dim, output_size)\n",
    "        self.lambdaf = lambdaf(ye_dim, hidden_dim * 2)\n",
    "\n",
    "    def forward(self, z, ye):\n",
    "        TNN_params, _ = self.TNN(z)\n",
    "        lambdaNN_params, _ = self.lambdaNN(ye)\n",
    "        lambdaf_params, _ = self.lambdaf(ye)\n",
    "\n",
    "        return TNN_params, lambdaNN_params, lambdaf_params\n",
    "    \n",
    "    def log_pdf(self, z, TNN_params, lambdaNN_params, lambdaf_params, reduce = True):\n",
    "        nn_ = (TNN_params*lambdaNN_params).sum(dim = 1)\n",
    "        z_cat = torch.cat((z, z.pow(2)), dim = 1)\n",
    "        f_ = (z_cat * lambdaf_params).sum(dim = 1)\n",
    "\n",
    "        return nn_ + f_"
   ]
  },
  {
   "cell_type": "code",
   "execution_count": 5,
   "metadata": {},
   "outputs": [],
   "source": [
    "class iCARL_NF_iVAE(nn.Module):\n",
    "    def __init__(self, input_dim, hidden_dim, y_dim, e_dim, encoder, decoder, priorNN, prior_output = 1, device = 'cpu') -> None:\n",
    "        super().__init__()\n",
    "        self.encoder = encoder(input_dim + y_dim + e_dim, hidden_dim).to(device)\n",
    "        self.decoder = decoder(hidden_dim, input_dim).to(device)\n",
    "        self.prior = generalNFprior(hidden_dim, y_dim+e_dim, prior_output, priorNN, priorNN, priorNN)\n",
    "\n",
    "        self.decoder_var = 0.01*torch.ones(1).to(device)\n",
    "        self.encoder_dist = Normal_dist(device = device)\n",
    "        self.decoder_dist = Normal_dist(device = device)\n",
    "    \n",
    "    def encoder_params(self, x, y, e):\n",
    "        xye = torch.cat((x, y, e), 1)\n",
    "        g, logv = self.encoder(xye)\n",
    "        return g, logv.exp()\n",
    "    \n",
    "    def decoder_params(self, z):\n",
    "        f = self.decoder(z)\n",
    "        return f, self.decoder_var\n",
    "    \n",
    "    def prior_params(self, z, y, e):\n",
    "        ye = torch.cat((y,e), 1)\n",
    "        TNN_params, lambdaNN_params, lambdaf_params = self.prior(z, ye)\n",
    "\n",
    "        return TNN_params, lambdaNN_params, lambdaf_params\n",
    "\n",
    "    def forward(self, x, y, e):\n",
    "        encoder_params = self.encoder_params(x, y, e)\n",
    "\n",
    "        z = self.encoder_dist.sample(*encoder_params)\n",
    "        \n",
    "        decoder_params = self.decoder_params(z)\n",
    "\n",
    "        return decoder_params, encoder_params, z\n",
    "    \n",
    "    def elbo(self, x, y, e):\n",
    "\n",
    "        decoder_params, encoder_params, z = self.forward(x, y, e)\n",
    "        log_px_z = self.decoder_dist.log_pdf(x, *decoder_params)\n",
    "        log_qz_xye = self.encoder_dist.log_pdf(z, *encoder_params)\n",
    "        \n",
    "        z_temp = z.detach().requires_grad_(requires_grad = True)\n",
    "        prior_params = self.prior_params(z_temp, y.detach(), e.detach())\n",
    "        pz_ye = self.prior.log_pdf(z_temp, *prior_params)\n",
    "\n",
    "        dpz_ye = torch.autograd.grad(pz_ye.mean(), z_temp, create_graph = True, retain_graph=True)[0]\n",
    "            \n",
    "        ddpz_ye = torch.autograd.grad(dpz_ye.sum(), z_temp, create_graph = True, retain_graph=True)[0]\n",
    "            \n",
    "        SM = (ddpz_ye + 0.5 * dpz_ye.pow(2)).sum(1)\n",
    "        \n",
    "        elbo = log_px_z - log_qz_xye + pz_ye.detach()\n",
    "        \n",
    "        return elbo.mean()-SM.mean(), elbo.mean(), SM.mean()"
   ]
  },
  {
   "cell_type": "code",
   "execution_count": 6,
   "metadata": {},
   "outputs": [],
   "source": [
    "class iVAE(nn.Module):\n",
    "    def __init__(self, encoder, decoder, prior, device = 'cpu') -> None:\n",
    "        super().__init__()\n",
    "        self.encoder = encoder\n",
    "        self.decoder = decoder\n",
    "        self.prior = prior\n",
    "\n",
    "        self.decoder_var = 0.01*torch.ones(1).to(device)\n",
    "\n",
    "        self.encoder_dist = Normal_dist(device = device)\n",
    "        self.decoder_dist = Normal_dist(device = device)\n",
    "        self.prior_dist = Normal_dist(device = device)\n",
    "\n",
    "    def encoder_params(self, x, y, e):\n",
    "        xye = torch.cat((x, y, e), 1)\n",
    "        g, logv = self.encoder(xye)\n",
    "        return g, logv.exp()\n",
    "\n",
    "    def decoder_params(self, s):\n",
    "        f = self.decoder(s)\n",
    "        return f, self.decoder_var\n",
    "\n",
    "    def prior_params(self, y, e):\n",
    "        ye = torch.cat((y, e), 1)\n",
    "        mean, logl = self.prior(ye)\n",
    "        return mean, logl.exp()\n",
    "\n",
    "    \n",
    "    def forward(self, x, y, e, training = True):\n",
    "        encoder_params = self.encoder_params(x, y, e)\n",
    "\n",
    "        z = self.encoder_dist.sample(*encoder_params)\n",
    "        \n",
    "        decoder_params = self.decoder_params(z)\n",
    "        prior_params = self.prior_params(y, e)\n",
    "\n",
    "        if training:\n",
    "            return decoder_params, encoder_params, prior_params, z\n",
    "        else: \n",
    "            return encoder_params[0]\n",
    "    \n",
    "    def elbo(self, x, y, e, beta = 1):\n",
    "\n",
    "        decoder_params, encoder_params, prior_params, z = self.forward(x, y, e)\n",
    "        log_px_z = self.decoder_dist.log_pdf(x, *decoder_params)\n",
    "        log_qz_xye = self.encoder_dist.log_pdf(z, *encoder_params)\n",
    "        log_pz_ye = self.prior_dist.log_pdf(z, *prior_params)\n",
    "\n",
    "        kl = -log_qz_xye + log_pz_ye\n",
    "\n",
    "        elbo = log_px_z + beta*kl\n",
    "\n",
    "        return elbo.mean()"
   ]
  },
  {
   "cell_type": "code",
   "execution_count": 7,
   "metadata": {},
   "outputs": [],
   "source": [
    "from torch.utils.data import Dataset, DataLoader\n",
    "\n",
    "class EnvDataset(Dataset):\n",
    "    def __init__(self, X, Y, E):\n",
    "        super().__init__()\n",
    "        self.X = torch.tensor(X)\n",
    "        self.Y = torch.tensor(Y).unsqueeze(1)\n",
    "        self.E = torch.nn.functional.one_hot(torch.tensor(E))\n",
    "    \n",
    "    def __getitem__(self, index):\n",
    "        return self.X[index], self.Y[index], self.E[index] \n",
    "    \n",
    "    def __len__(self):\n",
    "        return(len(self.X))\n"
   ]
  },
  {
   "cell_type": "markdown",
   "metadata": {},
   "source": [
    "### Define networks with specified parameters"
   ]
  },
  {
   "cell_type": "code",
   "execution_count": 8,
   "metadata": {},
   "outputs": [
    {
     "name": "stderr",
     "output_type": "stream",
     "text": [
      "/Users/theb/miniconda3/lib/python3.9/site-packages/torch/distributions/distribution.py:45: UserWarning: <class '__main__.Normal_dist'> does not define `arg_constraints`. Please set `arg_constraints = {}` or initialize the distribution with `validate_args=False` to turn off validation.\n",
      "  warnings.warn(f'{self.__class__} does not define `arg_constraints`. ' +\n"
     ]
    }
   ],
   "source": [
    "encoder = Encoder(input_size=15, output_size=2)\n",
    "decoder = Decoder(input_size=2, output_size=10)\n",
    "prior = NLPrior(input_size=5, output_size=2)\n",
    "\n",
    "net = iVAE(encoder, decoder, prior)"
   ]
  },
  {
   "cell_type": "code",
   "execution_count": 9,
   "metadata": {},
   "outputs": [],
   "source": [
    "iCARL = iCARL_NF_iVAE(10, 2, 1, 4, Encoder, Decoder, NLPrior, prior_output = 1, device = 'cpu')"
   ]
  },
  {
   "cell_type": "markdown",
   "metadata": {},
   "source": [
    "### Generate data"
   ]
  },
  {
   "cell_type": "code",
   "execution_count": 10,
   "metadata": {},
   "outputs": [],
   "source": [
    "\n",
    "X, Y, envs, Z, E = simulate_synthetic_data(8000, 'nonlinear')\n",
    "dset = EnvDataset(X[:4000],Y[:4000],envs[:4000])\n",
    "train_loader = DataLoader(dset, batch_size=128, drop_last=True)\n",
    "dset = EnvDataset(X[4000:],Y[4000:],envs[4000:])\n",
    "test_loader = DataLoader(dset, batch_size=128, drop_last=True)\n"
   ]
  },
  {
   "cell_type": "code",
   "execution_count": 11,
   "metadata": {},
   "outputs": [],
   "source": [
    "x,y,e = next(iter(train_loader))\n",
    "elbo = iCARL.elbo(x.float(),y.float(),e.float())"
   ]
  },
  {
   "cell_type": "code",
   "execution_count": 12,
   "metadata": {},
   "outputs": [
    {
     "data": {
      "text/plain": [
       "(tensor(-1278.6198, grad_fn=<SubBackward0>),\n",
       " tensor(-1278.6318, grad_fn=<MeanBackward0>),\n",
       " tensor(-0.0121, grad_fn=<MeanBackward0>))"
      ]
     },
     "execution_count": 12,
     "metadata": {},
     "output_type": "execute_result"
    }
   ],
   "source": [
    "elbo"
   ]
  },
  {
   "cell_type": "code",
   "execution_count": 13,
   "metadata": {},
   "outputs": [],
   "source": [
    "from torch.optim import Adam\n",
    "optimizer = Adam(iCARL.parameters(), lr=1e-3)"
   ]
  },
  {
   "cell_type": "code",
   "execution_count": 14,
   "metadata": {},
   "outputs": [
    {
     "name": "stdout",
     "output_type": "stream",
     "text": [
      "Epoch 20 of 200\n",
      "Train loss: tensor(-565.3650)\n",
      "Epoch 40 of 200\n",
      "Train loss: tensor(-2342.4333)\n",
      "Epoch 60 of 200\n",
      "Train loss: tensor(-2896.5869)\n",
      "Epoch 80 of 200\n",
      "Train loss: tensor(-3691.9568)\n",
      "Epoch 100 of 200\n",
      "Train loss: tensor(-4726.7964)\n",
      "Epoch 120 of 200\n",
      "Train loss: tensor(-5418.9858)\n",
      "Epoch 140 of 200\n",
      "Train loss: tensor(-6185.9648)\n",
      "Epoch 160 of 200\n",
      "Train loss: tensor(-6773.6577)\n",
      "Epoch 180 of 200\n",
      "Train loss: tensor(-7147.1909)\n",
      "Epoch 200 of 200\n",
      "Train loss: tensor(-7542.7944)\n"
     ]
    }
   ],
   "source": [
    "epochs = 200\n",
    "train_loss = torch.zeros(epochs)\n",
    "elbo_loss = torch.zeros(epochs)\n",
    "SM_loss = torch.zeros(epochs)\n",
    "pz_ye_loss = torch.zeros(epochs)\n",
    "\n",
    "for epoch in range(epochs):\n",
    "    epoch_loss = 0\n",
    "    if epoch < 20:\n",
    "        beta = 10\n",
    "    else:\n",
    "        beta = 10\n",
    "    for x,y,e in train_loader:\n",
    "        optimizer.zero_grad()\n",
    "        loss, elbo, SM = iCARL.elbo(x.float(), y.float(), e.float())\n",
    "        loss.mul(-1).backward()\n",
    "        optimizer.step()\n",
    "        epoch_loss += loss.mul(-1).detach()\n",
    "        \n",
    "    if (epoch+1)%20 == 0:\n",
    "        print('Epoch', epoch+1, 'of', epochs)\n",
    "        print('Train loss:', epoch_loss/len(train_loader))\n",
    "    train_loss[epoch] = epoch_loss/len(train_loader)\n",
    "        \n"
   ]
  },
  {
   "cell_type": "code",
   "execution_count": 15,
   "metadata": {},
   "outputs": [
    {
     "data": {
      "image/png": "[encoded data removed]",
      "text/plain": [
       "<Figure size 432x288 with 1 Axes>"
      ]
     },
     "metadata": {
      "needs_background": "light"
     },
     "output_type": "display_data"
    }
   ],
   "source": [
    "import matplotlib.pyplot as plt\n",
    "plt.plot(train_loss)\n",
    "plt.show()\n"
   ]
  },
  {
   "cell_type": "code",
   "execution_count": 16,
   "metadata": {},
   "outputs": [
    {
     "data": {
      "text/plain": [
       "<matplotlib.collections.PathCollection at 0x7fcffb9ecbe0>"
      ]
     },
     "execution_count": 16,
     "metadata": {},
     "output_type": "execute_result"
    },
    {
     "data": {
      "image/png": "[encoded data removed]",
      "text/plain": [
       "<Figure size 432x288 with 1 Axes>"
      ]
     },
     "metadata": {
      "needs_background": "light"
     },
     "output_type": "display_data"
    }
   ],
   "source": [
    "colors = np.array([\"r\", \"g\", \"b\", \"y\"])\n",
    "plt.scatter(Z[:,0], Z[:,1], c=colors[envs.astype(int)-1])"
   ]
  },
  {
   "cell_type": "code",
   "execution_count": 17,
   "metadata": {},
   "outputs": [],
   "source": [
    "# get z\n",
    "loader = test_loader\n",
    "latent_variables = torch.zeros((len(train_loader)*128, 2))\n",
    "envs_samp = np.zeros((len(train_loader)*128, 4))\n",
    "i = 0\n",
    "for x,y,e in train_loader:\n",
    "    _,_,z = iCARL.forward(x.float(), y.float(), e.float())\n",
    "    latent_variables[i*128:i*128+128,:] = z.detach()\n",
    "    envs_samp[i*128:i*128+128,:] = e.squeeze().numpy().astype(int)\n",
    "    i+=1"
   ]
  },
  {
   "cell_type": "code",
   "execution_count": 18,
   "metadata": {},
   "outputs": [
    {
     "data": {
      "text/plain": [
       "array([3, 0, 0, ..., 3, 3, 2])"
      ]
     },
     "execution_count": 18,
     "metadata": {},
     "output_type": "execute_result"
    }
   ],
   "source": [
    "envs_samp_ind = np.argmax(envs_samp, axis = 1)\n",
    "envs_samp_ind"
   ]
  },
  {
   "cell_type": "code",
   "execution_count": 19,
   "metadata": {},
   "outputs": [
    {
     "data": {
      "image/png": "[encoded data removed]",
      "text/plain": [
       "<Figure size 432x288 with 1 Axes>"
      ]
     },
     "metadata": {
      "needs_background": "light"
     },
     "output_type": "display_data"
    }
   ],
   "source": [
    "envs_samp_ind = np.argmax(envs_samp, axis = 1)\n",
    "for env in np.unique(envs_samp_ind):\n",
    "    idx = envs_samp_ind == env\n",
    "    plt.scatter(latent_variables[idx,0], latent_variables[idx,1], c=colors[int(env)])"
   ]
  },
  {
   "cell_type": "code",
   "execution_count": null,
   "metadata": {},
   "outputs": [],
   "source": []
  },
  {
   "cell_type": "code",
   "execution_count": null,
   "metadata": {},
   "outputs": [],
   "source": []
  }
 ],
 "metadata": {
  "kernelspec": {
   "display_name": "Python 3.9.12 ('base')",
   "language": "python",
   "name": "python3"
  },
  "language_info": {
   "codemirror_mode": {
    "name": "ipython",
    "version": 3
   },
   "file_extension": ".py",
   "mimetype": "text/x-python",
   "name": "python",
   "nbconvert_exporter": "python",
   "pygments_lexer": "ipython3",
   "version": "3.9.12"
  },
  "orig_nbformat": 4,
  "vscode": {
   "interpreter": {
    "hash": "f3d46898f50075c52728c93c8f91654a83e76c3683bbfd802501f0bac0268b7b"
   }
  }
 },
 "nbformat": 4,
 "nbformat_minor": 2
}
