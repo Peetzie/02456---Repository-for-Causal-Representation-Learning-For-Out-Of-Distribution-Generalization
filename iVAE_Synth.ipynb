{
 "cells": [
  {
   "cell_type": "code",
   "execution_count": null,
   "metadata": {},
   "outputs": [],
   "source": []
  }
 ],
 "metadata": {
  "kernelspec": {
   "display_name": "Python 3.10.8 ('02456')",
   "language": "python",
   "name": "python3"
  },
  "language_info": {
   "name": "python",
   "version": "3.10.8"
  },
  "orig_nbformat": 4,
  "vscode": {
   "interpreter": {
    "hash": "933f3aa8d9c429c2eee70035fa174da68e619e4a97d7c59a5ea775702747c954"
   }
  }
 },
 "nbformat": 4,
 "nbformat_minor": 2
}
