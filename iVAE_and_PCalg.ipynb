{
 "cells": [
  {
   "cell_type": "code",
   "execution_count": 1,
   "metadata": {},
   "outputs": [
    {
     "name": "stderr",
     "output_type": "stream",
     "text": [
      "/Library/Frameworks/Python.framework/Versions/3.8/lib/python3.8/site-packages/tqdm/auto.py:22: TqdmWarning: IProgress not found. Please update jupyter and ipywidgets. See https://ipywidgets.readthedocs.io/en/stable/user_install.html\n",
      "  from .autonotebook import tqdm as notebook_tqdm\n"
     ]
    }
   ],
   "source": [
    "import pandas as pd\n",
    "import torch\n",
    "import numpy as np\n",
    "import matplotlib.pyplot as plt\n",
    "from skimage import io, transform\n",
    "import os\n",
    "from torch.utils.data import Dataset, DataLoader\n",
    "from torchvision import transforms, utils\n",
    "from sklearn import metrics\n",
    "\n",
    "from typing import *\n",
    "from IPython.display import Image, display, clear_output\n",
    "%matplotlib nbagg\n",
    "%matplotlib inline\n",
    "import seaborn as sns\n",
    "sns.set_style(\"whitegrid\")\n",
    "import math \n",
    "from torch import nn, Tensor\n",
    "from torch.nn.functional import softplus, relu\n",
    "from torch.distributions import Distribution\n",
    "from torch.distributions import Bernoulli, Normal\n",
    "from torch.utils.data import DataLoader, ConcatDataset\n",
    "from torch.utils.data.sampler import SubsetRandomSampler\n",
    "from torchvision.datasets import MNIST\n",
    "from torchvision.transforms import ToTensor\n",
    "from functools import reduce\n",
    "from torch.autograd import Variable\n",
    "from tqdm import tqdm\n",
    "\n",
    "from plotting import make_vae_plots\n",
    "\n",
    "CMNIST_list = torch.load(\"data/ColoredMNIST/train1.pt\")\n",
    "CMNIST = pd.DataFrame(CMNIST_list, columns = [\"image\", \"label\"])\n",
    "\n",
    "images = CMNIST.iloc[:,0]\n",
    "labels_df = CMNIST.iloc[:,1]\n",
    "labels = torch.tensor(labels_df)"
   ]
  },
  {
   "cell_type": "code",
   "execution_count": 2,
   "metadata": {},
   "outputs": [
    {
     "data": {
      "text/plain": [
       "torch.Size([3, 28, 28])"
      ]
     },
     "execution_count": 2,
     "metadata": {},
     "output_type": "execute_result"
    }
   ],
   "source": [
    "from torchvision.transforms import ToTensor\n",
    "\n",
    "transform_to_tensor = ToTensor()\n",
    "transform_to_tensor(images[0]).shape"
   ]
  },
  {
   "cell_type": "markdown",
   "metadata": {},
   "source": [
    "# Plotting function"
   ]
  },
  {
   "cell_type": "code",
   "execution_count": 3,
   "metadata": {},
   "outputs": [
    {
     "data": {
      "image/png": "[encoded data removed]",
      "text/plain": [
       "<Figure size 640x480 with 1 Axes>"
      ]
     },
     "metadata": {},
     "output_type": "display_data"
    }
   ],
   "source": [
    "def show_CMNIST(image, label, environment):\n",
    "    \"\"\"Show image with landmarks\"\"\"\n",
    "    plt.figure\n",
    "    plt.imshow(image)\n",
    "    plt.text(1,2,\"Label: {}\".format(label), backgroundcolor = \"white\",\n",
    "             color = \"black\", fontsize = 6)\n",
    "    plt.text(1,5,\"Environment: {}\".format(environment), backgroundcolor = \"white\",\n",
    "             color = \"black\", fontsize = 6)\n",
    "    plt.axis('off')\n",
    "    plt.show\n",
    "    plt.pause(0.001)  # pause a bit so that plots are updated\n",
    "\n",
    "show_CMNIST(images[0], labels[0], None)"
   ]
  },
  {
   "cell_type": "code",
   "execution_count": 4,
   "metadata": {},
   "outputs": [],
   "source": [
    "class CMNISTDataset(Dataset):\n",
    "    \"\"\"Face Landmarks dataset.\"\"\"\n",
    "\n",
    "    def __init__(self, pt_file, environment=None, transform=None):\n",
    "        \"\"\"\n",
    "        Args:\n",
    "            pt_file (string): Path to the pt file with annotations.\n",
    "            transform (callable, optional): Optional transform to be applied\n",
    "                on a sample.\n",
    "            environment (integer): Integer indicating the environment the data comes from\n",
    "        \"\"\"\n",
    "        self.CMNIST_frame = pd.DataFrame(torch.load(pt_file))\n",
    "        self.transform = transform\n",
    "        self.environment = environment\n",
    "\n",
    "    def __len__(self):\n",
    "        return len(self.CMNIST_frame)\n",
    "\n",
    "    def __getitem__(self, idx):\n",
    "        if torch.is_tensor(idx):\n",
    "            idx = idx.tolist()\n",
    "\n",
    "        image = self.CMNIST_frame.iloc[idx, 0]\n",
    "        label = self.CMNIST_frame.iloc[idx, 1]\n",
    "        sample = {'image': image, 'label': label, \"environment\": self.environment}\n",
    "\n",
    "        if self.transform:\n",
    "            sample = {'image': self.transform(image), 'label': label, \"environment\": self.environment}\n",
    "\n",
    "        return sample"
   ]
  },
  {
   "cell_type": "code",
   "execution_count": 5,
   "metadata": {},
   "outputs": [
    {
     "data": {
      "image/png": "[encoded data removed]",
      "text/plain": [
       "<Figure size 640x480 with 1 Axes>"
      ]
     },
     "metadata": {},
     "output_type": "display_data"
    },
    {
     "data": {
      "image/png": "[encoded data removed]",
      "text/plain": [
       "<Figure size 640x480 with 1 Axes>"
      ]
     },
     "metadata": {},
     "output_type": "display_data"
    },
    {
     "data": {
      "image/png": "[encoded data removed]",
      "text/plain": [
       "<Figure size 640x480 with 1 Axes>"
      ]
     },
     "metadata": {},
     "output_type": "display_data"
    },
    {
     "data": {
      "image/png": "[encoded data removed]",
      "text/plain": [
       "<Figure size 640x480 with 1 Axes>"
      ]
     },
     "metadata": {},
     "output_type": "display_data"
    }
   ],
   "source": [
    "cmnist_data = CMNISTDataset(pt_file = \"data/ColoredMNIST/train1.pt\", environment = 1)\n",
    "\n",
    "fig = plt.figure()\n",
    "\n",
    "for i in range(len(cmnist_data)):\n",
    "    sample = cmnist_data[i]\n",
    "\n",
    "    #print(i, sample['image'].shape, sample['label'].shape)\n",
    "\n",
    "    ax = plt.subplot(1, 4, i + 1)\n",
    "    plt.tight_layout()\n",
    "    ax.set_title('Sample #{}'.format(i))\n",
    "    ax.axis('off')\n",
    "    show_CMNIST(**sample)\n",
    "\n",
    "    if i == 3:\n",
    "        plt.show()\n",
    "        break"
   ]
  },
  {
   "cell_type": "code",
   "execution_count": 6,
   "metadata": {},
   "outputs": [],
   "source": [
    "cmnist_data1 = CMNISTDataset(pt_file = \"data/ColoredMNIST/train1.pt\"\n",
    "                            , environment = 1\n",
    "                            , transform = transform_to_tensor)\n",
    "cmnist_data2 = CMNISTDataset(pt_file = \"data/ColoredMNIST/train2.pt\"\n",
    "                            , environment = 2\n",
    "                            , transform = transform_to_tensor)\n",
    "train_loader = DataLoader(ConcatDataset([cmnist_data1, cmnist_data2]), batch_size=256, num_workers=0, drop_last = True)\n",
    "\n",
    "cmnist_test_data = CMNISTDataset(pt_file = \"data/ColoredMNIST/test.pt\"\n",
    "                                 , environment = 3\n",
    "                                 , transform = transform_to_tensor)\n",
    "test_loader = DataLoader(cmnist_test_data, batch_size = 512, num_workers = 0, drop_last = True)"
   ]
  },
  {
   "cell_type": "code",
   "execution_count": 7,
   "metadata": {},
   "outputs": [
    {
     "name": "stdout",
     "output_type": "stream",
     "text": [
      "0 torch.Size([256, 3, 28, 28]) torch.Size([256])\n",
      "1 torch.Size([256, 3, 28, 28]) torch.Size([256])\n",
      "2 torch.Size([256, 3, 28, 28]) torch.Size([256])\n",
      "3 torch.Size([256, 3, 28, 28]) torch.Size([256])\n"
     ]
    },
    {
     "data": {
      "image/png": "[encoded data removed]",
      "text/plain": [
       "<Figure size 640x480 with 1 Axes>"
      ]
     },
     "metadata": {},
     "output_type": "display_data"
    }
   ],
   "source": [
    "def show_batch(sample_batched):\n",
    "    \"\"\"Show image with landmarks for a batch of samples.\"\"\"\n",
    "    images_batch, landmarks_batch = \\\n",
    "            sample_batched['image'], sample_batched['label']\n",
    "    batch_size = len(images_batch)\n",
    "    im_size = images_batch.size(2)\n",
    "\n",
    "    grid = utils.make_grid(images_batch)\n",
    "    plt.imshow(grid.numpy().transpose((1, 2, 0)))\n",
    "\n",
    "for i_batch, sample_batched in enumerate(train_loader):\n",
    "    print(i_batch, sample_batched['image'].size(),\n",
    "          sample_batched['label'].size())\n",
    "\n",
    "    # observe 4th batch and stop.\n",
    "    if i_batch == 3:\n",
    "        plt.figure()\n",
    "        show_batch(sample_batched)\n",
    "        plt.axis('off')\n",
    "        plt.ioff()\n",
    "        plt.show()\n",
    "        break"
   ]
  },
  {
   "cell_type": "markdown",
   "metadata": {},
   "source": [
    "# iVAE:"
   ]
  },
  {
   "cell_type": "code",
   "execution_count": 61,
   "metadata": {},
   "outputs": [],
   "source": [
    "p = Bernoulli(logits=torch.zeros((1000,)))\n",
    "\n",
    "\n",
    "class ReparameterizedDiagonalGaussian(Distribution):\n",
    "    \"\"\"\n",
    "    A distribution `N(y | mu, sigma I)` compatible with the reparameterization trick given `epsilon ~ N(0, 1)`.\n",
    "    \"\"\"\n",
    "    def __init__(self, mu: Tensor, log_sigma:Tensor):\n",
    "        assert mu.shape == log_sigma.shape, f\"Tensors `mu` : {mu.shape} and ` log_sigma` : {log_sigma.shape} must be of the same shape\"\n",
    "        self.mu = mu\n",
    "        self.sigma = log_sigma.exp()\n",
    "        \n",
    "    def rsample(self) -> Tensor:\n",
    "        \"\"\"sample `z ~ N(z | mu, sigma)` (with the reparameterization trick) \"\"\"\n",
    "        eps = torch.empty_like(self.mu).normal_()\n",
    "        return self.mu + self.sigma * eps\n",
    "    # <- your code    \n",
    "        #return self.mu + self.sigma * self.sample_epsilon() # <- your code    \n",
    "    \n",
    "    def sample(self) -> Tensor:\n",
    "        \"\"\"sample `z ~ N(z | mu, sigma)` (with the reparameterization trick) \"\"\"\n",
    "        return torch.normal(mean = self.mu, std = self.sigma)\n",
    "\n",
    "    def log_prob(self, z:Tensor) -> Tensor:\n",
    "        \"\"\"return the log probability: log `p(z)`\"\"\"\n",
    "        return - ((z - self.mu)**2)/(2*self.sigma**2) - torch.log(self.sigma) - math.log(math.sqrt(2 * math.pi)) # <- your code\n",
    "    \n",
    "    def mu(self):\n",
    "        return(self.mu, self.sigma)\n",
    "    #def log_prob(self, z:Tensor) -> Tensor:\n",
    "    #    \"\"\"return the log probability: log `p(z)`\"\"\"\n",
    "    #    dummy = self.rsample()\n",
    "    #    return self.z.log_prob(z) # <- your code"
   ]
  },
  {
   "cell_type": "code",
   "execution_count": 9,
   "metadata": {},
   "outputs": [
    {
     "data": {
      "image/png": "[encoded data removed]",
      "text/plain": [
       "<Figure size 1600x400 with 64 Axes>"
      ]
     },
     "metadata": {},
     "output_type": "display_data"
    }
   ],
   "source": [
    "#plot a few CMNIST examples\n",
    "f, axarr = plt.subplots(4, 16, figsize=(16, 4))\n",
    "\n",
    "# Load a batch of images into memory\n",
    "sample = next(iter(train_loader))\n",
    "images = sample['image']\n",
    "label = sample['label']\n",
    "environment = sample['environment']\n",
    "\n",
    "for i, ax in enumerate(axarr.flat):\n",
    "    ax.imshow(images[i].permute(1,2,0))\n",
    "    ax.axis('off')\n",
    "    \n",
    "plt.suptitle('MNIST handwritten digits')\n",
    "plt.show()"
   ]
  },
  {
   "cell_type": "markdown",
   "metadata": {},
   "source": [
    "# Phase 1 - NF-iVAE"
   ]
  },
  {
   "cell_type": "code",
   "execution_count": 62,
   "metadata": {},
   "outputs": [
    {
     "name": "stdout",
     "output_type": "stream",
     "text": [
      "iVariationalAutoencoder(\n",
      "  (Lambdaf_prior): Sequential(\n",
      "    (0): Linear(in_features=2, out_features=50, bias=True)\n",
      "    (1): Linear(in_features=50, out_features=50, bias=True)\n",
      "    (2): ReLU()\n",
      "    (3): Linear(in_features=50, out_features=20, bias=True)\n",
      "  )\n",
      "  (encoderCNN1): Conv2d(3, 32, kernel_size=(3, 3), stride=(2, 2), padding=(1, 1))\n",
      "  (encoderCNN2): Conv2d(32, 32, kernel_size=(3, 3), stride=(2, 2), padding=(1, 1))\n",
      "  (encoderCNN3): Conv2d(32, 32, kernel_size=(3, 3), stride=(2, 2), padding=(1, 1))\n",
      "  (relu): ReLU()\n",
      "  (sigmoid): Sigmoid()\n",
      "  (YEencoder): Sequential(\n",
      "    (0): Linear(in_features=2, out_features=100, bias=True)\n",
      "    (1): Linear(in_features=100, out_features=100, bias=True)\n",
      "    (2): ReLU()\n",
      "  )\n",
      "  (XYEmerger): Sequential(\n",
      "    (0): Linear(in_features=612, out_features=100, bias=True)\n",
      "    (1): Linear(in_features=100, out_features=100, bias=True)\n",
      "    (2): ReLU()\n",
      "    (3): Linear(in_features=100, out_features=20, bias=True)\n",
      "  )\n",
      "  (decoderFFN): Linear(in_features=10, out_features=512, bias=True)\n",
      "  (decoderFFN2): Linear(in_features=512, out_features=512, bias=True)\n",
      "  (decoderCNN1): ConvTranspose2d(32, 32, kernel_size=(3, 3), stride=(2, 2), padding=(1, 1))\n",
      "  (decoderCNN2): ConvTranspose2d(32, 32, kernel_size=(3, 3), stride=(2, 2), padding=(1, 1), output_padding=(1, 1))\n",
      "  (decoderCNN3): ConvTranspose2d(32, 3, kernel_size=(3, 3), stride=(2, 2), padding=(1, 1), output_padding=(1, 1))\n",
      ")\n"
     ]
    }
   ],
   "source": [
    "class iVariationalAutoencoder(nn.Module):\n",
    "    \"\"\"A Variational Autoencoder with\n",
    "    * a Bernoulli observation model `p_\\theta(x | z) = B(x | g_\\theta(z))`\n",
    "    * a Gaussian prior `p(z) = N(z | 0, I)`\n",
    "    * a Gaussian posterior `q_\\phi(z|x) = N(z | \\mu(x), \\sigma(x))`\n",
    "    \"\"\"\n",
    "    \n",
    "    def __init__(self, input_shape:torch.Size, latent_features:int) -> None:\n",
    "        super(iVariationalAutoencoder, self).__init__()\n",
    "        \n",
    "        self.input_shape = input_shape\n",
    "        self.latent_features = latent_features\n",
    "\n",
    "        \n",
    "        # define the parameters of the prior, chosen as p(z) = N(0, I)\n",
    "        ## setting the prior to a vector consisting of zeros with dimensions (1,2*latent_features)\n",
    "        # self.register_buffer('prior_params', torch.zeros(torch.Size([1, 2*latent_features])))\n",
    "        \n",
    "        '''\n",
    "        According to page 31-32 the iVAE consist of 7 NNs:\n",
    "        1. lambdaf prior\n",
    "        \n",
    "        2. X-encoder (Classic image CNN)\n",
    "        3. (Y, E)-encoder\n",
    "        4. (X, Y, E)-merger/encoder\n",
    "\n",
    "        5. Decoder\n",
    "\n",
    "        1: Learn priors based on the label distribution for the given environment\n",
    "        2-4: Encoding X, encoding Y and E and merging these two encoders, to generate a \n",
    "             qz which is conditional on the environment.\n",
    "        5: Decodes the latent space through pz. Since the latent space now contain some measure\n",
    "           of environment, then this distribution pz is consequentially conditioned on the environment\n",
    "\n",
    "        NN 1-3 can be found in the variational inference funktion.\n",
    "        '''\n",
    "        #### PRIORS PRIORS PRIORS PRIORS PRIORS PRIORS PRIORS PRIORS PRIORS ####\n",
    "        #NN 1/5\n",
    "        self.Lambdaf_prior = nn.Sequential(\n",
    "            nn.Linear(in_features = 2, out_features=50), #Input\n",
    "            nn.Linear(in_features = 50, out_features=50), #Fully connected\n",
    "            nn.ReLU(),\n",
    "            nn.Linear(in_features = 50, out_features = 20))  #Output\n",
    "        #### PRIORS PRIORS PRIORS PRIORS PRIORS PRIORS PRIORS PRIORS PRIORS ####\n",
    "\n",
    "         #For NN 2/5 X-Encoder: Inference Network\n",
    "         #Encode the observation `x` into the parameters of the posterior distribution\n",
    "         #`q_\\phi(z|x) = N(z | \\mu(x), \\sigma(x)), \\mu(x),\\log\\sigma(x) = h_\\phi(x)`\n",
    "        self.encoderCNN1 = nn.Conv2d(in_channels = 3, out_channels = 32, kernel_size = 3, stride = 2, padding = 1)\n",
    "        self.encoderCNN2 = nn.Conv2d(in_channels = 32, out_channels = 32, kernel_size = 3, stride = 2, padding = 1)\n",
    "        self.encoderCNN3 = nn.Conv2d(in_channels = 32, out_channels = 32, kernel_size = 3, stride = 2, padding = 1)\n",
    "        \n",
    "        self.relu = nn.ReLU()\n",
    "        self.sigmoid = nn.Sigmoid()\n",
    "        \n",
    "        ##NN 3/5 (Y, E)-Encoder\n",
    "        self.YEencoder = nn.Sequential(\n",
    "            nn.Linear(in_features = 2, out_features=100),\n",
    "            nn.Linear(in_features = 100, out_features = 100),\n",
    "            nn.ReLU())\n",
    "\n",
    "        ##NN 4/5 (X, Y, E)-merger/encoder\n",
    "        #remember to concatenate x.flatten, y, e before running this.\n",
    "        self.XYEmerger = nn.Sequential(\n",
    "            nn.Linear(in_features = 32 * 4 * 4 + 100, out_features=100),\n",
    "            nn.Linear(in_features = 100, out_features = 100),\n",
    "            nn.ReLU(),\n",
    "            nn.Linear(in_features = 100, out_features = 2*latent_features))\n",
    "\n",
    "\n",
    "        #For NN 5/5 (Decoder): Generative Model\n",
    "        #Decode the latent sample `z` into the parameters of the observation model\n",
    "        #`p_\\theta(x | z) = \\prod_i B(x_i | g_\\theta(x))`\n",
    "        self.decoderFFN = nn.Linear(in_features=latent_features, out_features = 32 * 4 * 4)\n",
    "        self.decoderFFN2 = nn.Linear(in_features = 32 * 4 * 4, out_features = 32 * 4 * 4)\n",
    "        \n",
    "        self.decoderCNN1 = nn.ConvTranspose2d(in_channels = 32, out_channels = 32, kernel_size = 3, stride = 2, padding = 1\n",
    "                              ,output_padding = 0)\n",
    "        self.decoderCNN2 = nn.ConvTranspose2d(in_channels = 32, out_channels = 32, kernel_size = 3, stride = 2, padding = 1\n",
    "                              ,output_padding = 1)\n",
    "        self.decoderCNN3 = nn.ConvTranspose2d(in_channels = 32, out_channels = 3, kernel_size = 3, stride = 2, padding = 1\n",
    "                              ,output_padding = 1)\n",
    "\n",
    "    def prior_params(self, y, e):\n",
    "        \"\"\"return the distribution `p(z)`\"\"\"\n",
    "        ye = torch.cat((y, e), dim = 1)\n",
    "        ye = ye.to(torch.float32)\n",
    "        lambdaf_parameters = self.Lambdaf_prior(ye)\n",
    "\n",
    "        return lambdaf_parameters\n",
    "\n",
    "    #NN 4/7\n",
    "    def encoder(self, x, y, e):\n",
    "        x = self.relu(self.encoderCNN1(x))\n",
    "        x = self.relu(self.encoderCNN2(x))\n",
    "        x = self.relu(self.encoderCNN3(x))\n",
    "        x = x.view(x.size(0), -1) #NN 4/7\n",
    "\n",
    "        ye = torch.cat((y, e), dim = 1)\n",
    "        ye = ye.to(torch.float32)\n",
    "        ye = self.YEencoder(ye) #NN 5/7\n",
    "\n",
    "        xye = torch.cat((x,ye), dim = 1)\n",
    "        xye = self.XYEmerger(xye) #NN 6/7\n",
    "    \n",
    "        return xye\n",
    "   \n",
    "    #NN 7/7\n",
    "    def decoder(self, z):\n",
    "        \n",
    "        x = self.relu(self.decoderFFN(z))\n",
    "        x = self.relu(self.decoderFFN2(x))\n",
    "        \n",
    "        # reshape x and add CNN decoder\n",
    "        x = x.view(-1, 32, 4, 4)\n",
    "        \n",
    "        x = self.relu(self.decoderCNN1(x))\n",
    "        x = self.relu(self.decoderCNN2(x))\n",
    "        x = self.decoderCNN3(x)\n",
    "        return x    \n",
    "        \n",
    "    def posterior(self, x:Tensor, y:Tensor, z:Tensor) -> Distribution:\n",
    "        \"\"\"return the distribution `q(x|x) = N(z | \\mu(x), \\sigma(x))`\"\"\"\n",
    "        \n",
    "        # compute the parameters of the posterior\n",
    "        h_x = self.encoder(x, y, z)\n",
    "        mu, log_sigma =  h_x.chunk(2, dim=-1)\n",
    "        \n",
    "        # return a distribution `q(x|x) = N(z | \\mu(x), \\sigma(x))`\n",
    "        return ReparameterizedDiagonalGaussian(mu, log_sigma)\n",
    "    \n",
    "    def prior(self, y, e)-> Distribution:\n",
    "        \"\"\"return the distribution `p(z)`\"\"\"\n",
    "        #Expand prior_params til at være samme antal rækker som i den valgte batch size således at der fås\n",
    "        #en tensor med dimensionerne (batch_size, 2*latent_features), som så kan udfyldes med\n",
    "        prior_params = self.prior_params(y, e)\n",
    "        #chunk opdeler prior_params i to dele, de første 0-latent_features kollonner indeholder mu og \n",
    "        #de sidste n_latent_features inde holder sigmaerne. Nu er der to tensors, som begge har dim\n",
    "        #(batch_size, n_latent_features). Værdierne i disse tensors, kan bruges til at sample hvordan\n",
    "        #latent space ser ud (Den der hedder 'latent interpolations' i plots i bunden.)\n",
    "        mu, log_sigma = prior_params.chunk(2, dim=-1)\n",
    "        \n",
    "        # return the distribution `p(z)`\n",
    "        #BEMÆRK at at det er log_sigma, dvs. at når den inputtes i ReparameterizedDiagonalGaussian så fås mu = 0, sigma = 1\n",
    "        return ReparameterizedDiagonalGaussian(mu, log_sigma)\n",
    "    \n",
    "    def observation_model(self, z:Tensor) -> Distribution:\n",
    "        \"\"\"return the distribution `p(x|z)`\"\"\"\n",
    "        px_means = self.decoder(z)\n",
    "        px_means = px_means.view(-1, *self.input_shape) # reshape the output #old\n",
    "        log_var = 0.01 * torch.ones(px_means.shape)\n",
    "        log_sigma = torch.log(torch.sqrt(log_var))\n",
    "        #sandsynlighedsfordeling der giver 1 eller 0, baseret på log-odds givet i logits input fra p(x|z).\n",
    "        #Dvs. at px_logits angiver sandsynligheden for at det givne pixel er henholdsvist rød,grøn,blå. Pixel værdien\n",
    "        #er enten 0 eller 1. Når man sampler fra bernoulli fordelingen fås dermed et billede, som givet z, giver en figur,\n",
    "        #som er bestemt af de sandsynligheder der er i px_logits (p(x|z)). Dvs. at for et givet latents space, kan en\n",
    "        #figur/et tal reproduceres ud fra de beregnede sandsynligheder og den efterfølgende sample fra Bernoulli fordelingen.\n",
    "        return ReparameterizedDiagonalGaussian(mu = px_means, log_sigma = log_sigma)\n",
    "        \n",
    "\n",
    "    def forward(self, x, y, e) -> Dict[str, Any]:\n",
    "        \"\"\"compute the posterior q(z|x) (encoder), sample z~q(z|x) and return the distribution p(x|z) (decoder)\"\"\"\n",
    "        \n",
    "        ###############################################################################################\n",
    "        # flatten the input\n",
    "        #x = x.view(x.size(0), -1) #outcommented as part of adding CNN\n",
    "        \n",
    "        #### Run through ENCODER and calculate mu and sigma for latent space sampling\n",
    "        # define the posterior q(z|x) / encode x into q(z|x)\n",
    "        qz = self.posterior(x, y, e)\n",
    "        \n",
    "        # sample the posterior using the reparameterization trick: z ~ q(z | x)\n",
    "        #### LATENT SPACE\n",
    "        z = qz.rsample()\n",
    "        \n",
    "        #### DECODER\n",
    "        # define the observation model p(x|z) = B(x | g(z))\n",
    "        px = self.observation_model(z)\n",
    "        ###############################################################################################\n",
    "        \n",
    "        # define the prior p(z)\n",
    "        #(Indgår i beregning af kl-term (regularisering) ifm. ELBO) - og bruges også til interpolations visualisering\n",
    "        #til sidst.\n",
    "        pz = self.prior(y,e)\n",
    "        \n",
    "        return {'px': px, 'pz': pz, 'qz': qz, 'z': z}\n",
    "    \n",
    "    \n",
    "    def sample_from_prior(self, y, e):\n",
    "        \"\"\"sample z~p(z) and return p(x|z)\"\"\"\n",
    "        \n",
    "        # Laver bare reconstruction baseret på latent space\n",
    "        #Kan evt. fjernes. Anvendes bare til at vise hvor god modellen er til at generere data baseret på\n",
    "        #latent space genererede data. Funktionen anvendes kun i make_vae_plots.\n",
    "        \n",
    "        # degine the prior p(z)\n",
    "        pz = self.prior(y, e)\n",
    "        \n",
    "        # sample the prior \n",
    "        z = pz.rsample()\n",
    "        \n",
    "        # define the observation model p(x|z) = B(x | g(z))\n",
    "        px = self.observation_model(z)\n",
    "        \n",
    "        return {'px': px, 'pz': pz, 'z': z}\n",
    "    \n",
    "    def reduce(self, x:Tensor) -> Tensor:\n",
    "        \"\"\"for each datapoint: sum over all dimensions\"\"\"\n",
    "        return x.view(x.size(0), -1).sum(dim=1)\n",
    "\n",
    "    def VariationalInference(self, x, y, e, beta):\n",
    "        self.beta = beta\n",
    "        # forward pass through the model\n",
    "        outputs = self.forward(x, y, e)\n",
    "        \n",
    "        # unpack outputs\n",
    "        px, pz, qz, z = [outputs[k] for k in [\"px\", \"pz\", \"qz\", \"z\"]]\n",
    "        \n",
    "        # evaluate log probabilities\n",
    "        log_px = self.reduce(px.log_prob(x)) #log(p(x|z)): Sandsynligheden for at observere vores input variabel x\n",
    "        #givet vores latent space (tjekker modellens evne til at rekonstruere sig selv, ved at maximere sandsynlig-\n",
    "        #heden for at observere inputtet selv, givet det konstruerede latent space.\n",
    "        log_pz = self.reduce(pz.log_prob(z)) #log(p(z)): Sandsynligheden for at observere vores latent space, givet at\n",
    "        #latent space følger en standard-normal fordeling (Jo højere sandsynlighed jo bedre)\n",
    "        log_qz = self.reduce(qz.log_prob(z)) #log(q(z|x)): Sandsynligheden for at generere netop dette latent space givet \n",
    "        #vores input billede x. Denne værdi skal helst være lav?\n",
    "        \n",
    "        # compute the ELBO with and without the beta parameter: \n",
    "        # `L^\\beta = E_q [ log p(x|z) ] - \\beta * D_KL(q(z|x) | p(z))`\n",
    "        # where `D_KL(q(z|x) | p(z)) = log q(z|x) - log p(z)`\n",
    "        #########################################################################################################\n",
    "        # Reconstruction loss: E_q [ log p(x|z) ]\n",
    "        # Regularization term: \\beta * D_KL(q(z|x) | p(z))` => Forsøger at tvinge fordelingen q(z|x) mod N(0,1)?\n",
    "        #########################################################################################################\n",
    "        kl = log_qz - log_pz\n",
    "        elbo = log_px - kl\n",
    "        beta_elbo = log_px - self.beta * kl\n",
    "        \n",
    "        # loss\n",
    "        loss = -beta_elbo.mean()\n",
    "        \n",
    "        # prepare the output\n",
    "        with torch.no_grad():\n",
    "            diagnostics = {'elbo': elbo, 'log_px':log_px, 'kl': kl}\n",
    "            \n",
    "        return loss, diagnostics, outputs\n",
    "\n",
    "latent_features = 10 #Husk at opdater denne parameter nede i 'initialization', hvis den skal bruges i VAE loopet også\n",
    "ivae = iVariationalAutoencoder(images[0].shape, latent_features)\n",
    "print(ivae)"
   ]
  },
  {
   "cell_type": "markdown",
   "metadata": {},
   "source": [
    "# ELBO"
   ]
  },
  {
   "cell_type": "code",
   "execution_count": 63,
   "metadata": {},
   "outputs": [],
   "source": [
    "sample = next(iter(train_loader))\n",
    "images = sample['image']\n",
    "label = sample['label'].reshape(-1,1)\n",
    "environment = sample['environment'].reshape(-1,1)\n",
    "\n",
    "x = images\n",
    "y = label\n",
    "e = environment"
   ]
  },
  {
   "cell_type": "code",
   "execution_count": 64,
   "metadata": {
    "scrolled": true
   },
   "outputs": [
    {
     "name": "stdout",
     "output_type": "stream",
     "text": [
      "loss   | mean =   3573.465, shape: []\n",
      "elbo   | mean =  -3573.465, shape: [256]\n",
      "log_px | mean =  -3573.222, shape: [256]\n",
      "kl     | mean =      0.243, shape: [256]\n"
     ]
    }
   ],
   "source": [
    "beta = 1\n",
    "loss, diagnostics, outputs = ivae.VariationalInference(x, y, e, beta)\n",
    "print(f\"{'loss':6} | mean = {loss:10.3f}, shape: {list(loss.shape)}\")\n",
    "for key, tensor in diagnostics.items():\n",
    "    print(f\"{key:6} | mean = {tensor.mean():10.3f}, shape: {list(tensor.shape)}\")"
   ]
  },
  {
   "cell_type": "code",
   "execution_count": 65,
   "metadata": {},
   "outputs": [],
   "source": [
    "from torchvision.utils import make_grid\n",
    "def show_CMNIST(image, label, environment, ax):\n",
    "    \"\"\"Show image with landmarks\"\"\"\n",
    "    ax.figure\n",
    "    ax.imshow(image.permute(1,2,0))\n",
    "    ax.text(1,2,\"Label: {}\".format(label), backgroundcolor = \"white\",\n",
    "             color = \"black\", fontsize = 8)\n",
    "    ax.text(1,5,\"Environment: {}\".format(environment), backgroundcolor = \"white\",\n",
    "             color = \"black\", fontsize = 8)\n",
    "    ax.axis('off')"
   ]
  },
  {
   "cell_type": "markdown",
   "metadata": {},
   "source": [
    "# Initialization"
   ]
  },
  {
   "cell_type": "code",
   "execution_count": 66,
   "metadata": {},
   "outputs": [],
   "source": [
    "from collections import defaultdict\n",
    "# define the models, evaluator and optimizer\n",
    "\n",
    "# VAE\n",
    "latent_features = 10 #Hyper parameter\n",
    "ivae = iVariationalAutoencoder(images[0].shape, latent_features)\n",
    "\n",
    "# The Adam optimizer works really well with VAEs.\n",
    "optimizer = torch.optim.Adam(ivae.parameters(), lr=1e-4) #Hyper parameter, tilføj evt. weight_decay (L2 regularization)\n",
    "\n",
    "# define dictionary to store the training curves\n",
    "training_data = defaultdict(list)\n",
    "validation_data = defaultdict(list)\n",
    "\n",
    "epoch = 0"
   ]
  },
  {
   "cell_type": "code",
   "execution_count": 67,
   "metadata": {},
   "outputs": [
    {
     "name": "stdout",
     "output_type": "stream",
     "text": [
      ">> Using device: cpu\n"
     ]
    },
    {
     "ename": "RuntimeError",
     "evalue": "Can't call numpy() on Tensor that requires grad. Use tensor.detach().numpy() instead.",
     "output_type": "error",
     "traceback": [
      "\u001b[0;31m---------------------------------------------------------------------------\u001b[0m",
      "\u001b[0;31mRuntimeError\u001b[0m                              Traceback (most recent call last)",
      "Cell \u001b[0;32mIn [67], line 51\u001b[0m\n\u001b[1;32m     49\u001b[0m fig, axes \u001b[39m=\u001b[39m plt\u001b[39m.\u001b[39msubplots(\u001b[39m2\u001b[39m,\u001b[39m2\u001b[39m)\n\u001b[1;32m     50\u001b[0m show_CMNIST(x[\u001b[39m0\u001b[39m], label\u001b[39m=\u001b[39m\u001b[39mint\u001b[39m(y[\u001b[39m0\u001b[39m]), environment\u001b[39m=\u001b[39m\u001b[39mint\u001b[39m(e[\u001b[39m0\u001b[39m]), ax \u001b[39m=\u001b[39m axes[\u001b[39m0\u001b[39m,\u001b[39m0\u001b[39m])\n\u001b[0;32m---> 51\u001b[0m show_CMNIST(samples[\u001b[39m0\u001b[39;49m], label\u001b[39m=\u001b[39;49m\u001b[39mint\u001b[39;49m(y[\u001b[39m0\u001b[39;49m]), environment\u001b[39m=\u001b[39;49m\u001b[39mint\u001b[39;49m(e[\u001b[39m0\u001b[39;49m]),  ax \u001b[39m=\u001b[39;49m axes[\u001b[39m0\u001b[39;49m,\u001b[39m1\u001b[39;49m])\n\u001b[1;32m     52\u001b[0m axes[\u001b[39m1\u001b[39m,\u001b[39m0\u001b[39m]\u001b[39m.\u001b[39mplot(training_data[\u001b[39m'\u001b[39m\u001b[39melbo\u001b[39m\u001b[39m'\u001b[39m], label \u001b[39m=\u001b[39m \u001b[39m\"\u001b[39m\u001b[39melbo\u001b[39m\u001b[39m\"\u001b[39m)\n\u001b[1;32m     53\u001b[0m display(fig)\n",
      "Cell \u001b[0;32mIn [65], line 5\u001b[0m, in \u001b[0;36mshow_CMNIST\u001b[0;34m(image, label, environment, ax)\u001b[0m\n\u001b[1;32m      3\u001b[0m \u001b[39m\"\"\"Show image with landmarks\"\"\"\u001b[39;00m\n\u001b[1;32m      4\u001b[0m ax\u001b[39m.\u001b[39mfigure\n\u001b[0;32m----> 5\u001b[0m ax\u001b[39m.\u001b[39;49mimshow(image\u001b[39m.\u001b[39;49mpermute(\u001b[39m1\u001b[39;49m,\u001b[39m2\u001b[39;49m,\u001b[39m0\u001b[39;49m))\n\u001b[1;32m      6\u001b[0m ax\u001b[39m.\u001b[39mtext(\u001b[39m1\u001b[39m,\u001b[39m2\u001b[39m,\u001b[39m\"\u001b[39m\u001b[39mLabel: \u001b[39m\u001b[39m{}\u001b[39;00m\u001b[39m\"\u001b[39m\u001b[39m.\u001b[39mformat(label), backgroundcolor \u001b[39m=\u001b[39m \u001b[39m\"\u001b[39m\u001b[39mwhite\u001b[39m\u001b[39m\"\u001b[39m,\n\u001b[1;32m      7\u001b[0m          color \u001b[39m=\u001b[39m \u001b[39m\"\u001b[39m\u001b[39mblack\u001b[39m\u001b[39m\"\u001b[39m, fontsize \u001b[39m=\u001b[39m \u001b[39m8\u001b[39m)\n\u001b[1;32m      8\u001b[0m ax\u001b[39m.\u001b[39mtext(\u001b[39m1\u001b[39m,\u001b[39m5\u001b[39m,\u001b[39m\"\u001b[39m\u001b[39mEnvironment: \u001b[39m\u001b[39m{}\u001b[39;00m\u001b[39m\"\u001b[39m\u001b[39m.\u001b[39mformat(environment), backgroundcolor \u001b[39m=\u001b[39m \u001b[39m\"\u001b[39m\u001b[39mwhite\u001b[39m\u001b[39m\"\u001b[39m,\n\u001b[1;32m      9\u001b[0m          color \u001b[39m=\u001b[39m \u001b[39m\"\u001b[39m\u001b[39mblack\u001b[39m\u001b[39m\"\u001b[39m, fontsize \u001b[39m=\u001b[39m \u001b[39m8\u001b[39m)\n",
      "File \u001b[0;32m/Library/Frameworks/Python.framework/Versions/3.8/lib/python3.8/site-packages/matplotlib/_api/deprecation.py:454\u001b[0m, in \u001b[0;36mmake_keyword_only.<locals>.wrapper\u001b[0;34m(*args, **kwargs)\u001b[0m\n\u001b[1;32m    448\u001b[0m \u001b[39mif\u001b[39;00m \u001b[39mlen\u001b[39m(args) \u001b[39m>\u001b[39m name_idx:\n\u001b[1;32m    449\u001b[0m     warn_deprecated(\n\u001b[1;32m    450\u001b[0m         since, message\u001b[39m=\u001b[39m\u001b[39m\"\u001b[39m\u001b[39mPassing the \u001b[39m\u001b[39m%(name)s\u001b[39;00m\u001b[39m \u001b[39m\u001b[39m%(obj_type)s\u001b[39;00m\u001b[39m \u001b[39m\u001b[39m\"\u001b[39m\n\u001b[1;32m    451\u001b[0m         \u001b[39m\"\u001b[39m\u001b[39mpositionally is deprecated since Matplotlib \u001b[39m\u001b[39m%(since)s\u001b[39;00m\u001b[39m; the \u001b[39m\u001b[39m\"\u001b[39m\n\u001b[1;32m    452\u001b[0m         \u001b[39m\"\u001b[39m\u001b[39mparameter will become keyword-only \u001b[39m\u001b[39m%(removal)s\u001b[39;00m\u001b[39m.\u001b[39m\u001b[39m\"\u001b[39m,\n\u001b[1;32m    453\u001b[0m         name\u001b[39m=\u001b[39mname, obj_type\u001b[39m=\u001b[39m\u001b[39mf\u001b[39m\u001b[39m\"\u001b[39m\u001b[39mparameter of \u001b[39m\u001b[39m{\u001b[39;00mfunc\u001b[39m.\u001b[39m\u001b[39m__name__\u001b[39m\u001b[39m}\u001b[39;00m\u001b[39m()\u001b[39m\u001b[39m\"\u001b[39m)\n\u001b[0;32m--> 454\u001b[0m \u001b[39mreturn\u001b[39;00m func(\u001b[39m*\u001b[39;49margs, \u001b[39m*\u001b[39;49m\u001b[39m*\u001b[39;49mkwargs)\n",
      "File \u001b[0;32m/Library/Frameworks/Python.framework/Versions/3.8/lib/python3.8/site-packages/matplotlib/__init__.py:1423\u001b[0m, in \u001b[0;36m_preprocess_data.<locals>.inner\u001b[0;34m(ax, data, *args, **kwargs)\u001b[0m\n\u001b[1;32m   1420\u001b[0m \u001b[39m@functools\u001b[39m\u001b[39m.\u001b[39mwraps(func)\n\u001b[1;32m   1421\u001b[0m \u001b[39mdef\u001b[39;00m \u001b[39minner\u001b[39m(ax, \u001b[39m*\u001b[39margs, data\u001b[39m=\u001b[39m\u001b[39mNone\u001b[39;00m, \u001b[39m*\u001b[39m\u001b[39m*\u001b[39mkwargs):\n\u001b[1;32m   1422\u001b[0m     \u001b[39mif\u001b[39;00m data \u001b[39mis\u001b[39;00m \u001b[39mNone\u001b[39;00m:\n\u001b[0;32m-> 1423\u001b[0m         \u001b[39mreturn\u001b[39;00m func(ax, \u001b[39m*\u001b[39;49m\u001b[39mmap\u001b[39;49m(sanitize_sequence, args), \u001b[39m*\u001b[39;49m\u001b[39m*\u001b[39;49mkwargs)\n\u001b[1;32m   1425\u001b[0m     bound \u001b[39m=\u001b[39m new_sig\u001b[39m.\u001b[39mbind(ax, \u001b[39m*\u001b[39margs, \u001b[39m*\u001b[39m\u001b[39m*\u001b[39mkwargs)\n\u001b[1;32m   1426\u001b[0m     auto_label \u001b[39m=\u001b[39m (bound\u001b[39m.\u001b[39marguments\u001b[39m.\u001b[39mget(label_namer)\n\u001b[1;32m   1427\u001b[0m                   \u001b[39mor\u001b[39;00m bound\u001b[39m.\u001b[39mkwargs\u001b[39m.\u001b[39mget(label_namer))\n",
      "File \u001b[0;32m/Library/Frameworks/Python.framework/Versions/3.8/lib/python3.8/site-packages/matplotlib/axes/_axes.py:5604\u001b[0m, in \u001b[0;36mAxes.imshow\u001b[0;34m(self, X, cmap, norm, aspect, interpolation, alpha, vmin, vmax, origin, extent, interpolation_stage, filternorm, filterrad, resample, url, **kwargs)\u001b[0m\n\u001b[1;32m   5596\u001b[0m \u001b[39mself\u001b[39m\u001b[39m.\u001b[39mset_aspect(aspect)\n\u001b[1;32m   5597\u001b[0m im \u001b[39m=\u001b[39m mimage\u001b[39m.\u001b[39mAxesImage(\u001b[39mself\u001b[39m, cmap\u001b[39m=\u001b[39mcmap, norm\u001b[39m=\u001b[39mnorm,\n\u001b[1;32m   5598\u001b[0m                       interpolation\u001b[39m=\u001b[39minterpolation, origin\u001b[39m=\u001b[39morigin,\n\u001b[1;32m   5599\u001b[0m                       extent\u001b[39m=\u001b[39mextent, filternorm\u001b[39m=\u001b[39mfilternorm,\n\u001b[1;32m   5600\u001b[0m                       filterrad\u001b[39m=\u001b[39mfilterrad, resample\u001b[39m=\u001b[39mresample,\n\u001b[1;32m   5601\u001b[0m                       interpolation_stage\u001b[39m=\u001b[39minterpolation_stage,\n\u001b[1;32m   5602\u001b[0m                       \u001b[39m*\u001b[39m\u001b[39m*\u001b[39mkwargs)\n\u001b[0;32m-> 5604\u001b[0m im\u001b[39m.\u001b[39;49mset_data(X)\n\u001b[1;32m   5605\u001b[0m im\u001b[39m.\u001b[39mset_alpha(alpha)\n\u001b[1;32m   5606\u001b[0m \u001b[39mif\u001b[39;00m im\u001b[39m.\u001b[39mget_clip_path() \u001b[39mis\u001b[39;00m \u001b[39mNone\u001b[39;00m:\n\u001b[1;32m   5607\u001b[0m     \u001b[39m# image does not already have clipping set, clip to axes patch\u001b[39;00m\n",
      "File \u001b[0;32m/Library/Frameworks/Python.framework/Versions/3.8/lib/python3.8/site-packages/matplotlib/image.py:697\u001b[0m, in \u001b[0;36m_ImageBase.set_data\u001b[0;34m(self, A)\u001b[0m\n\u001b[1;32m    695\u001b[0m \u001b[39mif\u001b[39;00m \u001b[39misinstance\u001b[39m(A, PIL\u001b[39m.\u001b[39mImage\u001b[39m.\u001b[39mImage):\n\u001b[1;32m    696\u001b[0m     A \u001b[39m=\u001b[39m pil_to_array(A)  \u001b[39m# Needed e.g. to apply png palette.\u001b[39;00m\n\u001b[0;32m--> 697\u001b[0m \u001b[39mself\u001b[39m\u001b[39m.\u001b[39m_A \u001b[39m=\u001b[39m cbook\u001b[39m.\u001b[39;49msafe_masked_invalid(A, copy\u001b[39m=\u001b[39;49m\u001b[39mTrue\u001b[39;49;00m)\n\u001b[1;32m    699\u001b[0m \u001b[39mif\u001b[39;00m (\u001b[39mself\u001b[39m\u001b[39m.\u001b[39m_A\u001b[39m.\u001b[39mdtype \u001b[39m!=\u001b[39m np\u001b[39m.\u001b[39muint8 \u001b[39mand\u001b[39;00m\n\u001b[1;32m    700\u001b[0m         \u001b[39mnot\u001b[39;00m np\u001b[39m.\u001b[39mcan_cast(\u001b[39mself\u001b[39m\u001b[39m.\u001b[39m_A\u001b[39m.\u001b[39mdtype, \u001b[39mfloat\u001b[39m, \u001b[39m\"\u001b[39m\u001b[39msame_kind\u001b[39m\u001b[39m\"\u001b[39m)):\n\u001b[1;32m    701\u001b[0m     \u001b[39mraise\u001b[39;00m \u001b[39mTypeError\u001b[39;00m(\u001b[39m\"\u001b[39m\u001b[39mImage data of dtype \u001b[39m\u001b[39m{}\u001b[39;00m\u001b[39m cannot be converted to \u001b[39m\u001b[39m\"\u001b[39m\n\u001b[1;32m    702\u001b[0m                     \u001b[39m\"\u001b[39m\u001b[39mfloat\u001b[39m\u001b[39m\"\u001b[39m\u001b[39m.\u001b[39mformat(\u001b[39mself\u001b[39m\u001b[39m.\u001b[39m_A\u001b[39m.\u001b[39mdtype))\n",
      "File \u001b[0;32m/Library/Frameworks/Python.framework/Versions/3.8/lib/python3.8/site-packages/matplotlib/cbook/__init__.py:743\u001b[0m, in \u001b[0;36msafe_masked_invalid\u001b[0;34m(x, copy)\u001b[0m\n\u001b[1;32m    742\u001b[0m \u001b[39mdef\u001b[39;00m \u001b[39msafe_masked_invalid\u001b[39m(x, copy\u001b[39m=\u001b[39m\u001b[39mFalse\u001b[39;00m):\n\u001b[0;32m--> 743\u001b[0m     x \u001b[39m=\u001b[39m np\u001b[39m.\u001b[39;49marray(x, subok\u001b[39m=\u001b[39;49m\u001b[39mTrue\u001b[39;49;00m, copy\u001b[39m=\u001b[39;49mcopy)\n\u001b[1;32m    744\u001b[0m     \u001b[39mif\u001b[39;00m \u001b[39mnot\u001b[39;00m x\u001b[39m.\u001b[39mdtype\u001b[39m.\u001b[39misnative:\n\u001b[1;32m    745\u001b[0m         \u001b[39m# If we have already made a copy, do the byteswap in place, else make a\u001b[39;00m\n\u001b[1;32m    746\u001b[0m         \u001b[39m# copy with the byte order swapped.\u001b[39;00m\n\u001b[1;32m    747\u001b[0m         x \u001b[39m=\u001b[39m x\u001b[39m.\u001b[39mbyteswap(inplace\u001b[39m=\u001b[39mcopy)\u001b[39m.\u001b[39mnewbyteorder(\u001b[39m'\u001b[39m\u001b[39mN\u001b[39m\u001b[39m'\u001b[39m)  \u001b[39m# Swap to native order.\u001b[39;00m\n",
      "File \u001b[0;32m/Library/Frameworks/Python.framework/Versions/3.8/lib/python3.8/site-packages/torch/_tensor.py:955\u001b[0m, in \u001b[0;36mTensor.__array__\u001b[0;34m(self, dtype)\u001b[0m\n\u001b[1;32m    953\u001b[0m     \u001b[39mreturn\u001b[39;00m handle_torch_function(Tensor\u001b[39m.\u001b[39m__array__, (\u001b[39mself\u001b[39m,), \u001b[39mself\u001b[39m, dtype\u001b[39m=\u001b[39mdtype)\n\u001b[1;32m    954\u001b[0m \u001b[39mif\u001b[39;00m dtype \u001b[39mis\u001b[39;00m \u001b[39mNone\u001b[39;00m:\n\u001b[0;32m--> 955\u001b[0m     \u001b[39mreturn\u001b[39;00m \u001b[39mself\u001b[39;49m\u001b[39m.\u001b[39;49mnumpy()\n\u001b[1;32m    956\u001b[0m \u001b[39melse\u001b[39;00m:\n\u001b[1;32m    957\u001b[0m     \u001b[39mreturn\u001b[39;00m \u001b[39mself\u001b[39m\u001b[39m.\u001b[39mnumpy()\u001b[39m.\u001b[39mastype(dtype, copy\u001b[39m=\u001b[39m\u001b[39mFalse\u001b[39;00m)\n",
      "\u001b[0;31mRuntimeError\u001b[0m: Can't call numpy() on Tensor that requires grad. Use tensor.detach().numpy() instead."
     ]
    }
   ],
   "source": [
    "torch.manual_seed(1)\n",
    "num_epochs = 10 #hyper parametre\n",
    "#batch size hyper parameter can be changed in the dataloader in the beginning.\n",
    "\n",
    "device = torch.device(\"cuda:0\" if torch.cuda.is_available() else \"cpu\")\n",
    "print(f\">> Using device: {device}\")\n",
    "\n",
    "# move the model to the device\n",
    "ivae = ivae.to(device)\n",
    "sample_counter = 0\n",
    "# training..\n",
    "while epoch < num_epochs:\n",
    "    epoch+= 1\n",
    "    training_epoch_data = defaultdict(list)\n",
    "    ivae.train()\n",
    "    \n",
    "    # Go through each batch in the training dataset using the loader\n",
    "    # Note that y is not necessarily known as it is here\n",
    "    for sample in train_loader: #tqdm\n",
    "        sample_counter += 1\n",
    "        \n",
    "        x = sample['image']\n",
    "        x = x.to(device)\n",
    "\n",
    "        y = sample['label'].reshape(-1,1)\n",
    "        y = y.to(device)\n",
    "\n",
    "        e = sample['environment'].reshape(-1,1)\n",
    "        e = e.to(device)\n",
    "        \n",
    "        # perform a forward pass through the model and compute the ELBO\n",
    "        optimizer.zero_grad()\n",
    "        loss, diagnostics, outputs = ivae.VariationalInference(x, y, e, beta)\n",
    "        loss.backward()\n",
    "        optimizer.step()\n",
    "        \n",
    "        # gather data for the current bach\n",
    "        for k, v in diagnostics.items():\n",
    "            training_epoch_data[k] += [v.mean().item()]\n",
    "            \n",
    "\n",
    "    # gather data for the full epoch\n",
    "    for k, v in training_epoch_data.items():\n",
    "        training_data[k] += [np.mean(training_epoch_data[k])]\n",
    "\n",
    "    px = outputs['px']\n",
    "    samples = px.sample()\n",
    "\n",
    "    fig, axes = plt.subplots(2,2)\n",
    "    show_CMNIST(x[0], label=int(y[0]), environment=int(e[0]), ax = axes[0,0])\n",
    "    show_CMNIST(samples[0], label=int(y[0]), environment=int(e[0]),  ax = axes[0,1])\n",
    "    axes[1,0].plot(training_data['elbo'], label = \"elbo\")\n",
    "    display(fig)\n",
    "    clear_output(wait = True)\n",
    "\n",
    "\n",
    "    #if (epoch+1)%(num_epochs*0.1) == 0:\n",
    "        #print(\"epoch: {}: training loss: elbo = {}, kl = {}, log_px = {}, total loss = {}\".format(epoch, training_data['elbo'][epoch-1], training_data['kl'][epoch-1], training_data['log_px'][epoch-1]), loss)\n",
    "    \n",
    "    # Reproduce the figure from the begining of the notebook, plot the training curves and show latent samples\n",
    "    #make_vae_plots(ivae, x, y, outputs, training_data, validation_data)"
   ]
  },
  {
   "cell_type": "code",
   "execution_count": 273,
   "metadata": {},
   "outputs": [
    {
     "data": {
      "text/plain": [
       "tensor([[[[-5.6265e-02,  1.1377e-01, -6.7161e-02,  ...,  1.5139e-01,\n",
       "            7.2008e-02, -2.9612e-02],\n",
       "          [-1.4944e-01, -1.6908e-01,  2.1842e-02,  ..., -6.7915e-02,\n",
       "           -1.3264e-01,  3.9430e-02],\n",
       "          [-1.3856e-01, -1.4202e-01,  6.6282e-02,  ...,  3.4529e-02,\n",
       "           -3.0180e-02,  9.5235e-02],\n",
       "          ...,\n",
       "          [-1.5221e-01, -3.3479e-02, -1.4520e-01,  ...,  1.9089e-01,\n",
       "           -7.0138e-02,  3.3451e-02],\n",
       "          [-2.0357e-02,  1.9563e-03, -1.2012e-01,  ...,  1.4370e-01,\n",
       "            6.1695e-02, -7.4591e-02],\n",
       "          [-5.6420e-02,  3.8965e-03,  2.1729e-02,  ..., -7.5856e-02,\n",
       "           -1.7637e-02, -1.4125e-01]],\n",
       "\n",
       "         [[ 9.7472e-02,  1.3505e-01,  1.7246e-01,  ..., -7.5677e-03,\n",
       "            9.1261e-02, -1.3459e-01],\n",
       "          [ 1.8674e-02,  1.7034e-01,  7.9440e-02,  ...,  1.8191e-01,\n",
       "           -2.8973e-02,  2.2109e-02],\n",
       "          [-1.0370e-02,  9.2686e-03, -5.3829e-02,  ...,  2.1734e-01,\n",
       "           -1.4343e-01, -6.3392e-03],\n",
       "          ...,\n",
       "          [-1.9056e-02,  6.1428e-02,  3.2673e-01,  ..., -6.2047e-02,\n",
       "           -2.6702e-02, -9.5609e-02],\n",
       "          [-2.2233e-02, -2.2627e-01,  4.2647e-02,  ...,  1.1334e-02,\n",
       "            7.6999e-03, -2.0862e-01],\n",
       "          [ 1.4981e-01,  8.3798e-02, -4.3675e-02,  ...,  8.3435e-03,\n",
       "            2.2733e-02, -2.6379e-02]],\n",
       "\n",
       "         [[ 1.7252e-02, -5.0040e-02,  1.3207e-01,  ..., -1.1966e-01,\n",
       "           -6.3222e-02, -4.4493e-02],\n",
       "          [ 7.4765e-02, -3.7230e-02,  1.7996e-01,  ...,  6.1163e-04,\n",
       "            2.4560e-01, -1.4941e-02],\n",
       "          [ 1.8116e-01,  1.3279e-01, -1.1190e-01,  ...,  1.1527e-02,\n",
       "            7.8116e-03,  1.4300e-01],\n",
       "          ...,\n",
       "          [-6.5612e-02, -5.7363e-03,  2.2696e-03,  ..., -2.9959e-02,\n",
       "            1.1444e-01, -6.4845e-02],\n",
       "          [-4.1439e-02,  1.3765e-02,  1.5757e-02,  ..., -1.6623e-01,\n",
       "           -1.0068e-01,  7.5775e-02],\n",
       "          [ 1.0627e-01, -8.6397e-03,  7.8413e-03,  ...,  5.0793e-02,\n",
       "            3.1232e-02, -1.9024e-03]]],\n",
       "\n",
       "\n",
       "        [[[ 3.4197e-02,  6.1913e-02,  1.0366e-01,  ...,  7.0112e-02,\n",
       "           -6.2063e-02, -1.4219e-02],\n",
       "          [ 1.1609e-01,  1.7218e-01,  1.2476e-01,  ..., -1.1494e-01,\n",
       "            9.5655e-02, -1.0725e-02],\n",
       "          [ 1.2475e-01,  2.1720e-02,  1.3419e-01,  ..., -1.2827e-01,\n",
       "           -2.8485e-01, -9.2294e-03],\n",
       "          ...,\n",
       "          [-1.1545e-02, -1.5794e-03, -6.0247e-02,  ..., -2.7920e-02,\n",
       "            4.2362e-02,  6.6940e-02],\n",
       "          [-2.0600e-02,  1.3613e-01,  2.2923e-01,  ...,  5.3703e-02,\n",
       "            1.3758e-01,  4.0438e-02],\n",
       "          [-2.4619e-01,  9.9865e-02,  3.1377e-02,  ...,  8.0216e-02,\n",
       "            6.3795e-02, -3.3257e-02]],\n",
       "\n",
       "         [[ 5.5913e-02,  1.3078e-01,  1.4622e-01,  ..., -8.7273e-02,\n",
       "           -1.7653e-02, -9.3014e-02],\n",
       "          [ 7.4238e-02, -4.1061e-02,  5.3594e-02,  ..., -6.1957e-02,\n",
       "            6.2076e-02,  1.6608e-01],\n",
       "          [ 1.4244e-01, -2.7528e-02, -1.7293e-01,  ..., -5.9970e-02,\n",
       "            1.3971e-01,  4.3417e-02],\n",
       "          ...,\n",
       "          [ 2.3859e-01, -9.2731e-02,  7.6126e-02,  ...,  9.7144e-02,\n",
       "            2.3438e-02, -3.2332e-02],\n",
       "          [ 1.3019e-01, -1.6596e-01, -6.9515e-03,  ...,  2.3841e-01,\n",
       "           -2.4494e-01, -8.9050e-02],\n",
       "          [ 3.3160e-02,  1.4386e-01,  6.8073e-02,  ..., -9.0220e-02,\n",
       "           -1.6932e-01,  1.5964e-01]],\n",
       "\n",
       "         [[ 6.8731e-02,  1.0768e-01, -2.0800e-01,  ..., -1.2899e-01,\n",
       "           -1.7546e-01, -6.0877e-02],\n",
       "          [ 1.0691e-01, -1.0510e-02,  1.3892e-02,  ..., -7.7218e-02,\n",
       "           -3.8988e-02,  1.0588e-01],\n",
       "          [ 4.3157e-02,  4.8959e-03,  5.9533e-02,  ...,  1.2546e-02,\n",
       "           -1.6409e-02, -8.0808e-02],\n",
       "          ...,\n",
       "          [-1.1831e-01,  3.4446e-02, -2.3933e-03,  ...,  2.6715e-02,\n",
       "            1.2703e-01,  2.1536e-03],\n",
       "          [ 1.7656e-02, -2.8378e-02,  7.3688e-02,  ..., -3.9894e-02,\n",
       "           -7.8818e-02,  1.4386e-02],\n",
       "          [ 6.2899e-02,  5.4596e-02, -5.8298e-04,  ...,  1.3006e-01,\n",
       "            1.8466e-01, -1.4892e-01]]],\n",
       "\n",
       "\n",
       "        [[[ 3.7114e-02, -1.3114e-01, -1.1897e-02,  ..., -2.5330e-01,\n",
       "            1.7904e-02, -6.3995e-02],\n",
       "          [ 3.3964e-03,  2.4655e-01,  5.1616e-02,  ..., -1.4935e-01,\n",
       "           -4.7083e-02,  1.6733e-03],\n",
       "          [ 1.3775e-01, -8.9622e-02, -2.2154e-02,  ..., -7.4537e-02,\n",
       "           -1.2475e-01, -9.6987e-02],\n",
       "          ...,\n",
       "          [ 8.4005e-02, -1.6203e-01, -3.3507e-02,  ...,  4.1283e-02,\n",
       "            9.3939e-02,  6.2828e-02],\n",
       "          [-4.0237e-02,  1.2515e-01,  2.1287e-03,  ..., -1.0691e-01,\n",
       "           -1.3537e-02,  9.4917e-02],\n",
       "          [-1.0746e-02, -2.6167e-02, -1.4163e-01,  ...,  5.1049e-03,\n",
       "            7.8348e-02,  5.0477e-02]],\n",
       "\n",
       "         [[ 2.3163e-03,  1.4601e-01, -2.4796e-02,  ...,  2.1696e-02,\n",
       "            3.0722e-02,  3.0995e-03],\n",
       "          [-2.8242e-02,  1.1332e-02, -1.8616e-02,  ..., -1.7479e-02,\n",
       "           -9.5946e-02,  1.5223e-02],\n",
       "          [ 1.4408e-01,  6.6926e-02, -1.1406e-01,  ..., -3.9403e-02,\n",
       "            1.5606e-01,  5.1651e-03],\n",
       "          ...,\n",
       "          [ 8.4452e-02,  9.7659e-02, -8.6091e-02,  ..., -9.6872e-02,\n",
       "           -5.0101e-02, -2.0435e-01],\n",
       "          [ 1.8646e-01,  4.1438e-02,  3.5794e-02,  ..., -2.2229e-01,\n",
       "           -1.0993e-01, -1.7166e-02],\n",
       "          [ 5.5418e-02, -1.2658e-01,  2.4058e-02,  ..., -2.2631e-02,\n",
       "           -1.9038e-02,  6.2546e-02]],\n",
       "\n",
       "         [[-4.1936e-02, -1.6530e-01,  4.1422e-02,  ..., -1.5815e-01,\n",
       "           -9.0320e-02,  1.2124e-01],\n",
       "          [ 8.8531e-03, -4.4872e-02,  2.6836e-03,  ...,  1.5537e-01,\n",
       "            1.2930e-01,  1.5475e-02],\n",
       "          [ 8.1632e-02, -3.2269e-02,  8.5928e-02,  ...,  1.4315e-01,\n",
       "           -7.1625e-03,  2.8824e-02],\n",
       "          ...,\n",
       "          [-1.4808e-02, -5.1838e-03, -4.3812e-03,  ..., -9.3875e-02,\n",
       "            8.1697e-02,  1.3117e-01],\n",
       "          [-1.8246e-02,  2.5894e-01,  6.7119e-02,  ...,  3.3852e-02,\n",
       "           -1.0848e-01, -6.0166e-02],\n",
       "          [-1.3453e-02, -2.4316e-01,  8.4534e-02,  ...,  3.9073e-03,\n",
       "           -1.6811e-01,  1.1014e-01]]],\n",
       "\n",
       "\n",
       "        ...,\n",
       "\n",
       "\n",
       "        [[[-7.7802e-02,  5.2020e-04,  3.0832e-02,  ...,  1.0867e-01,\n",
       "           -1.3188e-01, -4.4538e-02],\n",
       "          [-1.2019e-01, -1.0431e-01, -2.0144e-01,  ...,  1.9485e-01,\n",
       "            6.4709e-02, -1.8953e-01],\n",
       "          [ 8.8276e-02,  1.6912e-01,  1.1236e-02,  ..., -4.5245e-02,\n",
       "           -1.1676e-01,  2.8757e-02],\n",
       "          ...,\n",
       "          [ 2.2152e-01, -6.1318e-02,  1.7743e-01,  ...,  4.1808e-03,\n",
       "            1.3004e-02, -6.5240e-04],\n",
       "          [ 3.2374e-02,  8.5735e-03, -6.8125e-02,  ..., -1.2725e-01,\n",
       "           -4.3232e-02, -4.7432e-02],\n",
       "          [ 1.6231e-01,  5.6585e-02, -4.3739e-02,  ..., -2.2643e-01,\n",
       "            6.6657e-02,  4.6102e-02]],\n",
       "\n",
       "         [[-8.6127e-03,  6.4182e-02,  8.8595e-02,  ..., -4.3969e-02,\n",
       "           -8.3671e-02, -9.6366e-03],\n",
       "          [ 2.0682e-01, -1.1356e-01, -8.9654e-02,  ..., -1.0880e-01,\n",
       "           -1.3281e-01, -5.4198e-02],\n",
       "          [-5.9245e-02,  4.3513e-02, -9.7927e-02,  ...,  4.9461e-02,\n",
       "           -6.4395e-02,  1.4118e-01],\n",
       "          ...,\n",
       "          [-1.8891e-01,  6.2889e-02,  1.8656e-01,  ..., -1.0419e-01,\n",
       "           -2.0572e-02, -3.2126e-02],\n",
       "          [ 3.0270e-02, -8.7451e-03, -8.5703e-02,  ..., -9.9994e-02,\n",
       "           -2.0122e-02,  2.6042e-03],\n",
       "          [ 1.7173e-01,  7.5539e-02, -4.2967e-02,  ..., -8.0367e-02,\n",
       "            8.5499e-02, -1.9422e-01]],\n",
       "\n",
       "         [[-1.4832e-01, -1.2642e-01,  7.3790e-02,  ..., -3.5088e-02,\n",
       "           -1.0776e-01, -1.0995e-02],\n",
       "          [ 4.7854e-02, -6.9026e-02,  1.2838e-01,  ..., -1.2708e-01,\n",
       "           -1.7324e-01,  1.1413e-01],\n",
       "          [ 4.1261e-02,  1.4219e-02, -2.3965e-01,  ...,  9.9527e-02,\n",
       "            3.6572e-02, -2.1026e-01],\n",
       "          ...,\n",
       "          [ 1.4799e-01,  8.8229e-02,  8.6935e-02,  ...,  8.7319e-02,\n",
       "           -2.3610e-03,  7.3278e-02],\n",
       "          [ 1.1397e-02,  1.3184e-02,  2.5636e-01,  ...,  2.2278e-04,\n",
       "            7.1854e-02, -1.8817e-01],\n",
       "          [ 4.8027e-02, -7.1420e-02, -1.7532e-02,  ..., -9.4798e-02,\n",
       "           -8.9920e-02,  6.7663e-02]]],\n",
       "\n",
       "\n",
       "        [[[-2.5367e-02,  8.4684e-02,  1.9667e-02,  ..., -1.3295e-02,\n",
       "           -8.8030e-02,  1.2140e-01],\n",
       "          [-1.9166e-03, -4.5193e-02,  1.0072e-02,  ..., -4.9576e-02,\n",
       "            1.3465e-01,  1.4991e-01],\n",
       "          [ 5.7658e-03,  3.1172e-01, -3.0655e-02,  ...,  8.4090e-02,\n",
       "           -1.1029e-02, -8.3464e-02],\n",
       "          ...,\n",
       "          [-8.0452e-02, -2.5206e-02, -1.3492e-01,  ..., -2.8637e-02,\n",
       "            2.1894e-01,  1.2772e-01],\n",
       "          [-6.9956e-03, -3.1560e-02, -5.1494e-02,  ..., -2.7272e-02,\n",
       "           -2.6296e-02, -1.0205e-01],\n",
       "          [-2.0050e-01,  1.3394e-01,  2.6057e-02,  ..., -9.1192e-02,\n",
       "            1.7984e-02,  8.6732e-02]],\n",
       "\n",
       "         [[ 2.1060e-02,  1.2913e-01,  2.6547e-03,  ..., -3.7641e-02,\n",
       "            3.0496e-02,  2.0193e-01],\n",
       "          [ 1.3856e-01, -1.0905e-01, -3.1368e-02,  ..., -5.6290e-02,\n",
       "           -1.0394e-01,  3.9071e-02],\n",
       "          [-2.9743e-02,  4.5213e-02, -6.5820e-02,  ...,  1.4379e-02,\n",
       "            7.1394e-03,  8.9067e-02],\n",
       "          ...,\n",
       "          [-2.4700e-02,  8.7291e-02,  1.5372e-01,  ..., -1.1016e-02,\n",
       "           -9.8020e-02, -2.0176e-03],\n",
       "          [ 1.0060e-01, -6.7253e-02,  1.1949e-01,  ..., -5.0128e-02,\n",
       "           -4.4528e-02,  6.2049e-02],\n",
       "          [-1.8224e-01,  3.6572e-02, -1.4961e-01,  ...,  1.7337e-01,\n",
       "           -2.5626e-02, -1.4119e-01]],\n",
       "\n",
       "         [[ 1.9907e-02, -1.6534e-01, -8.2226e-02,  ..., -3.8033e-02,\n",
       "            1.3163e-01, -1.0143e-02],\n",
       "          [ 6.0856e-03, -7.1067e-02,  5.1822e-02,  ...,  1.0163e-01,\n",
       "            2.1898e-02, -7.8630e-02],\n",
       "          [ 2.5215e-02,  4.6145e-02,  1.8047e-01,  ..., -1.1972e-01,\n",
       "            6.2717e-02, -8.9637e-02],\n",
       "          ...,\n",
       "          [ 4.5930e-02, -1.3463e-01,  1.0892e-01,  ..., -7.4595e-02,\n",
       "            5.2085e-02, -8.6160e-02],\n",
       "          [ 3.4761e-02, -3.3837e-02,  1.0405e-01,  ..., -2.9744e-03,\n",
       "           -8.3670e-02, -6.1938e-02],\n",
       "          [ 7.1672e-02, -9.6152e-02,  1.1489e-01,  ...,  1.2210e-01,\n",
       "           -1.1669e-01, -1.7461e-02]]],\n",
       "\n",
       "\n",
       "        [[[ 1.1761e-01, -5.5248e-02, -2.9502e-01,  ...,  3.7498e-02,\n",
       "           -5.9601e-02, -2.9283e-01],\n",
       "          [-2.3690e-01,  2.0777e-02, -1.5875e-01,  ..., -7.4776e-02,\n",
       "           -1.1335e-01,  5.2320e-02],\n",
       "          [-9.8855e-02,  7.8066e-02, -5.3376e-02,  ..., -8.7130e-02,\n",
       "            2.0339e-01,  9.3245e-02],\n",
       "          ...,\n",
       "          [-5.7388e-02, -1.0126e-01, -7.9090e-02,  ...,  1.7543e-02,\n",
       "           -1.2169e-01, -9.3743e-02],\n",
       "          [-1.3287e-01, -1.6794e-02,  1.3733e-01,  ...,  1.4723e-01,\n",
       "            4.2449e-02, -8.8421e-04],\n",
       "          [ 9.3879e-03, -1.5404e-01,  2.8487e-02,  ...,  6.6870e-02,\n",
       "           -1.4670e-01, -1.1898e-01]],\n",
       "\n",
       "         [[ 2.1603e-02,  1.5046e-01,  7.4307e-02,  ..., -3.1646e-02,\n",
       "            9.6585e-02,  1.1054e-02],\n",
       "          [-4.4315e-03,  3.8157e-02,  2.0974e-02,  ..., -4.4483e-02,\n",
       "            1.7712e-01, -8.8556e-02],\n",
       "          [-9.4921e-02, -1.4161e-01, -3.8263e-02,  ...,  9.8977e-02,\n",
       "            1.0158e-02, -5.1471e-02],\n",
       "          ...,\n",
       "          [ 1.8025e-01,  1.6897e-01, -1.5145e-02,  ..., -8.7503e-02,\n",
       "           -5.4146e-03, -1.3973e-01],\n",
       "          [ 1.6616e-02,  6.6313e-02,  6.5696e-02,  ..., -6.1506e-02,\n",
       "            9.7406e-02,  4.2777e-02],\n",
       "          [ 1.1485e-01, -4.0662e-02,  6.9144e-02,  ...,  1.0415e-01,\n",
       "            1.7804e-02,  7.4660e-02]],\n",
       "\n",
       "         [[ 2.2365e-03,  6.9862e-02,  4.8229e-02,  ...,  5.8982e-02,\n",
       "           -3.5834e-04, -1.1715e-01],\n",
       "          [ 3.9588e-02,  8.3263e-02, -2.5964e-02,  ...,  4.5036e-02,\n",
       "           -2.2112e-03,  8.3165e-02],\n",
       "          [ 2.2534e-01, -1.4372e-02, -9.9502e-02,  ..., -1.2440e-01,\n",
       "           -5.6020e-02,  2.9869e-02],\n",
       "          ...,\n",
       "          [-2.0310e-01,  9.6702e-02,  6.0158e-02,  ...,  5.6623e-02,\n",
       "           -8.6362e-02,  1.8950e-02],\n",
       "          [ 6.2330e-02, -7.1361e-02, -8.7707e-02,  ..., -1.9092e-01,\n",
       "            4.9228e-02,  2.3578e-01],\n",
       "          [ 1.9148e-01,  4.0537e-01, -1.0134e-01,  ...,  6.5558e-02,\n",
       "            4.0811e-02,  4.1400e-02]]]])"
      ]
     },
     "execution_count": 273,
     "metadata": {},
     "output_type": "execute_result"
    }
   ],
   "source": [
    "samples"
   ]
  },
  {
   "cell_type": "code",
   "execution_count": 54,
   "metadata": {},
   "outputs": [],
   "source": [
    "#torch.save(ivae.state_dict(), '50epochs_withchanges_and_detached_pz_ELBO.pt')"
   ]
  },
  {
   "cell_type": "code",
   "execution_count": 263,
   "metadata": {},
   "outputs": [
    {
     "name": "stderr",
     "output_type": "stream",
     "text": [
      "Clipping input data to the valid range for imshow with RGB data ([0..1] for floats or [0..255] for integers).\n"
     ]
    },
    {
     "data": {
      "image/png": "[encoded data removed]",
      "text/plain": [
       "<Figure size 640x480 with 4 Axes>"
      ]
     },
     "execution_count": 263,
     "metadata": {},
     "output_type": "execute_result"
    }
   ],
   "source": [
    "#ivae.load_state_dict(torch.load('30epochs.pt'))\n",
    "#ivae.load_state_dict(torch.load('50epochs_withchanges_and_detached_pz_ELBO.pt'))\n",
    "#Running model to test reconstruction on test data\n",
    "\n",
    "sample = next(iter(test_loader))\n",
    "x = sample['image']\n",
    "y = sample['label'].reshape(-1,1)\n",
    "e = sample['environment'].reshape(-1,1)\n",
    "\n",
    "output = ivae.forward(x, y, e)\n",
    "\n",
    "px = output['px']\n",
    "samples = px.sample()\n",
    "\n",
    "fig, axes = plt.subplots(2,2)\n",
    "\n",
    "sample_id = 3\n",
    "show_CMNIST(x[sample_id], label=int(y[sample_id]), environment=int(e[sample_id]), ax = axes[0,0])\n",
    "show_CMNIST(samples[sample_id], label=int(y[sample_id]), environment=int(e[sample_id]),  ax = axes[0,1])\n",
    "axes[1,0].plot(training_data['elbo'], label = \"elbo\")\n",
    "fig"
   ]
  },
  {
   "cell_type": "code",
   "execution_count": 178,
   "metadata": {},
   "outputs": [],
   "source": [
    "\n",
    "plt.clf()\n",
    "plt.close()\n",
    "plt.show()\n"
   ]
  },
  {
   "cell_type": "markdown",
   "metadata": {},
   "source": [
    "# Phase 2 - PC algorithm based on latent variable\n",
    "\n",
    "(page 6-7)"
   ]
  },
  {
   "cell_type": "code",
   "execution_count": 179,
   "metadata": {},
   "outputs": [
    {
     "name": "stderr",
     "output_type": "stream",
     "text": [
      "No GPU automatically detected. Setting SETTINGS.GPU to 0, and SETTINGS.NJOBS to cpu_count.\n"
     ]
    }
   ],
   "source": [
    "#Dummy code for the testing of the PC algorithm to ensure the model data is prepared in the right format\n",
    "import numpy as np\n",
    "import pandas as pd\n",
    "import cdt\n",
    "cdt.SETTINGS.rpath = '/Library/Frameworks/R.framework/Resources/bin/Rscript' # this path should point to your own R implementation !\n",
    "from cdt.causality.graph import PC\n",
    "import networkx as nx\n",
    "import matplotlib.pyplot as plt\n",
    "from pandas_profiling import ProfileReport\n",
    "\n",
    "#names = np.array([\"A\",\"B\", \"C\", \"D\", \"E\"])\n",
    "#data_df = pd.DataFrame(data, columns = names)\n",
    "#pc_test = PC(CItest = 'gaussian', alpha = 0.05, verbose=False).create_graph_from_data(data_df[names[permutation]])\n",
    "\n",
    "#nx.draw(pc_test, with_labels=True, font_weight='bold')\n",
    "#plt.show()\n",
    "\n",
    "### Implementing PC algorithm on CMNIST iVAE result ###\n",
    "#load full CMNIST dataset --- determine causal latent variables based on training data\n",
    "# -> assume ALL test data are reserved to after all training is done.\n",
    "#cmnist_data1 = CMNISTDataset(pt_file = \"data/ColoredMNIST/train1.pt\"\n",
    "#                            , environment = 1\n",
    "#                            , transform = transform_to_tensor)\n",
    "#cmnist_data2 = CMNISTDataset(pt_file = \"data/ColoredMNIST/train2.pt\"\n",
    "#                            , environment = 2\n",
    "#                           , transform = transform_to_tensor)\n",
    "\n",
    "cmnist = ConcatDataset([cmnist_data1, cmnist_data2])\n",
    "loader = DataLoader(cmnist, batch_size = 40000, batch_sampler = None)\n",
    "\n",
    "sample = next(iter(loader))\n",
    "\n",
    "x = sample['image']\n",
    "y = sample['label'].reshape(-1,1)\n",
    "e = sample['environment'].reshape(-1,1)\n",
    "\n",
    "output = ivae.forward(x, y, e)\n",
    "\n",
    "z = output['z']\n",
    "\n",
    "z_full = z\n",
    "x_full = x\n",
    "y_full = y\n",
    "e_full = e"
   ]
  },
  {
   "cell_type": "code",
   "execution_count": 180,
   "metadata": {},
   "outputs": [
    {
     "data": {
      "text/html": [
       "<div>\n",
       "<style scoped>\n",
       "    .dataframe tbody tr th:only-of-type {\n",
       "        vertical-align: middle;\n",
       "    }\n",
       "\n",
       "    .dataframe tbody tr th {\n",
       "        vertical-align: top;\n",
       "    }\n",
       "\n",
       "    .dataframe thead th {\n",
       "        text-align: right;\n",
       "    }\n",
       "</style>\n",
       "<table border=\"1\" class=\"dataframe\">\n",
       "  <thead>\n",
       "    <tr style=\"text-align: right;\">\n",
       "      <th></th>\n",
       "      <th>Z1</th>\n",
       "      <th>Z2</th>\n",
       "      <th>Z3</th>\n",
       "      <th>Z4</th>\n",
       "      <th>Z5</th>\n",
       "      <th>Z6</th>\n",
       "      <th>Z7</th>\n",
       "      <th>Z8</th>\n",
       "      <th>Z9</th>\n",
       "      <th>Z10</th>\n",
       "      <th>Y</th>\n",
       "      <th>E</th>\n",
       "    </tr>\n",
       "  </thead>\n",
       "  <tbody>\n",
       "    <tr>\n",
       "      <th>0</th>\n",
       "      <td>-28.863813</td>\n",
       "      <td>9.737092</td>\n",
       "      <td>-13.085998</td>\n",
       "      <td>1.511321</td>\n",
       "      <td>-8.297260</td>\n",
       "      <td>3.264535</td>\n",
       "      <td>21.100748</td>\n",
       "      <td>-25.607410</td>\n",
       "      <td>-7.075858</td>\n",
       "      <td>7.185764</td>\n",
       "      <td>1</td>\n",
       "      <td>1</td>\n",
       "    </tr>\n",
       "    <tr>\n",
       "      <th>1</th>\n",
       "      <td>15.691911</td>\n",
       "      <td>-5.519189</td>\n",
       "      <td>6.592261</td>\n",
       "      <td>7.428242</td>\n",
       "      <td>1.494911</td>\n",
       "      <td>-5.783765</td>\n",
       "      <td>-14.080337</td>\n",
       "      <td>9.699211</td>\n",
       "      <td>7.434881</td>\n",
       "      <td>-9.365891</td>\n",
       "      <td>0</td>\n",
       "      <td>1</td>\n",
       "    </tr>\n",
       "    <tr>\n",
       "      <th>2</th>\n",
       "      <td>3.668089</td>\n",
       "      <td>-6.109375</td>\n",
       "      <td>-8.359997</td>\n",
       "      <td>5.686059</td>\n",
       "      <td>-2.377572</td>\n",
       "      <td>-2.650699</td>\n",
       "      <td>-3.036004</td>\n",
       "      <td>-7.551551</td>\n",
       "      <td>6.737304</td>\n",
       "      <td>-0.056118</td>\n",
       "      <td>0</td>\n",
       "      <td>1</td>\n",
       "    </tr>\n",
       "    <tr>\n",
       "      <th>3</th>\n",
       "      <td>-10.297489</td>\n",
       "      <td>10.891542</td>\n",
       "      <td>-11.973906</td>\n",
       "      <td>9.119676</td>\n",
       "      <td>10.729688</td>\n",
       "      <td>8.549966</td>\n",
       "      <td>18.349329</td>\n",
       "      <td>-6.663344</td>\n",
       "      <td>-3.069950</td>\n",
       "      <td>4.043573</td>\n",
       "      <td>1</td>\n",
       "      <td>1</td>\n",
       "    </tr>\n",
       "    <tr>\n",
       "      <th>4</th>\n",
       "      <td>10.629117</td>\n",
       "      <td>-3.784494</td>\n",
       "      <td>-8.550118</td>\n",
       "      <td>4.429591</td>\n",
       "      <td>-8.347334</td>\n",
       "      <td>-4.815508</td>\n",
       "      <td>-3.832050</td>\n",
       "      <td>-7.798956</td>\n",
       "      <td>-3.401224</td>\n",
       "      <td>-8.796637</td>\n",
       "      <td>1</td>\n",
       "      <td>1</td>\n",
       "    </tr>\n",
       "  </tbody>\n",
       "</table>\n",
       "</div>"
      ],
      "text/plain": [
       "          Z1         Z2         Z3        Z4         Z5        Z6         Z7  \\\n",
       "0 -28.863813   9.737092 -13.085998  1.511321  -8.297260  3.264535  21.100748   \n",
       "1  15.691911  -5.519189   6.592261  7.428242   1.494911 -5.783765 -14.080337   \n",
       "2   3.668089  -6.109375  -8.359997  5.686059  -2.377572 -2.650699  -3.036004   \n",
       "3 -10.297489  10.891542 -11.973906  9.119676  10.729688  8.549966  18.349329   \n",
       "4  10.629117  -3.784494  -8.550118  4.429591  -8.347334 -4.815508  -3.832050   \n",
       "\n",
       "          Z8        Z9       Z10  Y  E  \n",
       "0 -25.607410 -7.075858  7.185764  1  1  \n",
       "1   9.699211  7.434881 -9.365891  0  1  \n",
       "2  -7.551551  6.737304 -0.056118  0  1  \n",
       "3  -6.663344 -3.069950  4.043573  1  1  \n",
       "4  -7.798956 -3.401224 -8.796637  1  1  "
      ]
     },
     "execution_count": 180,
     "metadata": {},
     "output_type": "execute_result"
    }
   ],
   "source": [
    "z_df = pd.DataFrame(z.detach())\n",
    "y_df = pd.DataFrame(y.detach())\n",
    "e_df = pd.DataFrame(e.detach())\n",
    "\n",
    "df = z_df; df['Y'] = y_df; df['E'] = e_df\n",
    "\n",
    "df.columns = ['Z1', 'Z2', 'Z3', 'Z4', 'Z5', 'Z6', 'Z7', 'Z8', 'Z9', 'Z10', 'Y', 'E']\n",
    "df.head()"
   ]
  },
  {
   "cell_type": "code",
   "execution_count": 181,
   "metadata": {},
   "outputs": [
    {
     "name": "stdout",
     "output_type": "stream",
     "text": [
      "tensor([-28.8638,   9.7371, -13.0860,   1.5113,  -8.2973,   3.2645,  21.1007,\n",
      "        -25.6074,  -7.0759,   7.1858], grad_fn=<SelectBackward0>)\n",
      "Z1    -28.863813\n",
      "Z2      9.737092\n",
      "Z3    -13.085998\n",
      "Z4      1.511321\n",
      "Z5     -8.297260\n",
      "Z6      3.264535\n",
      "Z7     21.100748\n",
      "Z8    -25.607410\n",
      "Z9     -7.075858\n",
      "Z10     7.185764\n",
      "Y       1.000000\n",
      "E       1.000000\n",
      "Name: 0, dtype: float64\n"
     ]
    }
   ],
   "source": [
    "#Testing that the format of the df is as expected\n",
    "print(z[0])\n",
    "print(df.iloc[0,])"
   ]
  },
  {
   "cell_type": "code",
   "execution_count": 211,
   "metadata": {},
   "outputs": [
    {
     "data": {
      "image/png": "[encoded data removed]",
      "text/plain": [
       "<Figure size 640x480 with 1 Axes>"
      ]
     },
     "metadata": {},
     "output_type": "display_data"
    }
   ],
   "source": [
    "pc = PC(alpha=0.0000000001)\n",
    "pc_output = pc.predict(df)\n",
    "\n",
    "nx.draw(pc_output, with_labels=True, font_weight='bold', font_size = 8)\n",
    "plt.show()"
   ]
  },
  {
   "cell_type": "code",
   "execution_count": 205,
   "metadata": {},
   "outputs": [
    {
     "data": {
      "text/plain": [
       "OutEdgeView([('Z1', 'Z2'), ('Z1', 'Z9'), ('Z1', 'Y'), ('Z2', 'Z3'), ('Z2', 'Z8'), ('Z3', 'Z5'), ('Z3', 'Z8'), ('Z4', 'Z5'), ('Z4', 'Z9'), ('Z5', 'Z10'), ('Z5', 'Y'), ('Z6', 'Z2'), ('Z6', 'Z3'), ('Z6', 'Z7'), ('Z6', 'Z8'), ('Z7', 'Z1'), ('Z7', 'Z4'), ('Z7', 'Z6'), ('Z7', 'Z8'), ('Z7', 'Z10'), ('Z7', 'Y'), ('Z8', 'Z4'), ('Z10', 'Z1'), ('Z10', 'Z2')])"
      ]
     },
     "execution_count": 205,
     "metadata": {},
     "output_type": "execute_result"
    }
   ],
   "source": [
    "pc_output.edges"
   ]
  },
  {
   "cell_type": "code",
   "execution_count": 206,
   "metadata": {},
   "outputs": [
    {
     "data": {
      "text/plain": [
       "tensor([[-28.8638,  -8.2973,  21.1007],\n",
       "        [ 15.6919,   1.4949, -14.0803],\n",
       "        [  3.6681,  -2.3776,  -3.0360],\n",
       "        ...,\n",
       "        [-25.7039,  -8.8659,  16.2820],\n",
       "        [-18.0259, -10.8122,  21.7096],\n",
       "        [-19.1398,   2.6627,  20.9139]], grad_fn=<IndexSelectBackward0>)"
      ]
     },
     "execution_count": 206,
     "metadata": {},
     "output_type": "execute_result"
    }
   ],
   "source": [
    "#Found indices:\n",
    "indices = torch.tensor([0,4,6])\n",
    "#Test\n",
    "torch.index_select(z, 1, indices)"
   ]
  },
  {
   "cell_type": "markdown",
   "metadata": {},
   "source": [
    "Determining the lambda parameters in equation (12) on page 7."
   ]
  },
  {
   "cell_type": "code",
   "execution_count": 207,
   "metadata": {},
   "outputs": [],
   "source": [
    "lambda1 = 1\n",
    "lambda2 = 1"
   ]
  },
  {
   "cell_type": "markdown",
   "metadata": {},
   "source": [
    "# Phase 3 - Learning an invariant predictor (classifier, *w*) based on the causal latent variables\n",
    "\n",
    "(page 7)"
   ]
  },
  {
   "cell_type": "markdown",
   "metadata": {},
   "source": [
    "#### CLASSIFIER, *w*"
   ]
  },
  {
   "cell_type": "code",
   "execution_count": null,
   "metadata": {},
   "outputs": [],
   "source": [
    "#equation 12 p. 7 => Skal formodentligt bruges ifm. at køre data igennem test-sættet sådan at vi kan konvertere de kausale latente\n",
    "#variable fra træningssættet til test-sættet.\n",
    "#px = ivae.observation_model(z)\n",
    "#log_px_z = px.log_prob(x)"
   ]
  },
  {
   "cell_type": "code",
   "execution_count": 209,
   "metadata": {},
   "outputs": [
    {
     "data": {
      "text/plain": [
       "Classifier(\n",
       "  (input_layer): Linear(in_features=3, out_features=50, bias=True)\n",
       "  (layer1): Linear(in_features=50, out_features=100, bias=True)\n",
       "  (output_layer): Linear(in_features=100, out_features=1, bias=True)\n",
       "  (relu): ReLU()\n",
       "  (sigmoid): Sigmoid()\n",
       ")"
      ]
     },
     "execution_count": 209,
     "metadata": {},
     "output_type": "execute_result"
    }
   ],
   "source": [
    "#Accuracy function from week 4:\n",
    "def accuracy(target, pred):\n",
    "    return metrics.accuracy_score(target.detach().cpu().numpy(), pred.detach().cpu().numpy())\n",
    "\n",
    "#Building a classifier:\n",
    "\n",
    "class Classifier(nn.Module):\n",
    "    def __init__(self):\n",
    "        super().__init__()\n",
    "\n",
    "        #Layers\n",
    "        self.input_layer = nn.Linear(in_features=3, out_features = 50)\n",
    "        self.layer1 = nn.Linear(in_features = 50, out_features = 100)\n",
    "        self.output_layer = nn.Linear(in_features = 100, out_features = 1)\n",
    "\n",
    "        #activation functions\n",
    "        self.relu = nn.ReLU()\n",
    "        self.sigmoid = nn.Sigmoid()\n",
    "    #forward function(self, x):\n",
    "    def forward(self, x):\n",
    "        \n",
    "        x = self.input_layer(x)\n",
    "        x = self.relu(self.layer1(x))\n",
    "        x = self.sigmoid(self.output_layer(x))\n",
    "\n",
    "        return x\n",
    "    # \n",
    "\n",
    "classifier = Classifier()\n",
    "classifier.to(device)\n",
    "\n"
   ]
  },
  {
   "cell_type": "code",
   "execution_count": 210,
   "metadata": {},
   "outputs": [
    {
     "name": "stdout",
     "output_type": "stream",
     "text": [
      "Output shape: torch.Size([1])\n",
      "Output logits:\n",
      "[0.11037068]\n"
     ]
    }
   ],
   "source": [
    "import torch.optim as optim\n",
    "from sklearn import metrics\n",
    "\n",
    "#Define loss function\n",
    "loss_fn = nn.BCELoss() \n",
    "#The adam algorithm automatically use momentum\n",
    "optimizer = optim.Adam(classifier.parameters(), lr = 1e-4) \n",
    "\n",
    "#Test model\n",
    "z = output['z']\n",
    "z = torch.index_select(z, 1, indices)\n",
    "out = classifier(z[1])\n",
    "print(\"Output shape:\", out.size())\n",
    "print(f\"Output logits:\\n{out.detach().cpu().numpy()}\")"
   ]
  },
  {
   "cell_type": "code",
   "execution_count": 130,
   "metadata": {},
   "outputs": [
    {
     "name": "stdout",
     "output_type": "stream",
     "text": [
      ">> Using device: cpu\n",
      "Epoch  1 : , Train acc 0.850260, Valid acc 0.098858\n",
      "Epoch  2 : , Train acc 0.850486, Valid acc 0.098157\n",
      "Epoch  3 : , Train acc 0.850561, Valid acc 0.097806\n",
      "Epoch  4 : , Train acc 0.850611, Valid acc 0.097656\n",
      "Epoch  5 : , Train acc 0.850611, Valid acc 0.097656\n"
     ]
    },
    {
     "ename": "KeyboardInterrupt",
     "evalue": "",
     "output_type": "error",
     "traceback": [
      "\u001b[0;31m---------------------------------------------------------------------------\u001b[0m",
      "\u001b[0;31mKeyboardInterrupt\u001b[0m                         Traceback (most recent call last)",
      "Cell \u001b[0;32mIn [130], line 46\u001b[0m\n\u001b[1;32m     43\u001b[0m loss \u001b[39m=\u001b[39m loss_fn(output, y)\n\u001b[1;32m     45\u001b[0m optimizer\u001b[39m.\u001b[39mzero_grad()\n\u001b[0;32m---> 46\u001b[0m loss\u001b[39m.\u001b[39;49mbackward()\n\u001b[1;32m     47\u001b[0m optimizer\u001b[39m.\u001b[39mstep()\n\u001b[1;32m     49\u001b[0m \u001b[39m# gather data for the current batch\u001b[39;00m\n",
      "File \u001b[0;32m/Library/Frameworks/Python.framework/Versions/3.8/lib/python3.8/site-packages/torch/_tensor.py:487\u001b[0m, in \u001b[0;36mTensor.backward\u001b[0;34m(self, gradient, retain_graph, create_graph, inputs)\u001b[0m\n\u001b[1;32m    477\u001b[0m \u001b[39mif\u001b[39;00m has_torch_function_unary(\u001b[39mself\u001b[39m):\n\u001b[1;32m    478\u001b[0m     \u001b[39mreturn\u001b[39;00m handle_torch_function(\n\u001b[1;32m    479\u001b[0m         Tensor\u001b[39m.\u001b[39mbackward,\n\u001b[1;32m    480\u001b[0m         (\u001b[39mself\u001b[39m,),\n\u001b[0;32m   (...)\u001b[0m\n\u001b[1;32m    485\u001b[0m         inputs\u001b[39m=\u001b[39minputs,\n\u001b[1;32m    486\u001b[0m     )\n\u001b[0;32m--> 487\u001b[0m torch\u001b[39m.\u001b[39;49mautograd\u001b[39m.\u001b[39;49mbackward(\n\u001b[1;32m    488\u001b[0m     \u001b[39mself\u001b[39;49m, gradient, retain_graph, create_graph, inputs\u001b[39m=\u001b[39;49minputs\n\u001b[1;32m    489\u001b[0m )\n",
      "File \u001b[0;32m/Library/Frameworks/Python.framework/Versions/3.8/lib/python3.8/site-packages/torch/autograd/__init__.py:197\u001b[0m, in \u001b[0;36mbackward\u001b[0;34m(tensors, grad_tensors, retain_graph, create_graph, grad_variables, inputs)\u001b[0m\n\u001b[1;32m    192\u001b[0m     retain_graph \u001b[39m=\u001b[39m create_graph\n\u001b[1;32m    194\u001b[0m \u001b[39m# The reason we repeat same the comment below is that\u001b[39;00m\n\u001b[1;32m    195\u001b[0m \u001b[39m# some Python versions print out the first line of a multi-line function\u001b[39;00m\n\u001b[1;32m    196\u001b[0m \u001b[39m# calls in the traceback and some print out the last line\u001b[39;00m\n\u001b[0;32m--> 197\u001b[0m Variable\u001b[39m.\u001b[39;49m_execution_engine\u001b[39m.\u001b[39;49mrun_backward(  \u001b[39m# Calls into the C++ engine to run the backward pass\u001b[39;49;00m\n\u001b[1;32m    198\u001b[0m     tensors, grad_tensors_, retain_graph, create_graph, inputs,\n\u001b[1;32m    199\u001b[0m     allow_unreachable\u001b[39m=\u001b[39;49m\u001b[39mTrue\u001b[39;49;00m, accumulate_grad\u001b[39m=\u001b[39;49m\u001b[39mTrue\u001b[39;49;00m)\n",
      "\u001b[0;31mKeyboardInterrupt\u001b[0m: "
     ]
    }
   ],
   "source": [
    "#Set iVAE to eval - the no.grad thing is not an issue as we are only using the encoder.\n",
    "ivae.eval()\n",
    "\n",
    "#TRAINING THE CLASSIFIER\n",
    "epoch = 0\n",
    "num_epochs = 50 #hyper parametre\n",
    "#batch size hyper parameter can be changed in the dataloader in the beginning.\n",
    "\n",
    "device = torch.device(\"cuda:0\" if torch.cuda.is_available() else \"cpu\")\n",
    "print(f\">> Using device: {device}\")\n",
    "\n",
    "# training..\n",
    "training_epoch_data = []\n",
    "test_epoch_data = []\n",
    "test_acc, train_acc = [], []\n",
    "\n",
    "while epoch < num_epochs:\n",
    "    epoch+= 1\n",
    "    training_batch_data = []\n",
    "    test_batch_data = []\n",
    "    classifier.train()\n",
    "    \n",
    "    # Go through each batch in the training dataset using the loader\n",
    "    # Note that y is not necessarily known as it is here\n",
    "    for sample in train_loader:\n",
    "        x = sample['image']\n",
    "        x = x.to(device)\n",
    "\n",
    "        y = sample['label'].to(torch.float32)\n",
    "        y = y.to(device)\n",
    "\n",
    "        e = sample['environment'].to(torch.float32)\n",
    "        e = e.to(device)\n",
    "        \n",
    "        # perform a forward pass through the model and compute the ELBO\n",
    "        qz = ivae.posterior(x, y.reshape(-1,1), e.reshape(-1,1))\n",
    "        z = qz.rsample()\n",
    "        z = torch.index_select(z, 1, indices)\n",
    "\n",
    "        #Get classification prediction\n",
    "        output = classifier(z).view(-1)\n",
    "\n",
    "        loss = loss_fn(output, y)\n",
    "\n",
    "        optimizer.zero_grad()\n",
    "        loss.backward()\n",
    "        optimizer.step()\n",
    "        \n",
    "        # gather data for the current batch\n",
    "        training_batch_data.append(loss)\n",
    "            \n",
    "\n",
    "    # gather data for the full epoch\n",
    "    training_epoch_data.append(torch.tensor(training_batch_data).mean())\n",
    "\n",
    "    # Evaluate on a single batch, do not propagate gradients\n",
    "    # with torch.no_grad():\n",
    "    #     classifier.eval()\n",
    "        \n",
    "    #     # Just load a single batch from the test loader\n",
    "    #     sample = next(iter(test_loader))\n",
    "    #     x = sample['image']\n",
    "    #     y = sample['label'].to(torch.float32)\n",
    "    #     x = x.to(device)\n",
    "    #     y = y.to(device)\n",
    "        \n",
    "    #     # perform a forward pass through the model and compute the ELBO\n",
    "    #     qz = vae.posterior(x)\n",
    "    #     z = qz.rsample()\n",
    "    #     output = classifier(z)\n",
    "        \n",
    "    #     # gather data for the validation step\n",
    "    #     test_batch_data.append(loss)\n",
    "    #     test_epoch_data.append(torch.tensor(training_batch_data).mean())\n",
    "    #     print(\"Epoch: {}, Mean epoch loss: {}\".format(epoch, torch.tensor(training_batch_data).mean()))\n",
    "#----------------------------------------------------------------\n",
    "    #Evaluate training\n",
    "    with torch.no_grad():\n",
    "        classifier.eval()\n",
    "        train_targs, train_preds = [], []\n",
    "        for sample in train_loader:\n",
    "            x = sample['image']\n",
    "            x = x.to(device)\n",
    "\n",
    "            y = sample['label']\n",
    "            y = y.to(device)\n",
    "\n",
    "            e = sample['environment']\n",
    "            e = e.to(device)\n",
    "            \n",
    "            # perform a forward pass through the model and compute the ELBO\n",
    "            qz = ivae.posterior(x, y.reshape(-1,1), e.reshape(-1,1))\n",
    "            z = qz.rsample()\n",
    "            z = torch.index_select(z, 1, indices)\n",
    "\n",
    "            #Get classification prediction\n",
    "            output = classifier(z).view(-1)\n",
    "            prediction = torch.round(output)\n",
    "\n",
    "            train_targs += list(y.numpy())\n",
    "            train_preds += list(prediction.data.numpy())\n",
    "\n",
    "        #Evaluating validation\n",
    "        val_targs, val_preds = [], []\n",
    "        for sample in test_loader:\n",
    "            x = sample['image']\n",
    "            x = x.to(device)\n",
    "\n",
    "            y = sample['label']\n",
    "            y = y.to(device)\n",
    "\n",
    "            e = sample['environment']\n",
    "            e = e.to(device)\n",
    "            \n",
    "            # perform a forward pass through the model and compute the ELBO\n",
    "            qz = ivae.posterior(x, y.reshape(-1,1), e.reshape(-1,1))\n",
    "            z = qz.rsample()\n",
    "            z = torch.index_select(z, 1, indices)\n",
    "\n",
    "            #Get classification prediction\n",
    "            output = classifier(z).view(-1)\n",
    "            prediction = torch.round(output)\n",
    "\n",
    "            val_targs += list(y.numpy())\n",
    "            val_preds += list(prediction.data.numpy())\n",
    "\n",
    "    train_acc_cur = accuracy(Tensor(train_targs),Tensor(train_preds))\n",
    "    train_acc.append(train_acc_cur)\n",
    "\n",
    "    test_acc_cur = accuracy(Tensor(val_targs),Tensor(val_preds))\n",
    "    test_acc.append(test_acc_cur)\n",
    "    print(\"Epoch %2i : , Train acc %f, Valid acc %f\" % (\n",
    "                epoch, train_acc_cur, test_acc_cur))\n",
    "\n",
    "epoch = np.arange(len(train_acc))\n",
    "plt.figure()\n",
    "plt.plot(epoch, train_acc, 'r', epoch, test_acc, 'b')\n",
    "plt.legend(['Train Accucary','Validation Accuracy'])\n",
    "plt.xlabel('Updates'), plt.ylabel('Acc')\n",
    "plt.show()"
   ]
  },
  {
   "cell_type": "markdown",
   "metadata": {},
   "source": [
    "Eq. 12 and classification based on test data"
   ]
  },
  {
   "cell_type": "code",
   "execution_count": 26,
   "metadata": {},
   "outputs": [
    {
     "data": {
      "text/plain": [
       "torch.Size([39999, 10])"
      ]
     },
     "execution_count": 26,
     "metadata": {},
     "output_type": "execute_result"
    }
   ],
   "source": [
    "z.shape"
   ]
  },
  {
   "cell_type": "code",
   "execution_count": 30,
   "metadata": {},
   "outputs": [],
   "source": [
    "test_data_full = DataLoader(cmnist_test_data, batch_size = 20000, batch_sampler = None)\n",
    "\n",
    "sample = next(iter(test_data_full))\n",
    "\n",
    "x_test = sample['image']\n",
    "y_test = sample['label'].reshape(-1,1)\n",
    "e_test = sample['environment'].reshape(-1,1)\n",
    "\n",
    "output = ivae.forward(x_test, y_test, e_test)\n",
    "\n",
    "z_test = output['z']\n",
    "\n",
    "z_full = z_test.detach()\n",
    "x_full = x_test.detach()\n",
    "y_full = y_test.detach()\n",
    "e_full = e_test.detach()"
   ]
  },
  {
   "cell_type": "code",
   "execution_count": 31,
   "metadata": {},
   "outputs": [],
   "source": [
    "cmnist = ConcatDataset([cmnist_data1, cmnist_data2])\n",
    "loader = DataLoader(cmnist, batch_size = 40000, batch_sampler = None)\n",
    "\n",
    "sample = next(iter(loader))\n",
    "\n",
    "x = sample['image']\n",
    "y = sample['label'].reshape(-1,1)\n",
    "e = sample['environment'].reshape(-1,1)\n",
    "\n",
    "output = ivae.forward(x, y, e)\n",
    "\n",
    "z = output['z']\n",
    "\n",
    "z_full = z.detach()\n",
    "x_full = x.detach()\n",
    "y_full = y.detach()\n",
    "e_full = e.detach()"
   ]
  },
  {
   "cell_type": "code",
   "execution_count": 32,
   "metadata": {},
   "outputs": [
    {
     "data": {
      "text/plain": [
       "tensor(362104.4062, grad_fn=<SumBackward0>)"
      ]
     },
     "execution_count": 32,
     "metadata": {},
     "output_type": "execute_result"
    }
   ],
   "source": [
    "torch.norm(z_test[:,range(0,4)], dim = 1).sum()"
   ]
  },
  {
   "cell_type": "code",
   "execution_count": 33,
   "metadata": {},
   "outputs": [],
   "source": [
    "px = ivae.observation_model(z_full)\n",
    "log_px = px.log_prob(x_full)"
   ]
  },
  {
   "cell_type": "code",
   "execution_count": 34,
   "metadata": {},
   "outputs": [
    {
     "name": "stdout",
     "output_type": "stream",
     "text": [
      "done i = 0\n",
      "done i = 1\n",
      "done i = 2\n",
      "done i = 3\n",
      "done i = 4\n",
      "done i = 5\n"
     ]
    },
    {
     "ename": "",
     "evalue": "",
     "output_type": "error",
     "traceback": [
      "\u001b[1;31mCanceled future for execute_request message before replies were done"
     ]
    },
    {
     "ename": "",
     "evalue": "",
     "output_type": "error",
     "traceback": [
      "\u001b[1;31mThe Kernel crashed while executing code in the the current cell or a previous cell. Please review the code in the cell(s) to identify a possible cause of the failure. Click <a href='https://aka.ms/vscodeJupyterKernelCrash'>here</a> for more info. View Jupyter <a href='command:jupyter.viewOutput'>log</a> for further details."
     ]
    }
   ],
   "source": [
    "n_parents = len(indices)\n",
    "options = np.array([0,1,2,3,4,5,6,7,8,9])\n",
    "ivae.eval()\n",
    "\n",
    "nll = []\n",
    "\n",
    "with torch.no_grad():\n",
    "    for i in range(0,10):\n",
    "        px = ivae.observation_model(z_full)\n",
    "\n",
    "        children = np.delete(options, i)\n",
    "        nll_temp = -(px.log_prob(x_full).sum() + lambda1*torch.norm(z_full[:,i]).sum() + lambda2*torch.norm(z_full[:,children].sum()))\n",
    "        nll.append(nll_temp)\n",
    "        print(\"done i = {}\".format(i))\n",
    "\n",
    "    "
   ]
  },
  {
   "cell_type": "code",
   "execution_count": 33,
   "metadata": {},
   "outputs": [
    {
     "data": {
      "image/png": "[encoded data removed]",
      "text/plain": [
       "<Figure size 640x480 with 1 Axes>"
      ]
     },
     "metadata": {},
     "output_type": "display_data"
    }
   ],
   "source": [
    "np.argmin(nll)\n",
    "plt.plot(nll)\n",
    "plt.show()"
   ]
  }
 ],
 "metadata": {
  "kernelspec": {
   "display_name": "Python 3.8.3 64-bit",
   "language": "python",
   "name": "python3"
  },
  "language_info": {
   "codemirror_mode": {
    "name": "ipython",
    "version": 3
   },
   "file_extension": ".py",
   "mimetype": "text/x-python",
   "name": "python",
   "nbconvert_exporter": "python",
   "pygments_lexer": "ipython3",
   "version": "3.8.3"
  },
  "vscode": {
   "interpreter": {
    "hash": "aee8b7b246df8f9039afb4144a1f6fd8d2ca17a180786b69acc140d282b71a49"
   }
  }
 },
 "nbformat": 4,
 "nbformat_minor": 4
}
