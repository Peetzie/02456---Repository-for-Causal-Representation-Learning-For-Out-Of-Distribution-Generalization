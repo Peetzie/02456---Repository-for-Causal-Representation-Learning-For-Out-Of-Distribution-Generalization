{
 "cells": [
  {
   "cell_type": "code",
   "execution_count": 1,
   "metadata": {},
   "outputs": [
    {
     "name": "stderr",
     "output_type": "stream",
     "text": [
      "c:\\Users\\Peetz\\miniconda3\\envs\\02456\\lib\\site-packages\\tqdm\\auto.py:22: TqdmWarning: IProgress not found. Please update jupyter and ipywidgets. See https://ipywidgets.readthedocs.io/en/stable/user_install.html\n",
      "  from .autonotebook import tqdm as notebook_tqdm\n"
     ]
    }
   ],
   "source": [
    "import pandas as pd\n",
    "import torch\n",
    "import numpy as np\n",
    "import matplotlib.pyplot as plt\n",
    "from skimage import io, transform\n",
    "import os\n",
    "from torch.utils.data import Dataset, DataLoader\n",
    "from torchvision import transforms, utils\n",
    "from sklearn import metrics\n",
    "\n",
    "from typing import *\n",
    "from IPython.display import Image, display, clear_output\n",
    "%matplotlib nbagg\n",
    "%matplotlib inline\n",
    "import seaborn as sns\n",
    "sns.set_style(\"whitegrid\")\n",
    "import math \n",
    "from torch import nn, Tensor\n",
    "from torch.nn.functional import softplus, relu\n",
    "from torch.distributions import Distribution\n",
    "from torch.distributions import Bernoulli, Normal\n",
    "from torch.utils.data import DataLoader, ConcatDataset\n",
    "from torch.utils.data.sampler import SubsetRandomSampler\n",
    "from torchvision.datasets import MNIST\n",
    "from torchvision.transforms import ToTensor\n",
    "from functools import reduce\n",
    "from torch.autograd import Variable\n",
    "from tqdm import tqdm\n",
    "from plotting import make_vae_plots\n",
    "\n",
    "CMNIST_list = torch.load(\"data/ColoredMNIST/train1.pt\")\n",
    "CMNIST = pd.DataFrame(CMNIST_list, columns = [\"image\", \"label\"])\n",
    "\n",
    "images = CMNIST.iloc[:,0]\n",
    "labels_df = CMNIST.iloc[:,1]\n",
    "labels = torch.tensor(labels_df)"
   ]
  },
  {
   "cell_type": "code",
   "execution_count": 2,
   "metadata": {},
   "outputs": [
    {
     "data": {
      "text/plain": [
       "torch.Size([3, 28, 28])"
      ]
     },
     "execution_count": 2,
     "metadata": {},
     "output_type": "execute_result"
    }
   ],
   "source": [
    "from torchvision.transforms import ToTensor\n",
    "\n",
    "transform_to_tensor = ToTensor()\n",
    "transform_to_tensor(images[0]).shape"
   ]
  },
  {
   "cell_type": "markdown",
   "metadata": {},
   "source": [
    "# Plotting function"
   ]
  },
  {
   "cell_type": "code",
   "execution_count": 3,
   "metadata": {},
   "outputs": [
    {
     "data": {
      "image/png": "[encoded data removed]",
      "text/plain": [
       "<Figure size 640x480 with 1 Axes>"
      ]
     },
     "metadata": {},
     "output_type": "display_data"
    }
   ],
   "source": [
    "def show_CMNIST(image, label, environment):\n",
    "    \"\"\"Show image with landmarks\"\"\"\n",
    "    plt.figure\n",
    "    plt.imshow(image)\n",
    "    plt.text(1,2,\"Label: {}\".format(label), backgroundcolor = \"white\",\n",
    "             color = \"black\", fontsize = 6)\n",
    "    plt.text(1,5,\"Environment: {}\".format(environment), backgroundcolor = \"white\",\n",
    "             color = \"black\", fontsize = 6)\n",
    "    plt.axis('off')\n",
    "    plt.show\n",
    "    plt.pause(0.001)  # pause a bit so that plots are updated\n",
    "\n",
    "show_CMNIST(images[0], labels[0], None)"
   ]
  },
  {
   "cell_type": "code",
   "execution_count": 4,
   "metadata": {},
   "outputs": [],
   "source": [
    "class CMNISTDataset(Dataset):\n",
    "    \"\"\"Face Landmarks dataset.\"\"\"\n",
    "\n",
    "    def __init__(self, pt_file, environment=None, transform=None):\n",
    "        \"\"\"\n",
    "        Args:\n",
    "            pt_file (string): Path to the pt file with annotations.\n",
    "            transform (callable, optional): Optional transform to be applied\n",
    "                on a sample.\n",
    "            environment (integer): Integer indicating the environment the data comes from\n",
    "        \"\"\"\n",
    "        self.CMNIST_frame = pd.DataFrame(torch.load(pt_file))\n",
    "        self.transform = transform\n",
    "        self.environment = environment\n",
    "\n",
    "    def __len__(self):\n",
    "        return len(self.CMNIST_frame)\n",
    "\n",
    "    def __getitem__(self, idx):\n",
    "        if torch.is_tensor(idx):\n",
    "            idx = idx.tolist()\n",
    "\n",
    "        image = self.CMNIST_frame.iloc[idx, 0]\n",
    "        label = self.CMNIST_frame.iloc[idx, 1]\n",
    "        sample = {'image': image, 'label': label, \"environment\": self.environment}\n",
    "\n",
    "        if self.transform:\n",
    "            sample = {'image': self.transform(image), 'label': label, \"environment\": self.environment}\n",
    "\n",
    "        return sample"
   ]
  },
  {
   "cell_type": "code",
   "execution_count": 5,
   "metadata": {},
   "outputs": [
    {
     "data": {
      "image/png": "[encoded data removed]",
      "text/plain": [
       "<Figure size 640x480 with 1 Axes>"
      ]
     },
     "metadata": {},
     "output_type": "display_data"
    },
    {
     "data": {
      "image/png": "[encoded data removed]",
      "text/plain": [
       "<Figure size 640x480 with 1 Axes>"
      ]
     },
     "metadata": {},
     "output_type": "display_data"
    },
    {
     "data": {
      "image/png": "[encoded data removed]",
      "text/plain": [
       "<Figure size 640x480 with 1 Axes>"
      ]
     },
     "metadata": {},
     "output_type": "display_data"
    },
    {
     "data": {
      "image/png": "[encoded data removed]",
      "text/plain": [
       "<Figure size 640x480 with 1 Axes>"
      ]
     },
     "metadata": {},
     "output_type": "display_data"
    }
   ],
   "source": [
    "cmnist_data = CMNISTDataset(pt_file = \"data/ColoredMNIST/train1.pt\", environment = 1)\n",
    "\n",
    "fig = plt.figure()\n",
    "\n",
    "for i in range(len(cmnist_data)):\n",
    "    sample = cmnist_data[i]\n",
    "\n",
    "    #print(i, sample['image'].shape, sample['label'].shape)\n",
    "\n",
    "    ax = plt.subplot(1, 4, i + 1)\n",
    "    plt.tight_layout()\n",
    "    ax.set_title('Sample #{}'.format(i))\n",
    "    ax.axis('off')\n",
    "    show_CMNIST(**sample)\n",
    "\n",
    "    if i == 3:\n",
    "        plt.show()\n",
    "        break"
   ]
  },
  {
   "cell_type": "code",
   "execution_count": 6,
   "metadata": {},
   "outputs": [],
   "source": [
    "cmnist_data1 = CMNISTDataset(pt_file = \"data/ColoredMNIST/train1.pt\"\n",
    "                            , environment = 1\n",
    "                            , transform = transform_to_tensor)\n",
    "cmnist_data2 = CMNISTDataset(pt_file = \"data/ColoredMNIST/train2.pt\"\n",
    "                            , environment = 2\n",
    "                            , transform = transform_to_tensor)\n",
    "train_loader = DataLoader(ConcatDataset([cmnist_data1, cmnist_data2]), batch_size=256, num_workers=0, drop_last = True)\n",
    "\n",
    "cmnist_test_data = CMNISTDataset(pt_file = \"data/ColoredMNIST/test.pt\"\n",
    "                                 , environment = 3\n",
    "                                 , transform = transform_to_tensor)\n",
    "test_loader = DataLoader(cmnist_test_data, batch_size = 512, num_workers = 0, drop_last = True)"
   ]
  },
  {
   "cell_type": "code",
   "execution_count": 7,
   "metadata": {},
   "outputs": [
    {
     "name": "stdout",
     "output_type": "stream",
     "text": [
      "0 torch.Size([256, 3, 28, 28]) torch.Size([256])\n",
      "1 torch.Size([256, 3, 28, 28]) torch.Size([256])\n",
      "2 torch.Size([256, 3, 28, 28]) torch.Size([256])\n",
      "3 torch.Size([256, 3, 28, 28]) torch.Size([256])\n"
     ]
    },
    {
     "data": {
      "image/png": "[encoded data removed]",
      "text/plain": [
       "<Figure size 640x480 with 1 Axes>"
      ]
     },
     "metadata": {},
     "output_type": "display_data"
    }
   ],
   "source": [
    "def show_batch(sample_batched):\n",
    "    \"\"\"Show image with landmarks for a batch of samples.\"\"\"\n",
    "    images_batch, landmarks_batch = \\\n",
    "            sample_batched['image'], sample_batched['label']\n",
    "    batch_size = len(images_batch)\n",
    "    im_size = images_batch.size(2)\n",
    "\n",
    "    grid = utils.make_grid(images_batch)\n",
    "    plt.imshow(grid.numpy().transpose((1, 2, 0)))\n",
    "\n",
    "for i_batch, sample_batched in enumerate(train_loader):\n",
    "    print(i_batch, sample_batched['image'].size(),\n",
    "          sample_batched['label'].size())\n",
    "\n",
    "    # observe 4th batch and stop.\n",
    "    if i_batch == 3:\n",
    "        plt.figure()\n",
    "        show_batch(sample_batched)\n",
    "        plt.axis('off')\n",
    "        plt.ioff()\n",
    "        plt.show()\n",
    "        break"
   ]
  },
  {
   "cell_type": "markdown",
   "metadata": {},
   "source": [
    "# iVAE:"
   ]
  },
  {
   "cell_type": "code",
   "execution_count": 8,
   "metadata": {},
   "outputs": [],
   "source": [
    "p = Bernoulli(logits=torch.zeros((1000,)))\n",
    "\n",
    "\n",
    "class ReparameterizedDiagonalGaussian(Distribution):\n",
    "    \"\"\"\n",
    "    A distribution `N(y | mu, sigma I)` compatible with the reparameterization trick given `epsilon ~ N(0, 1)`.\n",
    "    \"\"\"\n",
    "    def __init__(self, mu: Tensor, log_sigma:Tensor):\n",
    "        assert mu.shape == log_sigma.shape, f\"Tensors `mu` : {mu.shape} and ` log_sigma` : {log_sigma.shape} must be of the same shape\"\n",
    "        self.mu = mu\n",
    "        self.sigma = log_sigma.exp()\n",
    "        \n",
    "    #def sample_epsilon(self) -> Tensor:\n",
    "    #    \"\"\"`\\eps ~ N(0, I)`\"\"\"\n",
    "    #    return torch.empty_like(self.mu).normal_()\n",
    "        \n",
    "    #def sample(self) -> Tensor:\n",
    "    #    \"\"\"sample `z ~ N(z | mu, sigma)` (without gradients)\"\"\"\n",
    "    #    with torch.no_grad():\n",
    "    #        return self.rsample()\n",
    "        \n",
    "    #def rsample(self) -> Tensor:\n",
    "    #    \"\"\"sample `z ~ N(z | mu, sigma)` (with the reparameterization trick) \"\"\"\n",
    "    #    self.z = torch.distributions.Normal(self.mu, self.sigma)\n",
    "    #    return self.z.rsample() # <- your code\n",
    "        \n",
    "    def rsample(self) -> Tensor:\n",
    "        \"\"\"sample `z ~ N(z | mu, sigma)` (with the reparameterization trick) \"\"\"\n",
    "        eps = torch.empty_like(self.mu).normal_()\n",
    "        return self.mu + self.sigma * eps\n",
    "    # <- your code    \n",
    "        #return self.mu + self.sigma * self.sample_epsilon() # <- your code    \n",
    "    \n",
    "    def log_prob(self, z:Tensor) -> Tensor:\n",
    "        \"\"\"return the log probability: log `p(z)`\"\"\"\n",
    "        return - ((z - self.mu)**2)/(2*self.sigma**2) - torch.log(self.sigma) - math.log(math.sqrt(2 * math.pi)) # <- your code\n",
    "    \n",
    "    def mu(self):\n",
    "        return(self.mu, self.sigma)\n",
    "    #def log_prob(self, z:Tensor) -> Tensor:\n",
    "    #    \"\"\"return the log probability: log `p(z)`\"\"\"\n",
    "    #    dummy = self.rsample()\n",
    "    #    return self.z.log_prob(z) # <- your code"
   ]
  },
  {
   "cell_type": "code",
   "execution_count": 9,
   "metadata": {},
   "outputs": [
    {
     "data": {
      "image/png": "[encoded data removed]",
      "text/plain": [
       "<Figure size 1600x400 with 64 Axes>"
      ]
     },
     "metadata": {},
     "output_type": "display_data"
    }
   ],
   "source": [
    "#plot a few CMNIST examples\n",
    "f, axarr = plt.subplots(4, 16, figsize=(16, 4))\n",
    "\n",
    "# Load a batch of images into memory\n",
    "sample = next(iter(train_loader))\n",
    "images = sample['image']\n",
    "label = sample['label']\n",
    "environment = sample['environment']\n",
    "\n",
    "for i, ax in enumerate(axarr.flat):\n",
    "    ax.imshow(images[i].permute(1,2,0))\n",
    "    ax.axis('off')\n",
    "    \n",
    "plt.suptitle('MNIST handwritten digits')\n",
    "plt.show()"
   ]
  },
  {
   "cell_type": "markdown",
   "metadata": {},
   "source": [
    "# Generate synthetic data"
   ]
  },
  {
   "cell_type": "code",
   "execution_count": 22,
   "metadata": {},
   "outputs": [],
   "source": [
    "import numpy as np\n",
    "import torch\n",
    "import torch.nn as nn\n",
    "import torch.functional as F\n",
    "from torch.distributions import Distribution\n",
    "import torch.distributions as dist\n",
    "from torch.utils.data import Dataset, DataLoader"
   ]
  },
  {
   "cell_type": "code",
   "execution_count": 23,
   "metadata": {},
   "outputs": [],
   "source": [
    "class SynthNN(nn.Module):\n",
    "    def __init__(self, hidden_size = 6):\n",
    "        super().__init__()\n",
    "        self.function = nn.Sequential(\n",
    "            nn.Linear(in_features=3, out_features=hidden_size),\n",
    "            nn.ReLU(),\n",
    "            nn.Linear(in_features=hidden_size, out_features=10),\n",
    "        )\n",
    "    def forward(self, Z):\n",
    "        return self.function(Z)\n",
    "\n",
    "\n",
    "def simulate_synthetic_data(samples, function):\n",
    "    envs = np.array([0.2, 2, 3, 5])\n",
    "    E = np.random.choice([0,1,2,3], size = samples)\n",
    "\n",
    "    env = envs[E]\n",
    "    Z1 = env + np.random.normal(0, 1, size = samples)\n",
    "    Z2 = 2*env + np.random.normal(0, np.sqrt(2), size = samples)\n",
    "    Y = Z1 + Z2 + np.random.normal(0, 1, size = samples)\n",
    "    Z3 = Y + np.random.normal(0, 1, size = samples)\n",
    "    Z = np.stack([Z1, Z2, Z3], axis = 1)\n",
    "\n",
    "    if function == 'identity':\n",
    "        X = Z\n",
    "    elif function == 'linear':\n",
    "        S = np.random.normal(size = (2,10))\n",
    "        X = Z@S\n",
    "    elif function == 'nonlinear':\n",
    "        synthnn = SynthNN()\n",
    "        X = synthnn(torch.tensor(Z).float()).detach().numpy()\n",
    "    \n",
    "    return X, Y, E, Z, env"
   ]
  },
  {
   "cell_type": "code",
   "execution_count": 24,
   "metadata": {},
   "outputs": [],
   "source": [
    "model = SynthNN()\n",
    "x, y, e, z, env = simulate_synthetic_data(100, \"nonlinear\")"
   ]
  },
  {
   "cell_type": "code",
   "execution_count": 25,
   "metadata": {},
   "outputs": [],
   "source": [
    "class EnvDataset(Dataset):\n",
    "    def __init__(self, X, Y, E):\n",
    "        super().__init__()\n",
    "        self.X = torch.tensor(X)\n",
    "        self.Y = torch.tensor(Y).unsqueeze(1)\n",
    "        E = torch.tensor(E) #From Peter\n",
    "        # self.E = torch.nn.functional.one_hot(torch.tensor(E))\n",
    "        self.E = torch.nn.functional.one_hot(E.long())\n",
    "    \n",
    "    def __getitem__(self, index):\n",
    "        return self.X[index], self.Y[index], self.E[index] \n",
    "    \n",
    "    def __len__(self):\n",
    "        return(len(self.X))"
   ]
  },
  {
   "cell_type": "code",
   "execution_count": 26,
   "metadata": {},
   "outputs": [],
   "source": [
    "#Generate data\n",
    "torch.manual_seed(1)\n",
    "X, Y, envs, Z, E = simulate_synthetic_data(8000, 'nonlinear')\n",
    "dset = EnvDataset(X[:4000],Y[:4000],envs[:4000])\n",
    "train_loader = DataLoader(dset, batch_size=128, drop_last=True)\n",
    "dset = EnvDataset(X[4000:],Y[4000:],envs[4000:])\n",
    "test_loader = DataLoader(dset, batch_size=128, drop_last=True)"
   ]
  },
  {
   "cell_type": "code",
   "execution_count": 27,
   "metadata": {},
   "outputs": [
    {
     "name": "stdout",
     "output_type": "stream",
     "text": [
      "tensor([[0, 1, 0, 0],\n",
      "        [0, 0, 1, 0],\n",
      "        [0, 1, 0, 0],\n",
      "        [0, 0, 0, 1],\n",
      "        [0, 0, 1, 0],\n",
      "        [0, 1, 0, 0],\n",
      "        [0, 0, 0, 1],\n",
      "        [0, 0, 0, 1],\n",
      "        [0, 1, 0, 0],\n",
      "        [0, 0, 0, 1],\n",
      "        [0, 0, 1, 0],\n",
      "        [0, 0, 0, 1],\n",
      "        [0, 1, 0, 0],\n",
      "        [0, 0, 1, 0],\n",
      "        [1, 0, 0, 0],\n",
      "        [0, 1, 0, 0],\n",
      "        [0, 1, 0, 0],\n",
      "        [1, 0, 0, 0],\n",
      "        [0, 0, 0, 1],\n",
      "        [0, 0, 1, 0],\n",
      "        [0, 0, 1, 0],\n",
      "        [0, 0, 0, 1],\n",
      "        [1, 0, 0, 0],\n",
      "        [0, 0, 1, 0],\n",
      "        [0, 0, 0, 1],\n",
      "        [0, 1, 0, 0],\n",
      "        [0, 1, 0, 0],\n",
      "        [0, 1, 0, 0],\n",
      "        [1, 0, 0, 0],\n",
      "        [0, 1, 0, 0],\n",
      "        [0, 0, 1, 0],\n",
      "        [0, 0, 1, 0],\n",
      "        [1, 0, 0, 0],\n",
      "        [0, 1, 0, 0],\n",
      "        [0, 0, 0, 1],\n",
      "        [0, 1, 0, 0],\n",
      "        [1, 0, 0, 0],\n",
      "        [1, 0, 0, 0],\n",
      "        [0, 1, 0, 0],\n",
      "        [1, 0, 0, 0],\n",
      "        [0, 0, 1, 0],\n",
      "        [0, 0, 0, 1],\n",
      "        [0, 1, 0, 0],\n",
      "        [1, 0, 0, 0],\n",
      "        [0, 0, 0, 1],\n",
      "        [0, 1, 0, 0],\n",
      "        [0, 1, 0, 0],\n",
      "        [0, 0, 0, 1],\n",
      "        [0, 0, 0, 1],\n",
      "        [1, 0, 0, 0],\n",
      "        [0, 0, 0, 1],\n",
      "        [0, 1, 0, 0],\n",
      "        [0, 0, 1, 0],\n",
      "        [0, 0, 0, 1],\n",
      "        [1, 0, 0, 0],\n",
      "        [1, 0, 0, 0],\n",
      "        [0, 1, 0, 0],\n",
      "        [0, 0, 0, 1],\n",
      "        [0, 1, 0, 0],\n",
      "        [1, 0, 0, 0],\n",
      "        [0, 1, 0, 0],\n",
      "        [0, 1, 0, 0],\n",
      "        [1, 0, 0, 0],\n",
      "        [1, 0, 0, 0],\n",
      "        [0, 0, 0, 1],\n",
      "        [0, 1, 0, 0],\n",
      "        [1, 0, 0, 0],\n",
      "        [1, 0, 0, 0],\n",
      "        [0, 0, 0, 1],\n",
      "        [1, 0, 0, 0],\n",
      "        [0, 0, 0, 1],\n",
      "        [1, 0, 0, 0],\n",
      "        [0, 0, 1, 0],\n",
      "        [1, 0, 0, 0],\n",
      "        [1, 0, 0, 0],\n",
      "        [0, 1, 0, 0],\n",
      "        [0, 1, 0, 0],\n",
      "        [0, 1, 0, 0],\n",
      "        [0, 0, 1, 0],\n",
      "        [0, 0, 0, 1],\n",
      "        [0, 1, 0, 0],\n",
      "        [1, 0, 0, 0],\n",
      "        [0, 1, 0, 0],\n",
      "        [0, 1, 0, 0],\n",
      "        [0, 0, 1, 0],\n",
      "        [0, 0, 1, 0],\n",
      "        [1, 0, 0, 0],\n",
      "        [0, 1, 0, 0],\n",
      "        [1, 0, 0, 0],\n",
      "        [0, 0, 0, 1],\n",
      "        [0, 0, 1, 0],\n",
      "        [0, 1, 0, 0],\n",
      "        [0, 0, 0, 1],\n",
      "        [0, 1, 0, 0],\n",
      "        [1, 0, 0, 0],\n",
      "        [0, 0, 1, 0],\n",
      "        [0, 0, 1, 0],\n",
      "        [0, 0, 1, 0],\n",
      "        [0, 0, 0, 1],\n",
      "        [0, 1, 0, 0],\n",
      "        [0, 0, 0, 1],\n",
      "        [0, 1, 0, 0],\n",
      "        [0, 0, 1, 0],\n",
      "        [0, 1, 0, 0],\n",
      "        [0, 0, 1, 0],\n",
      "        [0, 0, 0, 1],\n",
      "        [0, 0, 1, 0],\n",
      "        [0, 0, 1, 0],\n",
      "        [0, 0, 0, 1],\n",
      "        [0, 1, 0, 0],\n",
      "        [0, 0, 0, 1],\n",
      "        [0, 1, 0, 0],\n",
      "        [1, 0, 0, 0],\n",
      "        [0, 0, 0, 1],\n",
      "        [1, 0, 0, 0],\n",
      "        [1, 0, 0, 0],\n",
      "        [1, 0, 0, 0],\n",
      "        [0, 0, 0, 1],\n",
      "        [0, 0, 0, 1],\n",
      "        [0, 0, 1, 0],\n",
      "        [0, 1, 0, 0],\n",
      "        [0, 0, 0, 1],\n",
      "        [0, 0, 0, 1],\n",
      "        [0, 1, 0, 0],\n",
      "        [1, 0, 0, 0],\n",
      "        [1, 0, 0, 0],\n",
      "        [0, 0, 0, 1],\n",
      "        [0, 0, 1, 0]])\n"
     ]
    }
   ],
   "source": [
    "test = next(iter(train_loader))\n",
    "print(test[2])"
   ]
  },
  {
   "cell_type": "markdown",
   "metadata": {},
   "source": [
    "# Phase 1 - NF-iVAE"
   ]
  },
  {
   "cell_type": "code",
   "execution_count": 28,
   "metadata": {},
   "outputs": [
    {
     "name": "stdout",
     "output_type": "stream",
     "text": [
      "iVAE(\n",
      "  (Lambdaflinear_prior): Sequential(\n",
      "    (0): Linear(in_features=2, out_features=50, bias=True)\n",
      "    (1): Linear(in_features=50, out_features=4, bias=True)\n",
      "  )\n",
      "  (Lambdafnl_prior): Sequential(\n",
      "    (0): Linear(in_features=5, out_features=128, bias=True)\n",
      "    (1): Linear(in_features=128, out_features=6, bias=True)\n",
      "    (2): ReLU()\n",
      "    (3): Linear(in_features=6, out_features=6, bias=True)\n",
      "  )\n",
      "  (TNN_prior): Sequential(\n",
      "    (0): Linear(in_features=3, out_features=128, bias=True)\n",
      "    (1): Linear(in_features=128, out_features=6, bias=True)\n",
      "    (2): ReLU()\n",
      "    (3): Linear(in_features=6, out_features=3, bias=True)\n",
      "  )\n",
      "  (LambdaNN): Sequential(\n",
      "    (0): Linear(in_features=5, out_features=128, bias=True)\n",
      "    (1): Linear(in_features=128, out_features=6, bias=True)\n",
      "    (2): ReLU()\n",
      "    (3): Linear(in_features=6, out_features=1, bias=True)\n",
      "  )\n",
      "  (LinearEncoder): Sequential(\n",
      "    (0): Linear(in_features=3, out_features=50, bias=True)\n",
      "    (1): Linear(in_features=50, out_features=3, bias=True)\n",
      "  )\n",
      "  (NonLinearEncoder): Sequential(\n",
      "    (0): Linear(in_features=15, out_features=128, bias=True)\n",
      "    (1): Linear(in_features=128, out_features=6, bias=True)\n",
      "    (2): ReLU()\n",
      "    (3): Linear(in_features=6, out_features=6, bias=True)\n",
      "  )\n",
      "  (LinearDecoder): Sequential(\n",
      "    (0): Linear(in_features=3, out_features=50, bias=True)\n",
      "    (1): Linear(in_features=50, out_features=2, bias=True)\n",
      "  )\n",
      "  (NonLinearDecoder): Sequential(\n",
      "    (0): Linear(in_features=3, out_features=128, bias=True)\n",
      "    (1): Linear(in_features=128, out_features=6, bias=True)\n",
      "    (2): ReLU()\n",
      "    (3): Linear(in_features=6, out_features=10, bias=True)\n",
      "  )\n",
      "  (relu): ReLU()\n",
      ")\n"
     ]
    }
   ],
   "source": [
    "def reduce(x:Tensor) -> Tensor:\n",
    "    \"\"\"for each datapoint: sum over all dimensions\"\"\"\n",
    "    return x.view(x.size(0), -1).sum(dim=1)\n",
    "\n",
    "class iVAE(nn.Module):\n",
    "    \"\"\"A Variational Autoencoder with\n",
    "    * a Bernoulli observation model `p_\\theta(x | z) = B(x | g_\\theta(z))`\n",
    "    * a Gaussian prior `p(z) = N(z | 0, I)`\n",
    "    * a Gaussian posterior `q_\\phi(z|x) = N(z | \\mu(x), \\sigma(x))`\n",
    "    \"\"\"\n",
    "    \n",
    "    def __init__(self, input_shape:torch.Size, latent_features:int) -> None:\n",
    "        super(iVAE, self).__init__()\n",
    "        \n",
    "        self.input_shape = input_shape\n",
    "        self.latent_features = latent_features\n",
    "\n",
    "        \n",
    "        # define the parameters of the prior, chosen as p(z) = N(0, I)\n",
    "        ## setting the prior to a vector consisting of zeros with dimensions (1,2*latent_features)\n",
    "        # self.register_buffer('prior_params', torch.zeros(torch.Size([1, 2*latent_features])))\n",
    "        \n",
    "        '''\n",
    "        According to page 31-32 the iVAE consist of 7 NNs:\n",
    "        1. TNN prior\n",
    "        2. lambdaNN prior\n",
    "        3. lambdaf prior\n",
    "        \n",
    "        4. X-encoder (Classic image CNN)\n",
    "        5. (Y, E)-encoder\n",
    "        6. (X, Y, E)-merger/encoder\n",
    "\n",
    "        7. Decoder\n",
    "\n",
    "        1-3: Learn priors based on the label distribution for the given environment\n",
    "        4-6: Encoding X, encoding Y and E and merging these two encoders, to generate a \n",
    "             qz which is conditional on the environment.\n",
    "        7: Decodes the latent space through pz. Since the latent space now contain some measure\n",
    "           of environment, then this distribution pz is consequentially conditioned on the environment\n",
    "\n",
    "        NN 1-3 can be found in the variational inference funktion.\n",
    "        '''\n",
    "        ####\n",
    "        #1/8\n",
    "        self.Lambdaflinear_prior = nn.Sequential(\n",
    "            nn.Linear(in_features = 2, out_features = 50),\n",
    "            nn.Linear(in_features = 50, out_features = 4)\n",
    "        )\n",
    "\n",
    "\n",
    "        #2/8\n",
    "        self.Lambdafnl_prior = nn.Sequential(\n",
    "            nn.Linear(in_features = 5, out_features = 128),\n",
    "            nn.Linear(in_features = 128, out_features = 6),\n",
    "            nn.ReLU(),\n",
    "            nn.Linear(in_features = 6, out_features = 6)\n",
    "        )\n",
    "\n",
    "        #3/8\n",
    "        self.TNN_prior = nn.Sequential(\n",
    "            nn.Linear(in_features = 3, out_features = 128),\n",
    "            nn.Linear(in_features = 128, out_features = 6),\n",
    "            nn.ReLU(),\n",
    "            nn.Linear(in_features = 6, out_features = 3)\n",
    "        )\n",
    "\n",
    "        #4/8\n",
    "        self.LambdaNN = nn.Sequential(\n",
    "            nn.Linear(in_features = 5, out_features = 128),\n",
    "            nn.Linear(in_features = 128, out_features = 6),\n",
    "            nn.ReLU(),\n",
    "            nn.Linear(in_features = 6, out_features = 1)\n",
    "        )\n",
    "\n",
    "        #5/8\n",
    "        self.LinearEncoder = nn.Sequential(\n",
    "            nn.Linear(in_features = latent_features, out_features = 50),\n",
    "            nn.Linear(in_features = 50, out_features = 3)\n",
    "        )\n",
    "\n",
    "        #6/8\n",
    "        self.NonLinearEncoder = nn.Sequential(\n",
    "            nn.Linear(in_features = 15, out_features = 128),\n",
    "            nn.Linear(in_features = 128, out_features = 6),\n",
    "            nn.ReLU(),\n",
    "            nn.Linear(in_features=6, out_features = 6)\n",
    "        )\n",
    "\n",
    "        #7/8\n",
    "        self.LinearDecoder = nn.Sequential(\n",
    "            nn.Linear(in_features = latent_features, out_features = 50),\n",
    "            nn.Linear(in_features = 50, out_features = 2),\n",
    "        )\n",
    "\n",
    "        #8/8\n",
    "        self.NonLinearDecoder = nn.Sequential(\n",
    "            nn.Linear(in_features = 3, out_features = 128),\n",
    "            nn.Linear(in_features = 128, out_features = 6),\n",
    "            nn.ReLU(),\n",
    "            nn.Linear(in_features = 6, out_features = 10),\n",
    "        )\n",
    "\n",
    "        # #### PRIORS PRIORS PRIORS PRIORS PRIORS PRIORS PRIORS PRIORS PRIORS ####\n",
    "        # #NN 1/7\n",
    "        # self.TNN_prior = nn.Sequential(\n",
    "        #     nn.Linear(in_features = latent_features, out_features=50), #Input\n",
    "        #     nn.Linear(in_features = 50, out_features=50), #Fully connected\n",
    "        #     nn.ReLU(),\n",
    "        #     nn.Linear(in_features = 50, out_features = 45)) #Output\n",
    "\n",
    "        # #NN 2/7\n",
    "        # self.LambdaNN_prior = nn.Sequential(\n",
    "        #     nn.Linear(in_features = 2, out_features=50), #Input\n",
    "        #     nn.Linear(in_features = 50, out_features=50), #Fully connected\n",
    "        #     nn.ReLU(),\n",
    "        #     nn.Linear(in_features = 50, out_features = 4)) #Output\n",
    "\n",
    "        # #NN 3/7\n",
    "        # self.Lambdaf_prior = nn.Sequential(\n",
    "        #     nn.Linear(in_features = 2, out_features=50), #Input\n",
    "        #     nn.Linear(in_features = 50, out_features=50), #Fully connected\n",
    "        #     nn.ReLU(),\n",
    "        #     nn.Linear(in_features = 50, out_features = 20))  #Output\n",
    "        # #### PRIORS PRIORS PRIORS PRIORS PRIORS PRIORS PRIORS PRIORS PRIORS ####\n",
    "\n",
    "        #  #For NN 4/7 X-Encoder: Inference Network\n",
    "        #  #Encode the observation `x` into the parameters of the posterior distribution\n",
    "        #  #`q_\\phi(z|x) = N(z | \\mu(x), \\sigma(x)), \\mu(x),\\log\\sigma(x) = h_\\phi(x)`\n",
    "        # self.encoderCNN1 = nn.Conv2d(in_channels = 3, out_channels = 32, kernel_size = 3, stride = 2, padding = 1)\n",
    "        # self.encoderCNN2 = nn.Conv2d(in_channels = 32, out_channels = 32, kernel_size = 3, stride = 2, padding = 1)\n",
    "        # self.encoderCNN3 = nn.Conv2d(in_channels = 32, out_channels = 32, kernel_size = 3, stride = 2, padding = 1)\n",
    "        \n",
    "        self.relu = nn.ReLU()\n",
    "        \n",
    "        ##NN 5/7 (Y, E)-Encoder\n",
    "        # self.YEencoder = nn.Sequential(\n",
    "        #     nn.Linear(in_features = 2, out_features=100),\n",
    "        #     nn.Linear(in_features = 100, out_features = 100),\n",
    "        #     nn.ReLU())\n",
    "\n",
    "        # ##NN 6/7 (X, Y, E)-merger/encoder\n",
    "        # #remember to concatenate x.flatten, y, e before running this.\n",
    "        # self.XYEmerger = nn.Sequential(\n",
    "        #     nn.Linear(in_features = 32 * 4 * 4 + 100, out_features=100),\n",
    "        #     nn.Linear(in_features = 100, out_features = 100),\n",
    "        #     nn.ReLU(),\n",
    "        #     nn.Linear(in_features = 100, out_features = 2*latent_features))\n",
    "\n",
    "\n",
    "        # #For NN 7/7 (Decoder): Generative Model\n",
    "        # #Decode the latent sample `z` into the parameters of the observation model\n",
    "        # #`p_\\theta(x | z) = \\prod_i B(x_i | g_\\theta(x))`\n",
    "        # self.decoderFFN = nn.Linear(in_features=latent_features, out_features = 32 * 4 * 4)\n",
    "        # self.decoderFFN2 = nn.Linear(in_features = 32 * 4 * 4, out_features = 32 * 4 * 4)\n",
    "        \n",
    "        # self.decoderCNN1 = nn.ConvTranspose2d(in_channels = 32, out_channels = 32, kernel_size = 3, stride = 2, padding = 1\n",
    "        #                       ,output_padding = 0)\n",
    "        # self.decoderCNN2 = nn.ConvTranspose2d(in_channels = 32, out_channels = 32, kernel_size = 3, stride = 2, padding = 1\n",
    "        #                       ,output_padding = 1)\n",
    "        # self.decoderCNN3 = nn.ConvTranspose2d(in_channels = 32, out_channels = 3, kernel_size = 3, stride = 2, padding = 1\n",
    "        #                       ,output_padding = 1)\n",
    "\n",
    "    #Funktion fra Thea, ved ikke helt hvor hun har den fra - ligner dog equation (2)\n",
    "    def prior_pdf(self, z, TNN_parameters, lambdaNN_parameters, lambdafnl_parameters, reduce = True):\n",
    "        #beregning fra side 28 under M.2. P_T,lambda(Z|Y,E).\n",
    "        nn = (TNN_parameters*lambdaNN_parameters).sum(dim = 1) #prikprodukt\n",
    "        z_cat = torch.cat((z, z.pow(2)), dim = 1) \n",
    "        f = (z_cat * lambdafnl_parameters).sum(dim = 1) #prik produkt\n",
    "        return nn + f\n",
    "\n",
    "    def prior_params(self, z, y, e):\n",
    "        \"\"\"return the distribution `p(z)`\"\"\"\n",
    "        TNN_parameters = self.TNN_prior(z)\n",
    "        ye = torch.cat((y, e), dim = 1)\n",
    "        ye = ye.to(torch.float32)\n",
    "        LambdaNN_parameters = self.LambdaNN(ye)\n",
    "        lambdafnl_parameters = self.Lambdafnl_prior(ye)\n",
    "\n",
    "        return TNN_parameters, LambdaNN_parameters, lambdafnl_parameters\n",
    "\n",
    "    #NN 4/7\n",
    "    def encoder(self, x, y, e):\n",
    "\n",
    "        #x = relu(self.encoderCNN1(x))\n",
    "        #x = relu(self.encoderCNN2(x))\n",
    "        #x = relu(self.encoderCNN3(x))\n",
    "        #x = x.view(x.size(0), -1) #NN 4/7\n",
    "        \n",
    "        ye = torch.cat((y, e), dim = 1)\n",
    "        # ye = ye.to(torch.float32)\n",
    "        # ye = self.YEencoder(ye) #NN 5/7\n",
    "\n",
    "        xye = torch.cat((x,y,e), dim = 1)\n",
    "        #print(xye.size())\n",
    "        xye = self.NonLinearEncoder(xye)\n",
    "        # xye = self.XYEmerger(xye) #NN 6/7\n",
    "        #mu, log_sigma =  x.chunk(2, dim=-1)\n",
    "        \n",
    "        return xye\n",
    "   \n",
    "    #NN 7/7\n",
    "    def decoder(self, z):\n",
    "        x = self.NonLinearDecoder(z)\n",
    "        #x = self.relu(self.decoderFFN(z))\n",
    "        #x = self.relu(self.decoderFFN2(x))\n",
    "        \n",
    "        # reshape x and add CNN decoder\n",
    "        #x = x.view(-1, 32, 4, 4)\n",
    "        \n",
    "        #x = relu(self.decoderCNN1(x))\n",
    "        #x = relu(self.decoderCNN2(x))\n",
    "        #x = self.decoderCNN3(x)\n",
    "        #mu, log_sigma =  x.chunk(2, dim=-1)\n",
    "        return x#mu, log_sigma.exp()\n",
    "        \n",
    "    def posterior(self, x:Tensor, y:Tensor, e:Tensor) -> Distribution:\n",
    "        \"\"\"return the distribution `q(x|x) = N(z | \\mu(x), \\sigma(x))`\"\"\"\n",
    "        \n",
    "        # compute the parameters of the posterior\n",
    "        #mu, log_sigma = self.encoder(x,y,e)\n",
    "        h_x = self.encoder(x, y, e)\n",
    "        mu, log_sigma =  h_x.chunk(2, dim=-1)\n",
    "        \n",
    "        # return a distribution `q(x|x) = N(z | \\mu(x), \\sigma(x))`\n",
    "        return ReparameterizedDiagonalGaussian(mu, log_sigma)\n",
    "\n",
    "    \n",
    "    def observation_model(self, z:Tensor) -> Distribution:\n",
    "        \"\"\"return the distribution `p(x|z)`\"\"\"\n",
    "        px_loc = self.decoder(z)\n",
    "        px_loc = px_loc.view(-1, *self.input_shape) # reshape the output #old\n",
    "        #sandsynlighedsfordeling der giver 1 eller 0, baseret p� log-odds givet i logits input fra p(x|z).\n",
    "        #Dvs. at px_logits angiver sandsynligheden for at det givne pixel er henholdsvist r�d,gr�n,bl�. Pixel v�rdien\n",
    "        #er enten 0 eller 1. N�r man sampler fra bernoulli fordelingen f�s dermed et billede, som givet z, giver en figur,\n",
    "        #som er bestemt af de sandsynligheder der er i px_logits (p(x|z)). Dvs. at for et givet latents space, kan en\n",
    "        #figur/et tal reproduceres ud fra de beregnede sandsynligheder og den efterf�lgende sample fra Bernoulli fordelingen.\n",
    "        #return Bernoulli(logits=px_loc, validate_args=False)\n",
    "        return Normal(loc=px_loc, scale = 0.1*torch.ones(px_loc.shape))\n",
    "        \n",
    "\n",
    "    def forward(self, x, y, e) -> Dict[str, Any]:\n",
    "        \"\"\"compute the posterior q(z|x) (encoder), sample z~q(z|x) and return the distribution p(x|z) (decoder)\"\"\"\n",
    "        \n",
    "        #### Run through ENCODER and calculate mu and sigma for latent space sampling\n",
    "        # define the posterior q(z|x) / encode x into q(z|x)\n",
    "        qz = self.posterior(x, y, e)\n",
    "        \n",
    "        # sample the posterior using the reparameterization trick: z ~ q(z | x)\n",
    "        #### LATENT SPACE\n",
    "        z = qz.rsample()\n",
    "        \n",
    "        #### DECODER\n",
    "        # define the observation model p(x|z) = B(x | g(z))\n",
    "        px = self.observation_model(z)\n",
    "\n",
    "        return {'px': px, 'qz': qz, 'z': z}\n",
    "\n",
    "    def VariationalInference(self, x, y, e):\n",
    "        \n",
    "        # forward pass through the model to get the encoder and decoder outputs\n",
    "        parameters_and_latent_space = self.forward(x, y, e)\n",
    "\n",
    "        # unpack encoder parameters from (px), decoder parameters (qz) and the latent space (z)\n",
    "        px_ze, qz_xye, z = [parameters_and_latent_space[k] for k in [\"px\", \"qz\", \"z\"]]\n",
    "\n",
    "\n",
    "        # DEFINE THE PRIOR p(z)\n",
    "        #### PRIOR\n",
    "        z_temp = z.detach().requires_grad_(requires_grad = True)\n",
    "        pz_params = self.prior_params(z_temp, y.detach(), e.detach())\n",
    "\n",
    "        #prior calculation from page 28 (til differentiering ifm. eq. 64 skal dette ikke v�re logget, men n�r\n",
    "        # elbo loss beregnes, skal man huske at tage log at denne v�rdi jvf. p. 28)\n",
    "        pz_ye =  self.prior_pdf(z_temp, *pz_params)\n",
    "        #OBS: HER SKAL DER IKKE ANVENDES LOG-PROBS AF PZ_YE JVF. SM DELEN AF EQ. (64) P� SIDE 28\n",
    "        dpz_ye = torch.autograd.grad(pz_ye.mean(), z_temp, create_graph = True, retain_graph=True)[0]\n",
    "\n",
    "        #ddpz_ye = torch.autograd.grad(dpz_ye.mean(), z_temp, create_graph = True, retain_graph=True)[0] #changed sum() to mean()\n",
    "        ddpz_ye = torch.autograd.grad(dpz_ye.sum(), z_temp, create_graph = True, retain_graph=True)[0] #original\n",
    "\n",
    "        #### SM loss SM loss SM loss SM loss SM loss SM loss SM loss SM loss ####\n",
    "        #Calculation from page 28 equation 64\n",
    "        SM = (ddpz_ye + 0.5 * dpz_ye.pow(2)).sum(1)\n",
    "        #### SM loss SM loss SM loss SM loss SM loss SM loss SM loss SM loss ####\n",
    "\n",
    "        #### ELBO loss ELBO loss ELBO loss ELBO loss ELBO loss ELBO loss ELBO loss ####\n",
    "        # evaluate log probabilities\n",
    "        # Skal jvf. s. 32 �ndres til at v�re en normal fordeling i stedet for en\n",
    "        # bernoulli fordeling, og her skal mean v�re outputtet af decoderen og varians skal\n",
    "        #blot s�ttes til at v�re 0.01\n",
    "        \n",
    "        log_px_ze = reduce(px_ze.log_prob(x)) #log(p(x|z)): Sandsynligheden for at observere vores input variabel x\n",
    "        #givet vores latent space (tjekker modellens evne til at rekonstruere sig selv, ved at maximere sandsynlig-\n",
    "        #heden for at observere inputtet selv, givet det konstruerede latent space.\n",
    "        \n",
    "        ####(old)log_pz = reduce(pz.log_prob(z)) #log(p(z)): \n",
    "        #log_pz_ye = torch.log(pz_ye)#Sandsynligheden for at observere vores latent space, givet at\n",
    "        #latent space f�lger en standard-normal fordeling (Jo h�jere sandsynlighed jo bedre)\n",
    "        \n",
    "        log_qz_xye = reduce(qz_xye.log_prob(z)) #log(q(z|x)): Sandsynligheden for at generere netop dette latent space givet \n",
    "        #vores input billede x. Denne v�rdi skal helst v�re lav?\n",
    "        \n",
    "        # compute the ELBO: \n",
    "        # `L^\\beta = E_q [ log p(x|z) ] - \\beta * D_KL(q(z|x) | p(z))`\n",
    "        # where `D_KL(q(z|x) | p(z)) = log q(z|x) - log p(z)`\n",
    "        #########################################################################################################\n",
    "        # Reconstruction loss: E_q [ log p(x|z) ]\n",
    "        # Regularization term: \\beta * D_KL(q(z|x) | p(z))` => Fors�ger at tvinge fordelingen q(z|x) mod N(0,1)?\n",
    "        #########################################################################################################\n",
    "        \n",
    "        kl = log_qz_xye - pz_ye.detach() #OBS: DENNE BEREGNING SKAL M�SKE �NDRES TIL AT TAGE LOG AF PZ_YE JVF P. 28.\n",
    "        \n",
    "        elbo = log_px_ze - kl\n",
    "        ####\n",
    "        \n",
    "        # loss\n",
    "        loss = -(elbo.mean() - SM.mean())\n",
    "        #print(\"SM: {}. elbo: {} = log_px_ze: {} + log_pz_ye: {} - log_qz_xye: {}\".format(SM.mean(), elbo.mean(),log_px_ze.mean(),pz_ye.mean(),log_qz_xye.mean()))\n",
    "\n",
    "        # prepare the output\n",
    "        with torch.no_grad():\n",
    "            diagnostics = {'elbo': elbo, 'log_px':log_px_ze, 'kl': kl}\n",
    "        \n",
    "        outputs = parameters_and_latent_space\n",
    "        return loss, diagnostics, outputs\n",
    "\n",
    "    #def sample_from_prior(self, batch_size:int=100):\n",
    "    #    \"\"\"sample z~p(z) and return p(x|z)\"\"\"\n",
    "    #    \n",
    "    #   # Laver bare reconstruction baseret p� latent space\n",
    "    #    #Kan evt. fjernes. Anvendes bare til at vise hvor god modellen er til at generere data baseret p�\n",
    "    #    #latent space genererede data. Funktionen anvendes kun i make_vae_plots.\n",
    "    #    \n",
    "    #    # degine the prior p(z)\n",
    "    #    pz = self.prior(batch_size=batch_size)\n",
    "    #    \n",
    "    #    # sample the prior \n",
    "    #    z = pz.rsample()\n",
    "    #    \n",
    "    #    # define the observation model p(x|z) = B(x | g(z))\n",
    "    #    px = self.observation_model(z)\n",
    "    #    \n",
    "    #    return {'px': px, 'pz': pz, 'z': z}\n",
    "\n",
    "\n",
    "latent_features = 3 #Husk at opdater denne parameter nede i 'initialization', hvis den skal bruges i VAE loopet ogs�\n",
    "batch_size = 128\n",
    "ivae = iVAE(images[0].shape, latent_features)\n",
    "print(ivae)"
   ]
  },
  {
   "cell_type": "markdown",
   "metadata": {},
   "source": [
    "# ELBO"
   ]
  },
  {
   "cell_type": "code",
   "execution_count": 29,
   "metadata": {},
   "outputs": [],
   "source": [
    "sample = next(iter(train_loader))\n",
    "images = sample[0]\n",
    "label = sample[1]#.reshape(-1,1)\n",
    "environment = sample[2]#.reshape(-1,1)\n",
    "\n",
    "x = images\n",
    "y = label\n",
    "e = environment"
   ]
  },
  {
   "cell_type": "code",
   "execution_count": 30,
   "metadata": {},
   "outputs": [
    {
     "name": "stdout",
     "output_type": "stream",
     "text": [
      "torch.Size([128, 10])\n",
      "torch.Size([128, 1])\n",
      "torch.Size([128, 4])\n"
     ]
    }
   ],
   "source": [
    "print(x.size())\n",
    "print(y.size())\n",
    "print(e.size())"
   ]
  },
  {
   "cell_type": "code",
   "execution_count": 31,
   "metadata": {},
   "outputs": [
    {
     "data": {
      "text/plain": [
       "tensor([[-7.9285e-01, -1.3911e-01, -3.3229e-01,  6.0784e-01,  4.7595e-01,\n",
       "         -2.9996e-01],\n",
       "        [-1.2160e+00,  1.0354e-01, -1.8538e-01,  7.9758e-01,  4.7204e-01,\n",
       "         -3.8121e-01],\n",
       "        [-6.2826e-01, -2.2796e-01, -3.2432e-01,  4.9018e-01,  3.0173e-01,\n",
       "         -2.7156e-01],\n",
       "        [-1.3390e+00,  2.1626e-01, -1.3169e-01,  9.6115e-01,  6.3671e-01,\n",
       "         -4.0263e-01],\n",
       "        [-1.2274e+00,  6.5394e-02, -2.8955e-01,  8.0580e-01,  4.8723e-01,\n",
       "         -3.4656e-01],\n",
       "        [-6.8211e-01, -1.9037e-01, -2.9867e-01,  5.2246e-01,  3.2728e-01,\n",
       "         -2.8678e-01],\n",
       "        [-1.6092e+00,  3.3081e-01, -1.3900e-01,  1.0698e+00,  7.2521e-01,\n",
       "         -4.4184e-01],\n",
       "        [-1.5695e+00,  2.8038e-01, -1.8848e-01,  1.0181e+00,  6.6435e-01,\n",
       "         -4.2137e-01],\n",
       "        [-6.8457e-01, -2.0851e-01, -3.6414e-01,  5.3934e-01,  4.0330e-01,\n",
       "         -2.7336e-01],\n",
       "        [-1.5157e+00,  2.8036e-01, -1.5111e-01,  1.0208e+00,  6.6862e-01,\n",
       "         -4.2186e-01],\n",
       "        [-9.8909e-01, -1.4180e-02, -2.0040e-01,  6.5960e-01,  3.8201e-01,\n",
       "         -3.5493e-01],\n",
       "        [-1.7164e+00,  4.0866e-01, -8.6754e-02,  1.1478e+00,  7.6331e-01,\n",
       "         -4.6475e-01],\n",
       "        [-7.4404e-01, -1.4967e-01, -2.8396e-01,  5.6919e-01,  3.7893e-01,\n",
       "         -3.0000e-01],\n",
       "        [-1.4170e+00,  2.0150e-01, -1.7703e-01,  8.9964e-01,  5.6312e-01,\n",
       "         -4.1261e-01],\n",
       "        [-3.3320e-01, -3.1399e-01, -3.8021e-01,  3.1064e-01,  5.7117e-02,\n",
       "         -2.2855e-01],\n",
       "        [-1.0433e+00,  1.3246e-02, -2.6503e-01,  7.5798e-01,  5.9313e-01,\n",
       "         -3.5167e-01],\n",
       "        [-6.0215e-01, -2.3726e-01, -3.1240e-01,  4.7439e-01,  2.6700e-01,\n",
       "         -2.6833e-01],\n",
       "        [-3.7120e-01, -3.4490e-01, -3.4975e-01,  3.7261e-01,  1.2028e-01,\n",
       "         -2.1303e-01],\n",
       "        [-1.1057e+00,  1.0509e-01, -1.4091e-01,  8.4894e-01,  5.4387e-01,\n",
       "         -3.6665e-01],\n",
       "        [-1.0556e+00,  1.0904e-02, -2.2151e-01,  7.0625e-01,  4.0888e-01,\n",
       "         -3.5123e-01],\n",
       "        [-9.6373e-01, -1.2726e-02, -1.7073e-01,  6.5149e-01,  3.6249e-01,\n",
       "         -3.5854e-01],\n",
       "        [-1.6856e+00,  3.3319e-01, -1.8450e-01,  1.0687e+00,  6.9605e-01,\n",
       "         -4.3798e-01],\n",
       "        [-3.7802e-01, -3.3701e-01, -3.1760e-01,  3.8732e-01,  1.0985e-01,\n",
       "         -2.1480e-01],\n",
       "        [-1.0783e+00,  4.8010e-02, -1.5497e-01,  7.1106e-01,  4.1146e-01,\n",
       "         -3.7928e-01],\n",
       "        [-1.3525e+00,  1.6372e-01, -2.2249e-01,  9.0443e-01,  5.7726e-01,\n",
       "         -3.8210e-01],\n",
       "        [-8.8990e-01, -4.8754e-02, -2.3185e-01,  6.7466e-01,  4.8046e-01,\n",
       "         -3.3495e-01],\n",
       "        [-8.5821e-01, -6.9685e-02, -2.2677e-01,  6.3516e-01,  4.2829e-01,\n",
       "         -3.3320e-01],\n",
       "        [-9.0690e-01, -1.9600e-02, -1.6491e-01,  6.7042e-01,  4.2169e-01,\n",
       "         -3.5237e-01],\n",
       "        [-3.5530e-01, -2.7061e-01, -3.8986e-01,  2.6775e-01,  2.0088e-02,\n",
       "         -2.5674e-01],\n",
       "        [-8.6176e-01, -7.8322e-02, -2.6646e-01,  6.5086e-01,  4.8011e-01,\n",
       "         -3.2469e-01],\n",
       "        [-9.9850e-01, -1.2126e-02, -2.0869e-01,  6.7000e-01,  3.8376e-01,\n",
       "         -3.5065e-01],\n",
       "        [-1.2634e+00,  1.2266e-01, -1.9770e-01,  8.3093e-01,  4.9182e-01,\n",
       "         -3.7964e-01],\n",
       "        [-5.9849e-01, -2.1386e-01, -2.8796e-01,  5.2572e-01,  2.9028e-01,\n",
       "         -2.6181e-01],\n",
       "        [-7.9651e-01, -1.2292e-01, -2.7818e-01,  5.9143e-01,  4.1294e-01,\n",
       "         -3.1329e-01],\n",
       "        [-1.4320e+00,  2.5895e-01, -1.2984e-01,  1.0020e+00,  6.7522e-01,\n",
       "         -4.1809e-01],\n",
       "        [-9.2172e-01, -4.5745e-02, -2.6187e-01,  6.8533e-01,  5.2909e-01,\n",
       "         -3.3786e-01],\n",
       "        [-5.1828e-01, -2.9458e-01, -3.7572e-01,  4.5641e-01,  2.7802e-01,\n",
       "         -2.3470e-01],\n",
       "        [-4.8265e-01, -2.7657e-01, -3.0746e-01,  4.7273e-01,  2.1780e-01,\n",
       "         -2.3207e-01],\n",
       "        [-7.0931e-01, -1.8237e-01, -3.3450e-01,  5.6170e-01,  4.0563e-01,\n",
       "         -2.8197e-01],\n",
       "        [-4.4777e-01, -3.2565e-01, -3.4947e-01,  4.0132e-01,  1.7828e-01,\n",
       "         -2.2726e-01],\n",
       "        [-1.0876e+00,  7.0925e-02, -1.1582e-01,  7.2571e-01,  4.0560e-01,\n",
       "         -3.8882e-01],\n",
       "        [-1.3572e+00,  1.6651e-01, -2.2534e-01,  9.0690e-01,  6.0599e-01,\n",
       "         -3.8726e-01],\n",
       "        [-6.1445e-01, -2.3891e-01, -3.3501e-01,  4.8259e-01,  2.9955e-01,\n",
       "         -2.6684e-01],\n",
       "        [-3.3741e-01, -3.2391e-01, -3.7034e-01,  3.1199e-01,  5.5155e-02,\n",
       "         -2.2689e-01],\n",
       "        [-1.3551e+00,  2.1346e-01, -1.4765e-01,  9.5732e-01,  6.3507e-01,\n",
       "         -4.0182e-01],\n",
       "        [-8.0203e-01, -1.1395e-01, -2.7490e-01,  6.1077e-01,  4.2961e-01,\n",
       "         -3.1199e-01],\n",
       "        [-9.1032e-01, -8.3981e-02, -3.2977e-01,  6.6059e-01,  5.3733e-01,\n",
       "         -3.2177e-01],\n",
       "        [-1.4279e+00,  2.5449e-01, -1.3298e-01,  9.9750e-01,  6.6446e-01,\n",
       "         -4.1543e-01],\n",
       "        [-1.8358e+00,  3.9299e-01, -1.9370e-01,  1.1251e+00,  7.3518e-01,\n",
       "         -4.5736e-01],\n",
       "        [-5.3394e-01, -2.6811e-01, -3.3391e-01,  4.7525e-01,  2.6276e-01,\n",
       "         -2.4318e-01],\n",
       "        [-1.2814e+00,  2.0597e-01, -1.0028e-01,  9.4436e-01,  6.1416e-01,\n",
       "         -4.0183e-01],\n",
       "        [-7.8317e-01, -1.3909e-01, -3.2383e-01,  6.0847e-01,  4.6532e-01,\n",
       "         -2.9824e-01],\n",
       "        [-1.1358e+00,  6.9760e-02, -1.7369e-01,  7.5275e-01,  4.3382e-01,\n",
       "         -3.7521e-01],\n",
       "        [-1.4593e+00,  2.2784e-01, -1.9466e-01,  9.6758e-01,  6.2275e-01,\n",
       "         -4.0326e-01],\n",
       "        [-3.5552e-01, -3.2869e-01, -3.7729e-01,  3.0274e-01,  6.1138e-02,\n",
       "         -2.3150e-01],\n",
       "        [-4.4352e-01, -3.1680e-01, -3.3670e-01,  4.1969e-01,  1.8187e-01,\n",
       "         -2.2469e-01],\n",
       "        [-6.7203e-01, -2.0702e-01, -3.4374e-01,  5.3357e-01,  3.7490e-01,\n",
       "         -2.7395e-01],\n",
       "        [-1.5712e+00,  3.4687e-01, -8.5617e-02,  1.0890e+00,  7.3176e-01,\n",
       "         -4.4616e-01],\n",
       "        [-9.1052e-01, -4.7035e-02, -2.5377e-01,  6.8381e-01,  5.1627e-01,\n",
       "         -3.3600e-01],\n",
       "        [-5.1951e-01, -2.5033e-01, -2.7728e-01,  4.8125e-01,  2.1138e-01,\n",
       "         -2.4713e-01],\n",
       "        [-8.9485e-01, -6.2780e-02, -2.8240e-01,  6.8424e-01,  5.3711e-01,\n",
       "         -3.2618e-01],\n",
       "        [-6.4792e-01, -2.2298e-01, -3.4185e-01,  5.0581e-01,  3.3910e-01,\n",
       "         -2.7186e-01],\n",
       "        [-4.7342e-01, -2.9920e-01, -3.4505e-01,  4.5421e-01,  2.3183e-01,\n",
       "         -2.2625e-01],\n",
       "        [-3.4135e-01, -2.9380e-01, -3.8752e-01,  2.9298e-01,  4.3494e-02,\n",
       "         -2.4040e-01],\n",
       "        [-1.2167e+00,  1.4041e-01, -1.6812e-01,  8.8619e-01,  5.8678e-01,\n",
       "         -3.7822e-01],\n",
       "        [-9.7701e-01, -9.6199e-04, -2.3098e-01,  7.3328e-01,  5.6469e-01,\n",
       "         -3.5151e-01],\n",
       "        [-3.5596e-01, -3.0905e-01, -3.9652e-01,  2.9417e-01,  6.2871e-02,\n",
       "         -2.3831e-01],\n",
       "        [-4.6258e-01, -3.0244e-01, -3.2882e-01,  4.3603e-01,  1.9650e-01,\n",
       "         -2.2896e-01],\n",
       "        [-1.5230e+00,  2.5858e-01, -1.9248e-01,  9.9706e-01,  6.6061e-01,\n",
       "         -4.1600e-01],\n",
       "        [-3.4688e-01, -2.8554e-01, -3.8762e-01,  2.8339e-01,  3.4212e-02,\n",
       "         -2.4656e-01],\n",
       "        [-1.4331e+00,  2.6221e-01, -1.1977e-01,  1.0058e+00,  6.4056e-01,\n",
       "         -4.1329e-01],\n",
       "        [-3.3381e-01, -3.1444e-01, -3.7900e-01,  3.1019e-01,  5.6086e-02,\n",
       "         -2.2875e-01],\n",
       "        [-1.1935e+00,  8.9464e-02, -1.9287e-01,  7.8478e-01,  4.6265e-01,\n",
       "         -3.7601e-01],\n",
       "        [-4.4748e-01, -3.1539e-01, -3.4111e-01,  4.2524e-01,  1.9240e-01,\n",
       "         -2.2416e-01],\n",
       "        [-4.9539e-01, -2.8986e-01, -3.2745e-01,  4.3904e-01,  2.0985e-01,\n",
       "         -2.3891e-01],\n",
       "        [-1.0014e+00,  9.9143e-04, -2.5690e-01,  7.4690e-01,  5.9581e-01,\n",
       "         -3.4936e-01],\n",
       "        [-7.6158e-01, -1.4055e-01, -2.9336e-01,  5.9090e-01,  4.1367e-01,\n",
       "         -2.9989e-01],\n",
       "        [-7.0300e-01, -1.7547e-01, -2.8861e-01,  5.3591e-01,  3.3793e-01,\n",
       "         -2.9253e-01],\n",
       "        [-9.5044e-01, -6.4870e-02, -2.8863e-01,  6.5849e-01,  3.7741e-01,\n",
       "         -3.1350e-01],\n",
       "        [-1.4009e+00,  2.3861e-01, -1.3716e-01,  9.8205e-01,  6.3790e-01,\n",
       "         -4.0776e-01],\n",
       "        [-9.5580e-01, -4.9962e-02, -3.0971e-01,  6.9449e-01,  5.7895e-01,\n",
       "         -3.3573e-01],\n",
       "        [-5.1346e-01, -2.5930e-01, -2.9168e-01,  4.7597e-01,  2.1750e-01,\n",
       "         -2.4378e-01],\n",
       "        [-7.1449e-01, -1.7961e-01, -3.2146e-01,  5.4923e-01,  3.8423e-01,\n",
       "         -2.8811e-01],\n",
       "        [-7.4046e-01, -1.5199e-01, -2.8928e-01,  5.7198e-01,  3.8504e-01,\n",
       "         -2.9747e-01],\n",
       "        [-1.1134e+00,  2.9910e-02, -2.4321e-01,  7.3937e-01,  4.3908e-01,\n",
       "         -3.5103e-01],\n",
       "        [-8.9424e-01, -5.4662e-02, -1.9386e-01,  6.1827e-01,  3.3300e-01,\n",
       "         -3.4004e-01],\n",
       "        [-5.2209e-01, -2.5799e-01, -3.1255e-01,  4.9586e-01,  2.5782e-01,\n",
       "         -2.3927e-01],\n",
       "        [-1.0170e+00,  1.7252e-02, -2.3627e-01,  7.5515e-01,  6.0240e-01,\n",
       "         -3.5877e-01],\n",
       "        [-7.4779e-01, -1.1239e-01, -2.4412e-01,  6.3922e-01,  4.0793e-01,\n",
       "         -2.9495e-01],\n",
       "        [-1.3090e+00,  1.9013e-01, -1.5130e-01,  9.3481e-01,  6.0929e-01,\n",
       "         -3.9264e-01],\n",
       "        [-1.2781e+00,  1.3783e-01, -1.7216e-01,  8.2720e-01,  4.9899e-01,\n",
       "         -3.9520e-01],\n",
       "        [-9.5761e-01, -6.0312e-03, -2.3174e-01,  7.3923e-01,  5.6381e-01,\n",
       "         -3.4421e-01],\n",
       "        [-1.5702e+00,  3.1826e-01, -1.3194e-01,  1.0584e+00,  7.1809e-01,\n",
       "         -4.3792e-01],\n",
       "        [-7.4169e-01, -1.6833e-01, -3.4048e-01,  5.7890e-01,  4.3850e-01,\n",
       "         -2.8792e-01],\n",
       "        [-4.4998e-01, -3.1527e-01, -3.3196e-01,  4.1177e-01,  1.7265e-01,\n",
       "         -2.2898e-01],\n",
       "        [-9.5156e-01, -1.8160e-02, -1.7284e-01,  6.5132e-01,  3.5289e-01,\n",
       "         -3.5295e-01],\n",
       "        [-1.0811e+00,  6.0340e-02, -1.3160e-01,  7.1829e-01,  4.0616e-01,\n",
       "         -3.8452e-01],\n",
       "        [-9.7481e-01, -3.4163e-02, -2.3564e-01,  6.5894e-01,  3.7943e-01,\n",
       "         -3.3859e-01],\n",
       "        [-1.3573e+00,  2.3500e-01, -1.1354e-01,  9.7781e-01,  6.5307e-01,\n",
       "         -4.1066e-01],\n",
       "        [-6.1803e-01, -2.2460e-01, -3.0157e-01,  4.8510e-01,  2.7264e-01,\n",
       "         -2.7315e-01],\n",
       "        [-1.4883e+00,  2.5349e-01, -1.7573e-01,  9.9342e-01,  6.5379e-01,\n",
       "         -4.1372e-01],\n",
       "        [-9.8327e-01,  9.4914e-03, -1.9052e-01,  7.1168e-01,  5.1032e-01,\n",
       "         -3.6431e-01],\n",
       "        [-7.7701e-01, -1.0527e-01, -1.8292e-01,  5.5793e-01,  2.7916e-01,\n",
       "         -3.2756e-01],\n",
       "        [-7.6467e-01, -1.3868e-01, -3.0666e-01,  6.0971e-01,  4.4411e-01,\n",
       "         -2.9512e-01],\n",
       "        [-1.2922e+00,  1.4499e-01, -1.6836e-01,  8.2926e-01,  5.0759e-01,\n",
       "         -4.0093e-01],\n",
       "        [-1.5826e+00,  3.1908e-01, -1.3525e-01,  1.0589e+00,  6.9114e-01,\n",
       "         -4.3387e-01],\n",
       "        [-1.1350e+00,  7.5024e-02, -1.5946e-01,  7.5091e-01,  4.3188e-01,\n",
       "         -3.8041e-01],\n",
       "        [-1.2126e+00,  1.3456e-01, -1.0647e-01,  7.9466e-01,  4.5579e-01,\n",
       "         -4.0646e-01],\n",
       "        [-1.2694e+00,  1.5557e-01, -1.8003e-01,  8.9978e-01,  5.9158e-01,\n",
       "         -3.8237e-01],\n",
       "        [-6.8742e-01, -1.7488e-01, -2.7353e-01,  5.3698e-01,  3.1954e-01,\n",
       "         -2.9000e-01],\n",
       "        [-1.4209e+00,  2.3513e-01, -1.5885e-01,  9.7716e-01,  6.4847e-01,\n",
       "         -4.0876e-01],\n",
       "        [-6.4674e-01, -2.0875e-01, -2.9899e-01,  5.0199e-01,  2.9609e-01,\n",
       "         -2.7944e-01],\n",
       "        [-3.7254e-01, -3.3255e-01, -3.5166e-01,  3.5271e-01,  9.9125e-02,\n",
       "         -2.2213e-01],\n",
       "        [-1.6012e+00,  3.3521e-01, -1.2226e-01,  1.0752e+00,  7.0168e-01,\n",
       "         -4.3902e-01],\n",
       "        [-5.3999e-01, -2.4216e-01, -2.8324e-01,  4.9240e-01,  2.3440e-01,\n",
       "         -2.5047e-01],\n",
       "        [-4.3667e-01, -3.2239e-01, -3.3386e-01,  4.0555e-01,  1.6389e-01,\n",
       "         -2.2564e-01],\n",
       "        [-5.0537e-01, -2.6715e-01, -3.0095e-01,  4.7043e-01,  2.1797e-01,\n",
       "         -2.4070e-01],\n",
       "        [-1.4041e+00,  2.0258e-01, -1.9858e-01,  9.4322e-01,  6.1976e-01,\n",
       "         -3.9725e-01],\n",
       "        [-1.3112e+00,  2.0006e-01, -1.3806e-01,  9.4524e-01,  6.2440e-01,\n",
       "         -3.9715e-01],\n",
       "        [-1.0219e+00, -3.0903e-02, -2.8720e-01,  6.9384e-01,  4.1014e-01,\n",
       "         -3.2454e-01],\n",
       "        [-8.8545e-01, -5.9771e-02, -2.5631e-01,  6.7305e-01,  4.9969e-01,\n",
       "         -3.2972e-01],\n",
       "        [-1.5714e+00,  2.7347e-01, -2.0107e-01,  1.0106e+00,  6.6060e-01,\n",
       "         -4.1931e-01],\n",
       "        [-1.2715e+00,  1.5324e-01, -1.8401e-01,  8.9726e-01,  5.8159e-01,\n",
       "         -3.8030e-01],\n",
       "        [-6.7760e-01, -1.9346e-01, -3.0552e-01,  5.2563e-01,  3.3480e-01,\n",
       "         -2.8362e-01],\n",
       "        [-4.8083e-01, -2.9061e-01, -3.1666e-01,  4.3979e-01,  1.9544e-01,\n",
       "         -2.3604e-01],\n",
       "        [-4.7058e-01, -2.9745e-01, -3.3000e-01,  4.4491e-01,  2.0858e-01,\n",
       "         -2.2963e-01],\n",
       "        [-1.4187e+00,  1.7099e-01, -2.5824e-01,  9.0876e-01,  5.8692e-01,\n",
       "         -3.8539e-01],\n",
       "        [-1.1300e+00,  6.2844e-02, -1.8204e-01,  7.4638e-01,  4.3489e-01,\n",
       "         -3.7343e-01]], grad_fn=<AddmmBackward0>)"
      ]
     },
     "execution_count": 31,
     "metadata": {},
     "output_type": "execute_result"
    }
   ],
   "source": [
    "ivae.encoder(x.float(), y.float(), e.float())"
   ]
  },
  {
   "cell_type": "code",
   "execution_count": 32,
   "metadata": {
    "scrolled": true
   },
   "outputs": [
    {
     "name": "stdout",
     "output_type": "stream",
     "text": [
      "loss   | mean =    285.377, shape: []\n",
      "elbo   | mean =   -285.384, shape: [128]\n",
      "log_px | mean =   -289.349, shape: [128]\n",
      "kl     | mean =     -3.966, shape: [128]\n"
     ]
    }
   ],
   "source": [
    "loss, diagnostics, outputs = ivae.VariationalInference(x.float(), y.float(), e.float())\n",
    "print(f\"{'loss':6} | mean = {loss:10.3f}, shape: {list(loss.shape)}\")\n",
    "for key, tensor in diagnostics.items():\n",
    "    print(f\"{key:6} | mean = {tensor.mean():10.3f}, shape: {list(tensor.shape)}\")"
   ]
  },
  {
   "cell_type": "code",
   "execution_count": 33,
   "metadata": {},
   "outputs": [],
   "source": [
    "from torchvision.utils import make_grid\n",
    "def show_CMNIST(image, label, environment, ax):\n",
    "    \"\"\"Show image with landmarks\"\"\"\n",
    "    ax.figure\n",
    "    ax.imshow(image.permute(1,2,0))\n",
    "    ax.text(1,2,\"Label: {}\".format(label), backgroundcolor = \"white\",\n",
    "             color = \"black\", fontsize = 8)\n",
    "    ax.text(1,5,\"Environment: {}\".format(environment), backgroundcolor = \"white\",\n",
    "             color = \"black\", fontsize = 8)\n",
    "    ax.axis('off')"
   ]
  },
  {
   "cell_type": "markdown",
   "metadata": {},
   "source": [
    "# Initialization"
   ]
  },
  {
   "cell_type": "code",
   "execution_count": 34,
   "metadata": {},
   "outputs": [],
   "source": [
    "from collections import defaultdict\n",
    "# define the models, evaluator and optimizer\n",
    "\n",
    "# VAE\n",
    "latent_features = 10 #Hyper parameter\n",
    "ivae = iVAE(images[0].shape, latent_features)\n",
    "\n",
    "# The Adam optimizer works really well with VAEs.\n",
    "optimizer = torch.optim.Adam(ivae.parameters(), lr=1e-4) #Hyper parameter, tilf�j evt. weight_decay (L2 regularization)\n",
    "\n",
    "# define dictionary to store the training curves\n",
    "training_data = defaultdict(list)\n",
    "validation_data = defaultdict(list)\n",
    "\n",
    "epoch = 0"
   ]
  },
  {
   "cell_type": "code",
   "execution_count": 35,
   "metadata": {},
   "outputs": [
    {
     "name": "stdout",
     "output_type": "stream",
     "text": [
      ">> Using device: cpu\n"
     ]
    },
    {
     "name": "stderr",
     "output_type": "stream",
     "text": [
      "100%|██████████| 31/31 [00:00<00:00, 74.55it/s]\n",
      "100%|██████████| 31/31 [00:00<00:00, 88.37it/s]\n",
      "100%|██████████| 31/31 [00:00<00:00, 92.11it/s]\n",
      "100%|██████████| 31/31 [00:00<00:00, 99.97it/s]\n",
      "100%|██████████| 31/31 [00:00<00:00, 101.43it/s]\n",
      "100%|██████████| 31/31 [00:00<00:00, 101.84it/s]\n",
      "100%|██████████| 31/31 [00:00<00:00, 104.18it/s]\n",
      "100%|██████████| 31/31 [00:00<00:00, 110.23it/s]\n",
      "100%|██████████| 31/31 [00:00<00:00, 105.38it/s]\n",
      "100%|██████████| 31/31 [00:00<00:00, 104.96it/s]\n",
      "100%|██████████| 31/31 [00:00<00:00, 99.76it/s] \n",
      "100%|██████████| 31/31 [00:00<00:00, 106.20it/s]\n",
      "100%|██████████| 31/31 [00:00<00:00, 103.33it/s]\n",
      "100%|██████████| 31/31 [00:00<00:00, 105.89it/s]\n",
      "100%|██████████| 31/31 [00:00<00:00, 105.77it/s]\n",
      "100%|██████████| 31/31 [00:00<00:00, 107.34it/s]\n",
      "100%|██████████| 31/31 [00:00<00:00, 109.63it/s]\n",
      "100%|██████████| 31/31 [00:00<00:00, 109.91it/s]\n",
      "100%|██████████| 31/31 [00:00<00:00, 110.29it/s]\n",
      "100%|██████████| 31/31 [00:00<00:00, 105.50it/s]\n",
      "100%|██████████| 31/31 [00:00<00:00, 108.23it/s]\n",
      "100%|██████████| 31/31 [00:00<00:00, 107.53it/s]\n",
      "100%|██████████| 31/31 [00:00<00:00, 105.59it/s]\n",
      "100%|██████████| 31/31 [00:00<00:00, 110.59it/s]\n",
      "100%|██████████| 31/31 [00:00<00:00, 133.11it/s]\n",
      "100%|██████████| 31/31 [00:00<00:00, 139.39it/s]\n",
      "100%|██████████| 31/31 [00:00<00:00, 136.72it/s]\n",
      "100%|██████████| 31/31 [00:00<00:00, 136.88it/s]\n",
      "100%|██████████| 31/31 [00:00<00:00, 140.58it/s]\n",
      "100%|██████████| 31/31 [00:00<00:00, 144.11it/s]\n",
      "100%|██████████| 31/31 [00:00<00:00, 144.01it/s]\n",
      "100%|██████████| 31/31 [00:00<00:00, 139.87it/s]\n",
      "100%|██████████| 31/31 [00:00<00:00, 135.57it/s]\n",
      "100%|██████████| 31/31 [00:00<00:00, 150.95it/s]\n",
      "100%|██████████| 31/31 [00:00<00:00, 143.10it/s]\n",
      "100%|██████████| 31/31 [00:00<00:00, 137.07it/s]\n",
      "100%|██████████| 31/31 [00:00<00:00, 151.56it/s]\n",
      "100%|██████████| 31/31 [00:00<00:00, 150.74it/s]\n",
      "100%|██████████| 31/31 [00:00<00:00, 155.89it/s]\n",
      "100%|██████████| 31/31 [00:00<00:00, 148.17it/s]\n",
      "100%|██████████| 31/31 [00:00<00:00, 141.12it/s]\n",
      "100%|██████████| 31/31 [00:00<00:00, 141.62it/s]\n",
      "100%|██████████| 31/31 [00:00<00:00, 146.74it/s]\n",
      "100%|██████████| 31/31 [00:00<00:00, 142.76it/s]\n",
      "100%|██████████| 31/31 [00:00<00:00, 140.59it/s]\n",
      "100%|██████████| 31/31 [00:00<00:00, 131.51it/s]\n",
      "100%|██████████| 31/31 [00:00<00:00, 138.07it/s]\n",
      "100%|██████████| 31/31 [00:00<00:00, 143.82it/s]\n",
      "100%|██████████| 31/31 [00:00<00:00, 133.85it/s]\n",
      "100%|██████████| 31/31 [00:00<00:00, 151.95it/s]\n"
     ]
    }
   ],
   "source": [
    "torch.manual_seed(1)\n",
    "num_epochs = 50 #hyper parametre\n",
    "#batch size hyper parameter can be changed in the dataloader in the beginning.\n",
    "\n",
    "device = torch.device(\"cuda:0\" if torch.cuda.is_available() else \"cpu\")\n",
    "print(f\">> Using device: {device}\")\n",
    "\n",
    "# move the model to the device\n",
    "ivae = ivae.to(device)\n",
    "sample_counter = 0\n",
    "# training..\n",
    "while epoch < num_epochs:\n",
    "    epoch+= 1\n",
    "    training_epoch_data = defaultdict(list)\n",
    "    ivae.train()\n",
    "    \n",
    "    # Go through each batch in the training dataset using the loader\n",
    "    # Note that y is not necessarily known as it is here\n",
    "    for sample in tqdm(train_loader):\n",
    "        sample_counter += 1\n",
    "        \n",
    "        x = sample[0]\n",
    "        x = x.to(device)\n",
    "\n",
    "        y = sample[1]#.reshape(-1,1)\n",
    "        y = y.to(device)\n",
    "\n",
    "        e = sample[2]#.reshape(-1,1)\n",
    "        e = e.to(device)\n",
    "        \n",
    "        # perform a forward pass through the model and compute the ELBO\n",
    "        optimizer.zero_grad()\n",
    "        loss, diagnostics, outputs = ivae.VariationalInference(x.float(), y.float(), e.float())\n",
    "        loss.backward()\n",
    "        optimizer.step()\n",
    "        \n",
    "        # gather data for the current bach\n",
    "        for k, v in diagnostics.items():\n",
    "            training_epoch_data[k] += [v.mean().item()]\n",
    "            \n",
    "\n",
    "    # gather data for the full epoch\n",
    "    for k, v in training_epoch_data.items():\n",
    "        training_data[k] += [np.mean(training_epoch_data[k])]\n",
    "\n",
    "    px = outputs['px']\n",
    "    samples = px.sample()\n",
    "\n",
    "    # fig, axes = plt.subplots(2,2)\n",
    "    # show_CMNIST(x[0], label=int(y[0]), environment=int(e[0]), ax = axes[0,0])\n",
    "    # show_CMNIST(samples[0], label=int(y[0]), environment=int(e[0]),  ax = axes[0,1])\n",
    "    # axes[1,0].plot(training_data['elbo'], label = \"elbo\")\n",
    "    # display(fig)\n",
    "    # clear_output(wait = True)\n",
    "\n",
    "\n",
    "    #if (epoch+1)%(num_epochs*0.1) == 0:\n",
    "        #print(\"epoch: {}: training loss: elbo = {}, kl = {}, log_px = {}, total loss = {}\".format(epoch, training_data['elbo'][epoch-1], training_data['kl'][epoch-1], training_data['log_px'][epoch-1]), loss)\n",
    "    \n",
    "    # Reproduce the figure from the begining of the notebook, plot the training curves and show latent samples\n",
    "    #make_vae_plots(ivae, x, y, outputs, training_data, validation_data)"
   ]
  },
  {
   "cell_type": "code",
   "execution_count": 36,
   "metadata": {},
   "outputs": [],
   "source": [
    "#Running model to test reconstruction on test data\n",
    "\n",
    "sample = next(iter(test_loader))\n",
    "x = sample[0]\n",
    "y = sample[1]#.reshape(-1,1)\n",
    "e = sample[2]#.reshape(-1,1)\n",
    "\n",
    "output = ivae.forward(x.float(), y.float(), e.float())\n",
    "\n",
    "px = output['px']\n",
    "samples = px.sample()\n",
    "\n",
    "# fig, axes = plt.subplots(2,2)\n",
    "\n",
    "# sample_id = 3\n",
    "# show_CMNIST(x[sample_id], label=int(y[sample_id]), environment=int(e[sample_id]), ax = axes[0,0])\n",
    "# show_CMNIST(samples[sample_id], label=int(y[sample_id]), environment=int(e[sample_id]),  ax = axes[0,1])\n",
    "# axes[1,0].plot(training_data['elbo'], label = \"elbo\")\n",
    "# fig\n"
   ]
  },
  {
   "cell_type": "markdown",
   "metadata": {},
   "source": [
    "# Phase 2 - PC algorithm based on latent variable\n",
    "\n",
    "(page 6-7)"
   ]
  },
  {
   "cell_type": "code",
   "execution_count": 37,
   "metadata": {},
   "outputs": [
    {
     "name": "stderr",
     "output_type": "stream",
     "text": [
      "No GPU automatically detected. Setting SETTINGS.GPU to 0, and SETTINGS.NJOBS to cpu_count.\n"
     ]
    },
    {
     "data": {
      "image/png": "[encoded data removed]",
      "text/plain": [
       "<Figure size 640x480 with 1 Axes>"
      ]
     },
     "metadata": {},
     "output_type": "display_data"
    }
   ],
   "source": [
    "#Dummy code for the testing of the PC algorithm to ensure the model data is prepared in the right format\n",
    "import numpy as np\n",
    "import pandas as pd\n",
    "import cdt\n",
    "cdt.SETTINGS.rpath = r'C:\\Program Files\\R\\R-4.2.2\\bin/Rscript' # this path should point to your own R implementation !\n",
    "from cdt.causality.graph import PC\n",
    "import networkx as nx\n",
    "import matplotlib.pyplot as plt\n",
    "from pandas_profiling import ProfileReport\n",
    "\n",
    "def simulate_data(n_obs):\n",
    "    '''\n",
    "    Simulate data from the following graph\n",
    "\n",
    "        A       B\n",
    "         \\     /\n",
    "          v   v\n",
    "            C\n",
    "          /   \\\n",
    "         v     v\n",
    "        D       E\n",
    "    '''\n",
    "    A = np.random.normal(size = n_obs)\n",
    "    B = np.random.normal(size = n_obs)\n",
    "    C = A + B + np.random.normal(size = n_obs)*0.25\n",
    "    D = C + np.random.normal(size = n_obs)*0.25\n",
    "    E = C + np.random.normal(size = n_obs)*0.25\n",
    "    return np.stack((A,B,C,D,E), axis =1)\n",
    "\n",
    "# generate data\n",
    "n = 10000\n",
    "data = simulate_data(n)\n",
    "\n",
    "permutation = [0,1,2,3,4]\n",
    "names = np.array([\"A\",\"B\", \"C\", \"D\", \"E\"])\n",
    "data_df = pd.DataFrame(data, columns = names)\n",
    "pc_test = PC(CItest = 'gaussian', alpha = 0.05, verbose=False).create_graph_from_data(data_df[names[permutation]])\n",
    "\n",
    "nx.draw(pc_test, with_labels=True, font_weight='bold')\n",
    "plt.show()\n",
    "\n",
    "### Implementing PC algorithm on CMNIST iVAE result ###\n",
    "#load full CMNIST dataset --- determine causal latent variables based on training data\n",
    "# -> assume ALL test data are reserved to after all training is done.\n",
    "full_dataset = ConcatDataset([cmnist_data1, cmnist_data2])"
   ]
  },
  {
   "cell_type": "markdown",
   "metadata": {},
   "source": [
    "# Phase 3 - Learning an invariant predictor (classifier, *w*) based on the causal latent variables\n",
    "\n",
    "(page 7)"
   ]
  },
  {
   "cell_type": "markdown",
   "metadata": {},
   "source": [
    "#### CLASSIFIER, *w*"
   ]
  },
  {
   "cell_type": "code",
   "execution_count": 38,
   "metadata": {},
   "outputs": [
    {
     "data": {
      "text/plain": [
       "Classifier(\n",
       "  (input_layer): Linear(in_features=3, out_features=128, bias=True)\n",
       "  (layer1): Linear(in_features=128, out_features=6, bias=True)\n",
       "  (output_layer): Linear(in_features=6, out_features=1, bias=True)\n",
       "  (relu): ReLU()\n",
       "  (sigmoid): Sigmoid()\n",
       ")"
      ]
     },
     "execution_count": 38,
     "metadata": {},
     "output_type": "execute_result"
    }
   ],
   "source": [
    "#Accuracy function from week 4:\n",
    "def accuracy(target, pred):\n",
    "    return metrics.accuracy_score(target.detach().cpu().numpy(), pred.detach().cpu().numpy())\n",
    "\n",
    "#Building a classifier:\n",
    "\n",
    "class Classifier(nn.Module):\n",
    "    def __init__(self):\n",
    "        super().__init__()\n",
    "\n",
    "        #Layers\n",
    "        self.input_layer = nn.Linear(in_features=3, out_features = 128)\n",
    "        self.layer1 = nn.Linear(in_features = 128, out_features = 6)\n",
    "        self.output_layer = nn.Linear(in_features = 6, out_features = 1)\n",
    "\n",
    "        #activation functions\n",
    "        self.relu = nn.ReLU()\n",
    "        self.sigmoid = nn.Sigmoid()\n",
    "    #forward function(self, x):\n",
    "    def forward(self, x):\n",
    "        \n",
    "        x = self.input_layer(x)\n",
    "        x = self.relu(self.layer1(x))\n",
    "        x = self.sigmoid(self.output_layer(x))\n",
    "\n",
    "        return x\n",
    "    # \n",
    "\n",
    "classifier = Classifier()\n",
    "classifier.to(device)\n",
    "\n"
   ]
  },
  {
   "cell_type": "code",
   "execution_count": 39,
   "metadata": {},
   "outputs": [
    {
     "ename": "TypeError",
     "evalue": "'int' object is not callable",
     "output_type": "error",
     "traceback": [
      "\u001b[1;31m---------------------------------------------------------------------------\u001b[0m",
      "\u001b[1;31mTypeError\u001b[0m                                 Traceback (most recent call last)",
      "Cell \u001b[1;32mIn [39], line 1\u001b[0m\n\u001b[1;32m----> 1\u001b[0m z\u001b[39m.\u001b[39;49msize()\n",
      "\u001b[1;31mTypeError\u001b[0m: 'int' object is not callable"
     ]
    }
   ],
   "source": [
    "z.size()"
   ]
  },
  {
   "cell_type": "code",
   "execution_count": 40,
   "metadata": {},
   "outputs": [
    {
     "name": "stdout",
     "output_type": "stream",
     "text": [
      "Output shape: torch.Size([128, 1])\n",
      "Output logits:\n",
      "[[0.5301521 ]\n",
      " [0.5043869 ]\n",
      " [0.61397356]\n",
      " [0.7060148 ]\n",
      " [0.60056674]\n",
      " [0.5424184 ]\n",
      " [0.5316878 ]\n",
      " [0.5946903 ]\n",
      " [0.942926  ]\n",
      " [0.5735074 ]\n",
      " [0.60542023]\n",
      " [0.53803664]\n",
      " [0.6611746 ]\n",
      " [0.514313  ]\n",
      " [0.5388354 ]\n",
      " [0.53876317]\n",
      " [0.84038675]\n",
      " [0.5705461 ]\n",
      " [0.54856753]\n",
      " [0.50848085]\n",
      " [0.704567  ]\n",
      " [0.6372749 ]\n",
      " [0.54427767]\n",
      " [0.57476264]\n",
      " [0.60149616]\n",
      " [0.6112831 ]\n",
      " [0.75962603]\n",
      " [0.5240507 ]\n",
      " [0.62553096]\n",
      " [0.5727918 ]\n",
      " [0.6737849 ]\n",
      " [0.52320427]\n",
      " [0.54104227]\n",
      " [0.6090754 ]\n",
      " [0.6731501 ]\n",
      " [0.65733075]\n",
      " [0.7672802 ]\n",
      " [0.76500547]\n",
      " [0.6663788 ]\n",
      " [0.54789865]\n",
      " [0.8858766 ]\n",
      " [0.61353034]\n",
      " [0.48720682]\n",
      " [0.56760585]\n",
      " [0.87985945]\n",
      " [0.7263452 ]\n",
      " [0.61836946]\n",
      " [0.80690575]\n",
      " [0.5742341 ]\n",
      " [0.79733443]\n",
      " [0.78937966]\n",
      " [0.8852978 ]\n",
      " [0.7456879 ]\n",
      " [0.8647101 ]\n",
      " [0.8766811 ]\n",
      " [0.53404766]\n",
      " [0.8567268 ]\n",
      " [0.8948635 ]\n",
      " [0.4891716 ]\n",
      " [0.9162819 ]\n",
      " [0.63441116]\n",
      " [0.6405508 ]\n",
      " [0.53382313]\n",
      " [0.529927  ]\n",
      " [0.5813592 ]\n",
      " [0.53481853]\n",
      " [0.6073409 ]\n",
      " [0.87306684]\n",
      " [0.50774914]\n",
      " [0.87252945]\n",
      " [0.5254866 ]\n",
      " [0.5359347 ]\n",
      " [0.711255  ]\n",
      " [0.61750394]\n",
      " [0.7158721 ]\n",
      " [0.8991013 ]\n",
      " [0.63482606]\n",
      " [0.5389524 ]\n",
      " [0.55358475]\n",
      " [0.67212445]\n",
      " [0.61733776]\n",
      " [0.73104155]\n",
      " [0.6567516 ]\n",
      " [0.5843446 ]\n",
      " [0.49085706]\n",
      " [0.5781928 ]\n",
      " [0.6242559 ]\n",
      " [0.5629764 ]\n",
      " [0.6650838 ]\n",
      " [0.5610195 ]\n",
      " [0.5348669 ]\n",
      " [0.81808335]\n",
      " [0.780868  ]\n",
      " [0.51536447]\n",
      " [0.5562185 ]\n",
      " [0.53395027]\n",
      " [0.50640994]\n",
      " [0.53847754]\n",
      " [0.83318913]\n",
      " [0.5107108 ]\n",
      " [0.78217053]\n",
      " [0.65411574]\n",
      " [0.5283778 ]\n",
      " [0.56457466]\n",
      " [0.7273985 ]\n",
      " [0.57045466]\n",
      " [0.6694382 ]\n",
      " [0.5148948 ]\n",
      " [0.7705138 ]\n",
      " [0.5408614 ]\n",
      " [0.6104866 ]\n",
      " [0.613585  ]\n",
      " [0.5006213 ]\n",
      " [0.8720409 ]\n",
      " [0.54502684]\n",
      " [0.6230717 ]\n",
      " [0.5422428 ]\n",
      " [0.72611964]\n",
      " [0.6998366 ]\n",
      " [0.5080391 ]\n",
      " [0.6575147 ]\n",
      " [0.79883486]\n",
      " [0.6995961 ]\n",
      " [0.72677654]\n",
      " [0.5588236 ]\n",
      " [0.7163963 ]\n",
      " [0.53717625]\n",
      " [0.5498121 ]]\n"
     ]
    }
   ],
   "source": [
    "import torch.optim as optim\n",
    "from sklearn import metrics\n",
    "\n",
    "#Define loss function\n",
    "loss_fn = nn.MSELoss() \n",
    "#The adam algorithm automatically use momentum\n",
    "optimizer = optim.Adam(classifier.parameters(), lr = 1e-3) \n",
    "\n",
    "#Test model\n",
    "z = output['z']\n",
    "out = classifier(z)\n",
    "print(\"Output shape:\", out.size())\n",
    "print(f\"Output logits:\\n{out.detach().cpu().numpy()}\")"
   ]
  },
  {
   "cell_type": "code",
   "execution_count": 41,
   "metadata": {},
   "outputs": [
    {
     "name": "stdout",
     "output_type": "stream",
     "text": [
      ">> Using device: cpu\n"
     ]
    },
    {
     "name": "stderr",
     "output_type": "stream",
     "text": [
      "100%|██████████| 31/31 [00:00<00:00, 202.02it/s]\n",
      "Creating a tensor from a list of numpy.ndarrays is extremely slow. Please consider converting the list to a single numpy.ndarray with numpy.array() before converting to a tensor. (Triggered internally at C:\\cb\\pytorch_1000000000000\\work\\torch\\csrc\\utils\\tensor_new.cpp:233.)\n"
     ]
    },
    {
     "name": "stdout",
     "output_type": "stream",
     "text": [
      "Epoch  1 : , Train acc 76.782745, Valid acc 75.434036\n"
     ]
    },
    {
     "name": "stderr",
     "output_type": "stream",
     "text": [
      "100%|██████████| 31/31 [00:00<00:00, 240.10it/s]\n"
     ]
    },
    {
     "name": "stdout",
     "output_type": "stream",
     "text": [
      "Epoch  2 : , Train acc 75.904373, Valid acc 74.562630\n"
     ]
    },
    {
     "name": "stderr",
     "output_type": "stream",
     "text": [
      "100%|██████████| 31/31 [00:00<00:00, 247.28it/s]\n"
     ]
    },
    {
     "name": "stdout",
     "output_type": "stream",
     "text": [
      "Epoch  3 : , Train acc 75.547043, Valid acc 74.232941\n"
     ]
    },
    {
     "name": "stderr",
     "output_type": "stream",
     "text": [
      "100%|██████████| 31/31 [00:00<00:00, 241.09it/s]\n"
     ]
    },
    {
     "name": "stdout",
     "output_type": "stream",
     "text": [
      "Epoch  4 : , Train acc 75.374603, Valid acc 74.072472\n"
     ]
    },
    {
     "name": "stderr",
     "output_type": "stream",
     "text": [
      "100%|██████████| 31/31 [00:00<00:00, 268.97it/s]\n"
     ]
    },
    {
     "name": "stdout",
     "output_type": "stream",
     "text": [
      "Epoch  5 : , Train acc 75.298988, Valid acc 74.012253\n"
     ]
    },
    {
     "name": "stderr",
     "output_type": "stream",
     "text": [
      "100%|██████████| 31/31 [00:00<00:00, 280.07it/s]\n"
     ]
    },
    {
     "name": "stdout",
     "output_type": "stream",
     "text": [
      "Epoch  6 : , Train acc 75.261139, Valid acc 73.967529\n"
     ]
    },
    {
     "name": "stderr",
     "output_type": "stream",
     "text": [
      "100%|██████████| 31/31 [00:00<00:00, 294.76it/s]\n"
     ]
    },
    {
     "name": "stdout",
     "output_type": "stream",
     "text": [
      "Epoch  7 : , Train acc 75.242561, Valid acc 73.949272\n"
     ]
    },
    {
     "name": "stderr",
     "output_type": "stream",
     "text": [
      "100%|██████████| 31/31 [00:00<00:00, 274.24it/s]\n"
     ]
    },
    {
     "name": "stdout",
     "output_type": "stream",
     "text": [
      "Epoch  8 : , Train acc 75.230225, Valid acc 73.936462\n"
     ]
    },
    {
     "name": "stderr",
     "output_type": "stream",
     "text": [
      "100%|██████████| 31/31 [00:00<00:00, 292.98it/s]\n"
     ]
    },
    {
     "name": "stdout",
     "output_type": "stream",
     "text": [
      "Epoch  9 : , Train acc 75.220505, Valid acc 73.927155\n"
     ]
    },
    {
     "name": "stderr",
     "output_type": "stream",
     "text": [
      "100%|██████████| 31/31 [00:00<00:00, 282.40it/s]\n"
     ]
    },
    {
     "name": "stdout",
     "output_type": "stream",
     "text": [
      "Epoch 10 : , Train acc 75.215820, Valid acc 73.921242\n"
     ]
    },
    {
     "name": "stderr",
     "output_type": "stream",
     "text": [
      "100%|██████████| 31/31 [00:00<00:00, 284.50it/s]\n"
     ]
    },
    {
     "name": "stdout",
     "output_type": "stream",
     "text": [
      "Epoch 11 : , Train acc 75.210594, Valid acc 73.916908\n"
     ]
    },
    {
     "name": "stderr",
     "output_type": "stream",
     "text": [
      "100%|██████████| 31/31 [00:00<00:00, 303.49it/s]\n"
     ]
    },
    {
     "name": "stdout",
     "output_type": "stream",
     "text": [
      "Epoch 12 : , Train acc 75.206734, Valid acc 73.913483\n"
     ]
    },
    {
     "name": "stderr",
     "output_type": "stream",
     "text": [
      "100%|██████████| 31/31 [00:00<00:00, 256.70it/s]\n"
     ]
    },
    {
     "name": "stdout",
     "output_type": "stream",
     "text": [
      "Epoch 13 : , Train acc 75.203186, Valid acc 73.911263\n"
     ]
    },
    {
     "name": "stderr",
     "output_type": "stream",
     "text": [
      "100%|██████████| 31/31 [00:00<00:00, 283.92it/s]\n"
     ]
    },
    {
     "name": "stdout",
     "output_type": "stream",
     "text": [
      "Epoch 14 : , Train acc 75.202484, Valid acc 73.908775\n"
     ]
    },
    {
     "name": "stderr",
     "output_type": "stream",
     "text": [
      "100%|██████████| 31/31 [00:00<00:00, 274.72it/s]\n"
     ]
    },
    {
     "name": "stdout",
     "output_type": "stream",
     "text": [
      "Epoch 15 : , Train acc 75.200928, Valid acc 73.907005\n"
     ]
    },
    {
     "name": "stderr",
     "output_type": "stream",
     "text": [
      "100%|██████████| 31/31 [00:00<00:00, 290.06it/s]\n"
     ]
    },
    {
     "name": "stdout",
     "output_type": "stream",
     "text": [
      "Epoch 16 : , Train acc 75.199394, Valid acc 73.906227\n"
     ]
    },
    {
     "name": "stderr",
     "output_type": "stream",
     "text": [
      "100%|██████████| 31/31 [00:00<00:00, 280.17it/s]\n"
     ]
    },
    {
     "name": "stdout",
     "output_type": "stream",
     "text": [
      "Epoch 17 : , Train acc 75.198471, Valid acc 73.905258\n"
     ]
    },
    {
     "name": "stderr",
     "output_type": "stream",
     "text": [
      "100%|██████████| 31/31 [00:00<00:00, 276.66it/s]\n"
     ]
    },
    {
     "name": "stdout",
     "output_type": "stream",
     "text": [
      "Epoch 18 : , Train acc 75.197502, Valid acc 73.904144\n"
     ]
    },
    {
     "name": "stderr",
     "output_type": "stream",
     "text": [
      "100%|██████████| 31/31 [00:00<00:00, 254.96it/s]\n"
     ]
    },
    {
     "name": "stdout",
     "output_type": "stream",
     "text": [
      "Epoch 19 : , Train acc 75.196365, Valid acc 73.903381\n"
     ]
    },
    {
     "name": "stderr",
     "output_type": "stream",
     "text": [
      "100%|██████████| 31/31 [00:00<00:00, 268.20it/s]\n"
     ]
    },
    {
     "name": "stdout",
     "output_type": "stream",
     "text": [
      "Epoch 20 : , Train acc 75.196091, Valid acc 73.903046\n"
     ]
    },
    {
     "name": "stderr",
     "output_type": "stream",
     "text": [
      "100%|██████████| 31/31 [00:00<00:00, 265.90it/s]\n"
     ]
    },
    {
     "name": "stdout",
     "output_type": "stream",
     "text": [
      "Epoch 21 : , Train acc 75.195740, Valid acc 73.902504\n"
     ]
    },
    {
     "name": "stderr",
     "output_type": "stream",
     "text": [
      "100%|██████████| 31/31 [00:00<00:00, 279.66it/s]\n"
     ]
    },
    {
     "name": "stdout",
     "output_type": "stream",
     "text": [
      "Epoch 22 : , Train acc 75.195076, Valid acc 73.902176\n"
     ]
    },
    {
     "name": "stderr",
     "output_type": "stream",
     "text": [
      "100%|██████████| 31/31 [00:00<00:00, 288.15it/s]\n"
     ]
    },
    {
     "name": "stdout",
     "output_type": "stream",
     "text": [
      "Epoch 23 : , Train acc 75.194778, Valid acc 73.901810\n"
     ]
    },
    {
     "name": "stderr",
     "output_type": "stream",
     "text": [
      "100%|██████████| 31/31 [00:00<00:00, 270.54it/s]\n"
     ]
    },
    {
     "name": "stdout",
     "output_type": "stream",
     "text": [
      "Epoch 24 : , Train acc 75.194489, Valid acc 73.901283\n"
     ]
    },
    {
     "name": "stderr",
     "output_type": "stream",
     "text": [
      "100%|██████████| 31/31 [00:00<00:00, 269.41it/s]\n"
     ]
    },
    {
     "name": "stdout",
     "output_type": "stream",
     "text": [
      "Epoch 25 : , Train acc 75.194382, Valid acc 73.901070\n"
     ]
    },
    {
     "name": "stderr",
     "output_type": "stream",
     "text": [
      "100%|██████████| 31/31 [00:00<00:00, 298.69it/s]\n"
     ]
    },
    {
     "name": "stdout",
     "output_type": "stream",
     "text": [
      "Epoch 26 : , Train acc 75.194023, Valid acc 73.900749\n"
     ]
    },
    {
     "name": "stderr",
     "output_type": "stream",
     "text": [
      "100%|██████████| 31/31 [00:00<00:00, 284.18it/s]\n"
     ]
    },
    {
     "name": "stdout",
     "output_type": "stream",
     "text": [
      "Epoch 27 : , Train acc 75.193558, Valid acc 73.900383\n"
     ]
    },
    {
     "name": "stderr",
     "output_type": "stream",
     "text": [
      "100%|██████████| 31/31 [00:00<00:00, 311.32it/s]\n"
     ]
    },
    {
     "name": "stdout",
     "output_type": "stream",
     "text": [
      "Epoch 28 : , Train acc 75.193466, Valid acc 73.900246\n"
     ]
    },
    {
     "name": "stderr",
     "output_type": "stream",
     "text": [
      "100%|██████████| 31/31 [00:00<00:00, 325.26it/s]\n"
     ]
    },
    {
     "name": "stdout",
     "output_type": "stream",
     "text": [
      "Epoch 29 : , Train acc 75.193245, Valid acc 73.900208\n"
     ]
    },
    {
     "name": "stderr",
     "output_type": "stream",
     "text": [
      "100%|██████████| 31/31 [00:00<00:00, 362.60it/s]\n"
     ]
    },
    {
     "name": "stdout",
     "output_type": "stream",
     "text": [
      "Epoch 30 : , Train acc 75.193130, Valid acc 73.899963\n"
     ]
    },
    {
     "name": "stderr",
     "output_type": "stream",
     "text": [
      "100%|██████████| 31/31 [00:00<00:00, 377.97it/s]\n"
     ]
    },
    {
     "name": "stdout",
     "output_type": "stream",
     "text": [
      "Epoch 31 : , Train acc 75.192947, Valid acc 73.899796\n"
     ]
    },
    {
     "name": "stderr",
     "output_type": "stream",
     "text": [
      "100%|██████████| 31/31 [00:00<00:00, 371.04it/s]\n"
     ]
    },
    {
     "name": "stdout",
     "output_type": "stream",
     "text": [
      "Epoch 32 : , Train acc 75.192848, Valid acc 73.899719\n"
     ]
    },
    {
     "name": "stderr",
     "output_type": "stream",
     "text": [
      "100%|██████████| 31/31 [00:00<00:00, 371.04it/s]\n"
     ]
    },
    {
     "name": "stdout",
     "output_type": "stream",
     "text": [
      "Epoch 33 : , Train acc 75.192619, Valid acc 73.899544\n"
     ]
    },
    {
     "name": "stderr",
     "output_type": "stream",
     "text": [
      "100%|██████████| 31/31 [00:00<00:00, 362.37it/s]\n"
     ]
    },
    {
     "name": "stdout",
     "output_type": "stream",
     "text": [
      "Epoch 34 : , Train acc 75.192619, Valid acc 73.899399\n"
     ]
    },
    {
     "name": "stderr",
     "output_type": "stream",
     "text": [
      "100%|██████████| 31/31 [00:00<00:00, 375.47it/s]\n"
     ]
    },
    {
     "name": "stdout",
     "output_type": "stream",
     "text": [
      "Epoch 35 : , Train acc 75.192482, Valid acc 73.899368\n"
     ]
    },
    {
     "name": "stderr",
     "output_type": "stream",
     "text": [
      "100%|██████████| 31/31 [00:00<00:00, 399.68it/s]\n"
     ]
    },
    {
     "name": "stdout",
     "output_type": "stream",
     "text": [
      "Epoch 36 : , Train acc 75.192406, Valid acc 73.899284\n"
     ]
    },
    {
     "name": "stderr",
     "output_type": "stream",
     "text": [
      "100%|██████████| 31/31 [00:00<00:00, 362.31it/s]\n"
     ]
    },
    {
     "name": "stdout",
     "output_type": "stream",
     "text": [
      "Epoch 37 : , Train acc 75.192238, Valid acc 73.899170\n"
     ]
    },
    {
     "name": "stderr",
     "output_type": "stream",
     "text": [
      "100%|██████████| 31/31 [00:00<00:00, 380.08it/s]"
     ]
    },
    {
     "name": "stdout",
     "output_type": "stream",
     "text": [
      "Epoch 38 : , Train acc 75.192200, Valid acc 73.899094\n"
     ]
    },
    {
     "name": "stderr",
     "output_type": "stream",
     "text": [
      "\n",
      "100%|██████████| 31/31 [00:00<00:00, 362.30it/s]\n"
     ]
    },
    {
     "name": "stdout",
     "output_type": "stream",
     "text": [
      "Epoch 39 : , Train acc 75.192101, Valid acc 73.898979\n"
     ]
    },
    {
     "name": "stderr",
     "output_type": "stream",
     "text": [
      "100%|██████████| 31/31 [00:00<00:00, 371.28it/s]\n"
     ]
    },
    {
     "name": "stdout",
     "output_type": "stream",
     "text": [
      "Epoch 40 : , Train acc 75.192047, Valid acc 73.898926\n"
     ]
    },
    {
     "name": "stderr",
     "output_type": "stream",
     "text": [
      "100%|██████████| 31/31 [00:00<00:00, 375.47it/s]\n"
     ]
    },
    {
     "name": "stdout",
     "output_type": "stream",
     "text": [
      "Epoch 41 : , Train acc 75.192047, Valid acc 73.898872\n"
     ]
    },
    {
     "name": "stderr",
     "output_type": "stream",
     "text": [
      "100%|██████████| 31/31 [00:00<00:00, 364.30it/s]\n"
     ]
    },
    {
     "name": "stdout",
     "output_type": "stream",
     "text": [
      "Epoch 42 : , Train acc 75.191910, Valid acc 73.898857\n"
     ]
    },
    {
     "name": "stderr",
     "output_type": "stream",
     "text": [
      "100%|██████████| 31/31 [00:00<00:00, 384.76it/s]\n"
     ]
    },
    {
     "name": "stdout",
     "output_type": "stream",
     "text": [
      "Epoch 43 : , Train acc 75.191887, Valid acc 73.898811\n"
     ]
    },
    {
     "name": "stderr",
     "output_type": "stream",
     "text": [
      "100%|██████████| 31/31 [00:00<00:00, 343.95it/s]\n"
     ]
    },
    {
     "name": "stdout",
     "output_type": "stream",
     "text": [
      "Epoch 44 : , Train acc 75.191788, Valid acc 73.898796\n"
     ]
    },
    {
     "name": "stderr",
     "output_type": "stream",
     "text": [
      "100%|██████████| 31/31 [00:00<00:00, 361.94it/s]\n"
     ]
    },
    {
     "name": "stdout",
     "output_type": "stream",
     "text": [
      "Epoch 45 : , Train acc 75.191734, Valid acc 73.898712\n"
     ]
    },
    {
     "name": "stderr",
     "output_type": "stream",
     "text": [
      "100%|██████████| 31/31 [00:00<00:00, 404.34it/s]\n"
     ]
    },
    {
     "name": "stdout",
     "output_type": "stream",
     "text": [
      "Epoch 46 : , Train acc 75.191757, Valid acc 73.898659\n"
     ]
    },
    {
     "name": "stderr",
     "output_type": "stream",
     "text": [
      "100%|██████████| 31/31 [00:00<00:00, 442.69it/s]\n"
     ]
    },
    {
     "name": "stdout",
     "output_type": "stream",
     "text": [
      "Epoch 47 : , Train acc 75.191689, Valid acc 73.898621\n"
     ]
    },
    {
     "name": "stderr",
     "output_type": "stream",
     "text": [
      "100%|██████████| 31/31 [00:00<00:00, 409.79it/s]\n"
     ]
    },
    {
     "name": "stdout",
     "output_type": "stream",
     "text": [
      "Epoch 48 : , Train acc 75.191673, Valid acc 73.898590\n"
     ]
    },
    {
     "name": "stderr",
     "output_type": "stream",
     "text": [
      "100%|██████████| 31/31 [00:00<00:00, 413.07it/s]\n"
     ]
    },
    {
     "name": "stdout",
     "output_type": "stream",
     "text": [
      "Epoch 49 : , Train acc 75.191628, Valid acc 73.898514\n"
     ]
    },
    {
     "name": "stderr",
     "output_type": "stream",
     "text": [
      "100%|██████████| 31/31 [00:00<00:00, 409.14it/s]\n"
     ]
    },
    {
     "name": "stdout",
     "output_type": "stream",
     "text": [
      "Epoch 50 : , Train acc 75.191582, Valid acc 73.898499\n"
     ]
    },
    {
     "data": {
      "image/png": "[encoded data removed]",
      "text/plain": [
       "<Figure size 640x480 with 1 Axes>"
      ]
     },
     "metadata": {},
     "output_type": "display_data"
    }
   ],
   "source": [
    "#Set iVAE to eval - the no.grad thing is not an issue as we are only using the encoder.\n",
    "ivae.eval()\n",
    "\n",
    "#TRAINING THE CLASSIFIER\n",
    "epoch = 0\n",
    "num_epochs = 50 #hyper parametre\n",
    "#batch size hyper parameter can be changed in the dataloader in the beginning.\n",
    "\n",
    "device = torch.device(\"cuda:0\" if torch.cuda.is_available() else \"cpu\")\n",
    "print(f\">> Using device: {device}\")\n",
    "\n",
    "# training..\n",
    "training_epoch_data = []\n",
    "test_epoch_data = []\n",
    "test_acc, train_acc = [], []\n",
    "\n",
    "while epoch < num_epochs:\n",
    "    epoch+= 1\n",
    "    training_batch_data = []\n",
    "    test_batch_data = []\n",
    "    classifier.train()\n",
    "    \n",
    "    # Go through each batch in the training dataset using the loader\n",
    "    # Note that y is not necessarily known as it is here\n",
    "    for sample in tqdm(train_loader):\n",
    "        x = sample[0]\n",
    "        x = x.to(device)\n",
    "\n",
    "        y = sample[1].to(torch.float32)\n",
    "        y = y.to(device)\n",
    "\n",
    "        e = sample[2].to(torch.float32)\n",
    "        e = e.to(device)\n",
    "        \n",
    "        # perform a forward pass through the model and compute the ELBO\n",
    "        qz = ivae.posterior(x.float(),y.float(), e.float())\n",
    "        z = qz.rsample()\n",
    "\n",
    "        #Get classification prediction\n",
    "        output = classifier(z)#.view(-1)\n",
    "\n",
    "        loss = loss_fn(output, y)\n",
    "\n",
    "        optimizer.zero_grad()\n",
    "        loss.backward()\n",
    "        optimizer.step()\n",
    "        \n",
    "        # gather data for the current batch\n",
    "        training_batch_data.append(loss)\n",
    "            \n",
    "\n",
    "    # gather data for the full epoch\n",
    "    training_epoch_data.append(torch.tensor(training_batch_data).mean())\n",
    "\n",
    "    # Evaluate on a single batch, do not propagate gradients\n",
    "    # with torch.no_grad():\n",
    "    #     classifier.eval()\n",
    "        \n",
    "    #     # Just load a single batch from the test loader\n",
    "    #     sample = next(iter(test_loader))\n",
    "    #     x = sample['image']\n",
    "    #     y = sample['label'].to(torch.float32)\n",
    "    #     x = x.to(device)\n",
    "    #     y = y.to(device)\n",
    "        \n",
    "    #     # perform a forward pass through the model and compute the ELBO\n",
    "    #     qz = vae.posterior(x)\n",
    "    #     z = qz.rsample()\n",
    "    #     output = classifier(z)\n",
    "        \n",
    "    #     # gather data for the validation step\n",
    "    #     test_batch_data.append(loss)\n",
    "    #     test_epoch_data.append(torch.tensor(training_batch_data).mean())\n",
    "    #     print(\"Epoch: {}, Mean epoch loss: {}\".format(epoch, torch.tensor(training_batch_data).mean()))\n",
    "\n",
    "    #Evaluate training\n",
    "    with torch.no_grad():\n",
    "        classifier.eval()\n",
    "        train_targs, train_preds = [], []\n",
    "        for sample in train_loader:\n",
    "            x = sample[0]\n",
    "            x = x.to(device)\n",
    "\n",
    "            y = sample[1]\n",
    "            y = y.to(device)\n",
    "\n",
    "            e = sample[2]\n",
    "            e = e.to(device)\n",
    "            \n",
    "            # perform a forward pass through the model and compute the ELBO\n",
    "            qz = ivae.posterior(x.float(),y.float(), e.float())\n",
    "            z = qz.rsample()\n",
    "\n",
    "            #Get classification prediction\n",
    "            output = classifier(z)#.view(-1)\n",
    "            prediction = output\n",
    "\n",
    "            train_targs += list(y.numpy())\n",
    "            train_preds += list(prediction.data.numpy())\n",
    "\n",
    "        #Evaluating validation\n",
    "        val_targs, val_preds = [], []\n",
    "        for sample in test_loader:\n",
    "            x = sample[0]\n",
    "            x = x.to(device)\n",
    "\n",
    "            y = sample[1]\n",
    "            y = y.to(device)\n",
    "\n",
    "            e = sample[2]\n",
    "            e = e.to(device)\n",
    "            \n",
    "            # perform a forward pass through the model and compute the ELBO\n",
    "            qz = ivae.posterior(x.float(),y.float(), e.float())\n",
    "            z = qz.rsample()\n",
    "\n",
    "            #Get classification prediction\n",
    "            output = classifier(z)#.view(-1)\n",
    "            prediction = output\n",
    "\n",
    "            val_targs += list(y.numpy())\n",
    "            val_preds += list(prediction.data.numpy())\n",
    "\n",
    "    train_acc_cur = loss_fn(Tensor(train_targs),Tensor(train_preds))\n",
    "    train_acc.append(train_acc_cur)\n",
    "\n",
    "    test_acc_cur = loss_fn(Tensor(val_targs),Tensor(val_preds))\n",
    "    test_acc.append(test_acc_cur)\n",
    "    print(\"Epoch %2i : , Train acc %f, Valid acc %f\" % (\n",
    "                epoch, train_acc_cur, test_acc_cur))\n",
    "\n",
    "epoch = np.arange(len(train_acc))\n",
    "plt.figure()\n",
    "plt.plot(epoch, train_acc, 'r', epoch, test_acc, 'b')\n",
    "plt.legend(['Train Accucary','Validation Accuracy'])\n",
    "plt.xlabel('Updates'), plt.ylabel('Acc')\n",
    "plt.show()"
   ]
  },
  {
   "cell_type": "code",
   "execution_count": 45,
   "metadata": {},
   "outputs": [
    {
     "data": {
      "image/png": "[encoded data removed]",
      "text/plain": [
       "<Figure size 640x480 with 1 Axes>"
      ]
     },
     "metadata": {},
     "output_type": "display_data"
    }
   ],
   "source": [
    "import matplotlib.pyplot as plt\n",
    "plt.plot(train_acc_cur)\n",
    "plt.show()\n"
   ]
  },
  {
   "cell_type": "code",
   "execution_count": 42,
   "metadata": {},
   "outputs": [
    {
     "data": {
      "text/plain": [
       "<matplotlib.collections.PathCollection at 0x267884d7cd0>"
      ]
     },
     "execution_count": 42,
     "metadata": {},
     "output_type": "execute_result"
    }
   ],
   "source": [
    "colors = np.array([\"r\", \"g\", \"b\", \"y\"])\n",
    "plt.scatter(Z[:,0], Z[:,1], c=colors[envs.astype(int)-1])"
   ]
  },
  {
   "cell_type": "code",
   "execution_count": 49,
   "metadata": {},
   "outputs": [
    {
     "ename": "AttributeError",
     "evalue": "'str' object has no attribute 'detach'",
     "output_type": "error",
     "traceback": [
      "\u001b[1;31m---------------------------------------------------------------------------\u001b[0m",
      "\u001b[1;31mAttributeError\u001b[0m                            Traceback (most recent call last)",
      "Cell \u001b[1;32mIn [49], line 8\u001b[0m\n\u001b[0;32m      6\u001b[0m \u001b[39mfor\u001b[39;00m x,y,e \u001b[39min\u001b[39;00m train_loader:\n\u001b[0;32m      7\u001b[0m     _,_,z \u001b[39m=\u001b[39m ivae\u001b[39m.\u001b[39mforward(x\u001b[39m.\u001b[39mfloat(), y\u001b[39m.\u001b[39mfloat(), e\u001b[39m.\u001b[39mfloat())\n\u001b[1;32m----> 8\u001b[0m     latent_variables[i\u001b[39m*\u001b[39m\u001b[39m128\u001b[39m:i\u001b[39m*\u001b[39m\u001b[39m128\u001b[39m\u001b[39m+\u001b[39m\u001b[39m128\u001b[39m,:] \u001b[39m=\u001b[39m z\u001b[39m.\u001b[39;49mdetach()\n\u001b[0;32m      9\u001b[0m     envs_samp[i\u001b[39m*\u001b[39m\u001b[39m128\u001b[39m:i\u001b[39m*\u001b[39m\u001b[39m128\u001b[39m\u001b[39m+\u001b[39m\u001b[39m128\u001b[39m,:] \u001b[39m=\u001b[39m e\u001b[39m.\u001b[39msqueeze()\u001b[39m.\u001b[39mnumpy()\u001b[39m.\u001b[39mastype(\u001b[39mint\u001b[39m)\n\u001b[0;32m     10\u001b[0m     i\u001b[39m+\u001b[39m\u001b[39m=\u001b[39m\u001b[39m1\u001b[39m\n",
      "\u001b[1;31mAttributeError\u001b[0m: 'str' object has no attribute 'detach'"
     ]
    }
   ],
   "source": [
    "# get z\n",
    "loader = test_loader\n",
    "latent_variables = torch.zeros((len(train_loader)*128, 2))\n",
    "envs_samp = np.zeros((len(train_loader)*128, 4))\n",
    "i = 0\n",
    "for x,y,e in train_loader:\n",
    "    _,_,z = ivae.forward(x.float(), y.float(), e.float())\n",
    "    latent_variables[i*128:i*128+128,:] = z.detach()\n",
    "    envs_samp[i*128:i*128+128,:] = e.squeeze().numpy().astype(int)\n",
    "    i+=1"
   ]
  },
  {
   "cell_type": "code",
   "execution_count": null,
   "metadata": {},
   "outputs": [],
   "source": []
  }
 ],
 "metadata": {
  "kernelspec": {
   "display_name": "Python 3.10.8 ('02456')",
   "language": "python",
   "name": "python3"
  },
  "language_info": {
   "codemirror_mode": {
    "name": "ipython",
    "version": 3
   },
   "file_extension": ".py",
   "mimetype": "text/x-python",
   "name": "python",
   "nbconvert_exporter": "python",
   "pygments_lexer": "ipython3",
   "version": "3.10.8"
  },
  "vscode": {
   "interpreter": {
    "hash": "933f3aa8d9c429c2eee70035fa174da68e619e4a97d7c59a5ea775702747c954"
   }
  }
 },
 "nbformat": 4,
 "nbformat_minor": 4
}
